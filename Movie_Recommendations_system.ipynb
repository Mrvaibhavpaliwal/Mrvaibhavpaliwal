{
  "cells": [
    {
      "cell_type": "markdown",
      "metadata": {
        "id": "view-in-github",
        "colab_type": "text"
      },
      "source": [
        "<a href=\"https://colab.research.google.com/github/Mrvaibhavpaliwal/Mrvaibhavpaliwal/blob/main/Movie_Recommendations_system.ipynb\" target=\"_parent\"><img src=\"https://colab.research.google.com/assets/colab-badge.svg\" alt=\"Open In Colab\"/></a>"
      ]
    },
    {
      "cell_type": "markdown",
      "metadata": {
        "id": "CY0jJMyJfI3x"
      },
      "source": [
        "# **Movie Recommendation System**"
      ]
    },
    {
      "cell_type": "markdown",
      "metadata": {
        "id": "hy7CwTpMfaKR"
      },
      "source": [
        "**Recommender System:** A recommender system is a system that aims to provide personalized suggestions or ratings based on the user's preferences. Recommender systems are widely used in various domains such as movies, music, news, books, research articles, search queries, social tags, and products in general. Recommender systems generate a list of recommendations using one of the two methods -\n",
        "\n",
        "**Collaborative filtering:** By analyzing the user's previous actions (I.e. What items they bought or looked for) and the choices of other users who are similar to them, collaborative filtering approaches create a model. This model can then suggest items (or ratings for items) that users might like or want.\n",
        "\n",
        "**Content-based filtering:** A basic recommendation system can be developed using Python and Pandas by applying content-based filtering methods. These methods rely on a description of the item and a profile of the user's preferences, which are based on the user's previous choices. Content-based filtering methods use discrete characteristics of an item to suggest other items with similar properties.\n",
        "\n",
        "Let's develop a basic recommendation system by suggesting items that are most similar to a particular item, in this case, movies. It just tells\n",
        "what movies/items are most similar to the user's movie choice."
      ]
    },
    {
      "cell_type": "markdown",
      "metadata": {
        "id": "rWzzzQOCiNt2"
      },
      "source": [
        "**Import Library**\n",
        "\n",
        "\n",
        "\n",
        "\n",
        "\n"
      ]
    },
    {
      "cell_type": "code",
      "execution_count": 1,
      "metadata": {
        "id": "kXSOHIQHe67J"
      },
      "outputs": [],
      "source": [
        "import pandas as pd"
      ]
    },
    {
      "cell_type": "code",
      "execution_count": 2,
      "metadata": {
        "id": "3mobfIRViD9n"
      },
      "outputs": [],
      "source": [
        "import numpy as np"
      ]
    },
    {
      "cell_type": "markdown",
      "metadata": {
        "id": "0SKsPPy2id-u"
      },
      "source": [
        "**Import Dataset**"
      ]
    },
    {
      "cell_type": "code",
      "execution_count": 3,
      "metadata": {
        "id": "CT2Lkh1HiMB0"
      },
      "outputs": [],
      "source": [
        "df = pd.read_csv(r'https://raw.githubusercontent.com/YBI-Foundation/Dataset/main/Movies%20Recommendation.csv')"
      ]
    },
    {
      "cell_type": "code",
      "execution_count": 4,
      "metadata": {
        "colab": {
          "base_uri": "https://localhost:8080/",
          "height": 672
        },
        "id": "nNeFaXHAkpr9",
        "outputId": "fb14bdf0-2e71-4304-c36d-6e1c5388eba8"
      },
      "outputs": [
        {
          "output_type": "execute_result",
          "data": {
            "text/plain": [
              "   Movie_ID      Movie_Title                       Movie_Genre Movie_Language  \\\n",
              "0         1       Four Rooms                      Crime Comedy             en   \n",
              "1         2        Star Wars  Adventure Action Science Fiction             en   \n",
              "2         3     Finding Nemo                  Animation Family             en   \n",
              "3         4     Forrest Gump              Comedy Drama Romance             en   \n",
              "4         5  American Beauty                             Drama             en   \n",
              "\n",
              "   Movie_Budget  Movie_Popularity Movie_Release_Date  Movie_Revenue  \\\n",
              "0       4000000         22.876230         09-12-1995        4300000   \n",
              "1      11000000        126.393695         25-05-1977      775398007   \n",
              "2      94000000         85.688789         30-05-2003      940335536   \n",
              "3      55000000        138.133331         06-07-1994      677945399   \n",
              "4      15000000         80.878605         15-09-1999      356296601   \n",
              "\n",
              "   Movie_Runtime  Movie_Vote  ...  \\\n",
              "0           98.0         6.5  ...   \n",
              "1          121.0         8.1  ...   \n",
              "2          100.0         7.6  ...   \n",
              "3          142.0         8.2  ...   \n",
              "4          122.0         7.9  ...   \n",
              "\n",
              "                                      Movie_Homepage  \\\n",
              "0                                                NaN   \n",
              "1  http://www.starwars.com/films/star-wars-episod...   \n",
              "2              http://movies.disney.com/finding-nemo   \n",
              "3                                                NaN   \n",
              "4                      http://www.dreamworks.com/ab/   \n",
              "\n",
              "                                      Movie_Keywords  \\\n",
              "0          hotel new year's eve witch bet hotel room   \n",
              "1        android galaxy hermit death star lightsaber   \n",
              "2  father son relationship harbor underwater fish...   \n",
              "3  vietnam veteran hippie mentally disabled runni...   \n",
              "4  male nudity female nudity adultery midlife cri...   \n",
              "\n",
              "                                      Movie_Overview  \\\n",
              "0  It's Ted the Bellhop's first night on the job....   \n",
              "1  Princess Leia is captured and held hostage by ...   \n",
              "2  Nemo, an adventurous young clownfish, is unexp...   \n",
              "3  A man with a low IQ has accomplished great thi...   \n",
              "4  Lester Burnham, a depressed suburban father in...   \n",
              "\n",
              "                              Movie_Production_House  \\\n",
              "0  [{\"name\": \"Miramax Films\", \"id\": 14}, {\"name\":...   \n",
              "1  [{\"name\": \"Lucasfilm\", \"id\": 1}, {\"name\": \"Twe...   \n",
              "2     [{\"name\": \"Pixar Animation Studios\", \"id\": 3}]   \n",
              "3          [{\"name\": \"Paramount Pictures\", \"id\": 4}]   \n",
              "4  [{\"name\": \"DreamWorks SKG\", \"id\": 27}, {\"name\"...   \n",
              "\n",
              "                            Movie_Production_Country  \\\n",
              "0  [{\"iso_3166_1\": \"US\", \"name\": \"United States o...   \n",
              "1  [{\"iso_3166_1\": \"US\", \"name\": \"United States o...   \n",
              "2  [{\"iso_3166_1\": \"US\", \"name\": \"United States o...   \n",
              "3  [{\"iso_3166_1\": \"US\", \"name\": \"United States o...   \n",
              "4  [{\"iso_3166_1\": \"US\", \"name\": \"United States o...   \n",
              "\n",
              "                      Movie_Spoken_Language  \\\n",
              "0  [{\"iso_639_1\": \"en\", \"name\": \"English\"}]   \n",
              "1  [{\"iso_639_1\": \"en\", \"name\": \"English\"}]   \n",
              "2  [{\"iso_639_1\": \"en\", \"name\": \"English\"}]   \n",
              "3  [{\"iso_639_1\": \"en\", \"name\": \"English\"}]   \n",
              "4  [{\"iso_639_1\": \"en\", \"name\": \"English\"}]   \n",
              "\n",
              "                                       Movie_Tagline  \\\n",
              "0  Twelve outrageous guests. Four scandalous requ...   \n",
              "1       A long time ago in a galaxy far, far away...   \n",
              "2  There are 3.7 trillion fish in the ocean, they...   \n",
              "3  The world will never be the same, once you've ...   \n",
              "4                                       Look closer.   \n",
              "\n",
              "                                          Movie_Cast  \\\n",
              "0  Tim Roth Antonio Banderas Jennifer Beals Madon...   \n",
              "1  Mark Hamill Harrison Ford Carrie Fisher Peter ...   \n",
              "2  Albert Brooks Ellen DeGeneres Alexander Gould ...   \n",
              "3  Tom Hanks Robin Wright Gary Sinise Mykelti Wil...   \n",
              "4  Kevin Spacey Annette Bening Thora Birch Wes Be...   \n",
              "\n",
              "                                          Movie_Crew   Movie_Director  \n",
              "0  [{'name': 'Allison Anders', 'gender': 1, 'depa...   Allison Anders  \n",
              "1  [{'name': 'George Lucas', 'gender': 2, 'depart...     George Lucas  \n",
              "2  [{'name': 'Andrew Stanton', 'gender': 2, 'depa...   Andrew Stanton  \n",
              "3  [{'name': 'Alan Silvestri', 'gender': 2, 'depa...  Robert Zemeckis  \n",
              "4  [{'name': 'Thomas Newman', 'gender': 2, 'depar...       Sam Mendes  \n",
              "\n",
              "[5 rows x 21 columns]"
            ],
            "text/html": [
              "\n",
              "  <div id=\"df-cd82eb08-dfb0-4a52-bc08-c09812ab566b\" class=\"colab-df-container\">\n",
              "    <div>\n",
              "<style scoped>\n",
              "    .dataframe tbody tr th:only-of-type {\n",
              "        vertical-align: middle;\n",
              "    }\n",
              "\n",
              "    .dataframe tbody tr th {\n",
              "        vertical-align: top;\n",
              "    }\n",
              "\n",
              "    .dataframe thead th {\n",
              "        text-align: right;\n",
              "    }\n",
              "</style>\n",
              "<table border=\"1\" class=\"dataframe\">\n",
              "  <thead>\n",
              "    <tr style=\"text-align: right;\">\n",
              "      <th></th>\n",
              "      <th>Movie_ID</th>\n",
              "      <th>Movie_Title</th>\n",
              "      <th>Movie_Genre</th>\n",
              "      <th>Movie_Language</th>\n",
              "      <th>Movie_Budget</th>\n",
              "      <th>Movie_Popularity</th>\n",
              "      <th>Movie_Release_Date</th>\n",
              "      <th>Movie_Revenue</th>\n",
              "      <th>Movie_Runtime</th>\n",
              "      <th>Movie_Vote</th>\n",
              "      <th>...</th>\n",
              "      <th>Movie_Homepage</th>\n",
              "      <th>Movie_Keywords</th>\n",
              "      <th>Movie_Overview</th>\n",
              "      <th>Movie_Production_House</th>\n",
              "      <th>Movie_Production_Country</th>\n",
              "      <th>Movie_Spoken_Language</th>\n",
              "      <th>Movie_Tagline</th>\n",
              "      <th>Movie_Cast</th>\n",
              "      <th>Movie_Crew</th>\n",
              "      <th>Movie_Director</th>\n",
              "    </tr>\n",
              "  </thead>\n",
              "  <tbody>\n",
              "    <tr>\n",
              "      <th>0</th>\n",
              "      <td>1</td>\n",
              "      <td>Four Rooms</td>\n",
              "      <td>Crime Comedy</td>\n",
              "      <td>en</td>\n",
              "      <td>4000000</td>\n",
              "      <td>22.876230</td>\n",
              "      <td>09-12-1995</td>\n",
              "      <td>4300000</td>\n",
              "      <td>98.0</td>\n",
              "      <td>6.5</td>\n",
              "      <td>...</td>\n",
              "      <td>NaN</td>\n",
              "      <td>hotel new year's eve witch bet hotel room</td>\n",
              "      <td>It's Ted the Bellhop's first night on the job....</td>\n",
              "      <td>[{\"name\": \"Miramax Films\", \"id\": 14}, {\"name\":...</td>\n",
              "      <td>[{\"iso_3166_1\": \"US\", \"name\": \"United States o...</td>\n",
              "      <td>[{\"iso_639_1\": \"en\", \"name\": \"English\"}]</td>\n",
              "      <td>Twelve outrageous guests. Four scandalous requ...</td>\n",
              "      <td>Tim Roth Antonio Banderas Jennifer Beals Madon...</td>\n",
              "      <td>[{'name': 'Allison Anders', 'gender': 1, 'depa...</td>\n",
              "      <td>Allison Anders</td>\n",
              "    </tr>\n",
              "    <tr>\n",
              "      <th>1</th>\n",
              "      <td>2</td>\n",
              "      <td>Star Wars</td>\n",
              "      <td>Adventure Action Science Fiction</td>\n",
              "      <td>en</td>\n",
              "      <td>11000000</td>\n",
              "      <td>126.393695</td>\n",
              "      <td>25-05-1977</td>\n",
              "      <td>775398007</td>\n",
              "      <td>121.0</td>\n",
              "      <td>8.1</td>\n",
              "      <td>...</td>\n",
              "      <td>http://www.starwars.com/films/star-wars-episod...</td>\n",
              "      <td>android galaxy hermit death star lightsaber</td>\n",
              "      <td>Princess Leia is captured and held hostage by ...</td>\n",
              "      <td>[{\"name\": \"Lucasfilm\", \"id\": 1}, {\"name\": \"Twe...</td>\n",
              "      <td>[{\"iso_3166_1\": \"US\", \"name\": \"United States o...</td>\n",
              "      <td>[{\"iso_639_1\": \"en\", \"name\": \"English\"}]</td>\n",
              "      <td>A long time ago in a galaxy far, far away...</td>\n",
              "      <td>Mark Hamill Harrison Ford Carrie Fisher Peter ...</td>\n",
              "      <td>[{'name': 'George Lucas', 'gender': 2, 'depart...</td>\n",
              "      <td>George Lucas</td>\n",
              "    </tr>\n",
              "    <tr>\n",
              "      <th>2</th>\n",
              "      <td>3</td>\n",
              "      <td>Finding Nemo</td>\n",
              "      <td>Animation Family</td>\n",
              "      <td>en</td>\n",
              "      <td>94000000</td>\n",
              "      <td>85.688789</td>\n",
              "      <td>30-05-2003</td>\n",
              "      <td>940335536</td>\n",
              "      <td>100.0</td>\n",
              "      <td>7.6</td>\n",
              "      <td>...</td>\n",
              "      <td>http://movies.disney.com/finding-nemo</td>\n",
              "      <td>father son relationship harbor underwater fish...</td>\n",
              "      <td>Nemo, an adventurous young clownfish, is unexp...</td>\n",
              "      <td>[{\"name\": \"Pixar Animation Studios\", \"id\": 3}]</td>\n",
              "      <td>[{\"iso_3166_1\": \"US\", \"name\": \"United States o...</td>\n",
              "      <td>[{\"iso_639_1\": \"en\", \"name\": \"English\"}]</td>\n",
              "      <td>There are 3.7 trillion fish in the ocean, they...</td>\n",
              "      <td>Albert Brooks Ellen DeGeneres Alexander Gould ...</td>\n",
              "      <td>[{'name': 'Andrew Stanton', 'gender': 2, 'depa...</td>\n",
              "      <td>Andrew Stanton</td>\n",
              "    </tr>\n",
              "    <tr>\n",
              "      <th>3</th>\n",
              "      <td>4</td>\n",
              "      <td>Forrest Gump</td>\n",
              "      <td>Comedy Drama Romance</td>\n",
              "      <td>en</td>\n",
              "      <td>55000000</td>\n",
              "      <td>138.133331</td>\n",
              "      <td>06-07-1994</td>\n",
              "      <td>677945399</td>\n",
              "      <td>142.0</td>\n",
              "      <td>8.2</td>\n",
              "      <td>...</td>\n",
              "      <td>NaN</td>\n",
              "      <td>vietnam veteran hippie mentally disabled runni...</td>\n",
              "      <td>A man with a low IQ has accomplished great thi...</td>\n",
              "      <td>[{\"name\": \"Paramount Pictures\", \"id\": 4}]</td>\n",
              "      <td>[{\"iso_3166_1\": \"US\", \"name\": \"United States o...</td>\n",
              "      <td>[{\"iso_639_1\": \"en\", \"name\": \"English\"}]</td>\n",
              "      <td>The world will never be the same, once you've ...</td>\n",
              "      <td>Tom Hanks Robin Wright Gary Sinise Mykelti Wil...</td>\n",
              "      <td>[{'name': 'Alan Silvestri', 'gender': 2, 'depa...</td>\n",
              "      <td>Robert Zemeckis</td>\n",
              "    </tr>\n",
              "    <tr>\n",
              "      <th>4</th>\n",
              "      <td>5</td>\n",
              "      <td>American Beauty</td>\n",
              "      <td>Drama</td>\n",
              "      <td>en</td>\n",
              "      <td>15000000</td>\n",
              "      <td>80.878605</td>\n",
              "      <td>15-09-1999</td>\n",
              "      <td>356296601</td>\n",
              "      <td>122.0</td>\n",
              "      <td>7.9</td>\n",
              "      <td>...</td>\n",
              "      <td>http://www.dreamworks.com/ab/</td>\n",
              "      <td>male nudity female nudity adultery midlife cri...</td>\n",
              "      <td>Lester Burnham, a depressed suburban father in...</td>\n",
              "      <td>[{\"name\": \"DreamWorks SKG\", \"id\": 27}, {\"name\"...</td>\n",
              "      <td>[{\"iso_3166_1\": \"US\", \"name\": \"United States o...</td>\n",
              "      <td>[{\"iso_639_1\": \"en\", \"name\": \"English\"}]</td>\n",
              "      <td>Look closer.</td>\n",
              "      <td>Kevin Spacey Annette Bening Thora Birch Wes Be...</td>\n",
              "      <td>[{'name': 'Thomas Newman', 'gender': 2, 'depar...</td>\n",
              "      <td>Sam Mendes</td>\n",
              "    </tr>\n",
              "  </tbody>\n",
              "</table>\n",
              "<p>5 rows × 21 columns</p>\n",
              "</div>\n",
              "    <div class=\"colab-df-buttons\">\n",
              "\n",
              "  <div class=\"colab-df-container\">\n",
              "    <button class=\"colab-df-convert\" onclick=\"convertToInteractive('df-cd82eb08-dfb0-4a52-bc08-c09812ab566b')\"\n",
              "            title=\"Convert this dataframe to an interactive table.\"\n",
              "            style=\"display:none;\">\n",
              "\n",
              "  <svg xmlns=\"http://www.w3.org/2000/svg\" height=\"24px\" viewBox=\"0 -960 960 960\">\n",
              "    <path d=\"M120-120v-720h720v720H120Zm60-500h600v-160H180v160Zm220 220h160v-160H400v160Zm0 220h160v-160H400v160ZM180-400h160v-160H180v160Zm440 0h160v-160H620v160ZM180-180h160v-160H180v160Zm440 0h160v-160H620v160Z\"/>\n",
              "  </svg>\n",
              "    </button>\n",
              "\n",
              "  <style>\n",
              "    .colab-df-container {\n",
              "      display:flex;\n",
              "      gap: 12px;\n",
              "    }\n",
              "\n",
              "    .colab-df-convert {\n",
              "      background-color: #E8F0FE;\n",
              "      border: none;\n",
              "      border-radius: 50%;\n",
              "      cursor: pointer;\n",
              "      display: none;\n",
              "      fill: #1967D2;\n",
              "      height: 32px;\n",
              "      padding: 0 0 0 0;\n",
              "      width: 32px;\n",
              "    }\n",
              "\n",
              "    .colab-df-convert:hover {\n",
              "      background-color: #E2EBFA;\n",
              "      box-shadow: 0px 1px 2px rgba(60, 64, 67, 0.3), 0px 1px 3px 1px rgba(60, 64, 67, 0.15);\n",
              "      fill: #174EA6;\n",
              "    }\n",
              "\n",
              "    .colab-df-buttons div {\n",
              "      margin-bottom: 4px;\n",
              "    }\n",
              "\n",
              "    [theme=dark] .colab-df-convert {\n",
              "      background-color: #3B4455;\n",
              "      fill: #D2E3FC;\n",
              "    }\n",
              "\n",
              "    [theme=dark] .colab-df-convert:hover {\n",
              "      background-color: #434B5C;\n",
              "      box-shadow: 0px 1px 3px 1px rgba(0, 0, 0, 0.15);\n",
              "      filter: drop-shadow(0px 1px 2px rgba(0, 0, 0, 0.3));\n",
              "      fill: #FFFFFF;\n",
              "    }\n",
              "  </style>\n",
              "\n",
              "    <script>\n",
              "      const buttonEl =\n",
              "        document.querySelector('#df-cd82eb08-dfb0-4a52-bc08-c09812ab566b button.colab-df-convert');\n",
              "      buttonEl.style.display =\n",
              "        google.colab.kernel.accessAllowed ? 'block' : 'none';\n",
              "\n",
              "      async function convertToInteractive(key) {\n",
              "        const element = document.querySelector('#df-cd82eb08-dfb0-4a52-bc08-c09812ab566b');\n",
              "        const dataTable =\n",
              "          await google.colab.kernel.invokeFunction('convertToInteractive',\n",
              "                                                    [key], {});\n",
              "        if (!dataTable) return;\n",
              "\n",
              "        const docLinkHtml = 'Like what you see? Visit the ' +\n",
              "          '<a target=\"_blank\" href=https://colab.research.google.com/notebooks/data_table.ipynb>data table notebook</a>'\n",
              "          + ' to learn more about interactive tables.';\n",
              "        element.innerHTML = '';\n",
              "        dataTable['output_type'] = 'display_data';\n",
              "        await google.colab.output.renderOutput(dataTable, element);\n",
              "        const docLink = document.createElement('div');\n",
              "        docLink.innerHTML = docLinkHtml;\n",
              "        element.appendChild(docLink);\n",
              "      }\n",
              "    </script>\n",
              "  </div>\n",
              "\n",
              "\n",
              "<div id=\"df-271a04a8-5021-4bff-8d8d-f867ce507c07\">\n",
              "  <button class=\"colab-df-quickchart\" onclick=\"quickchart('df-271a04a8-5021-4bff-8d8d-f867ce507c07')\"\n",
              "            title=\"Suggest charts\"\n",
              "            style=\"display:none;\">\n",
              "\n",
              "<svg xmlns=\"http://www.w3.org/2000/svg\" height=\"24px\"viewBox=\"0 0 24 24\"\n",
              "     width=\"24px\">\n",
              "    <g>\n",
              "        <path d=\"M19 3H5c-1.1 0-2 .9-2 2v14c0 1.1.9 2 2 2h14c1.1 0 2-.9 2-2V5c0-1.1-.9-2-2-2zM9 17H7v-7h2v7zm4 0h-2V7h2v10zm4 0h-2v-4h2v4z\"/>\n",
              "    </g>\n",
              "</svg>\n",
              "  </button>\n",
              "\n",
              "<style>\n",
              "  .colab-df-quickchart {\n",
              "      --bg-color: #E8F0FE;\n",
              "      --fill-color: #1967D2;\n",
              "      --hover-bg-color: #E2EBFA;\n",
              "      --hover-fill-color: #174EA6;\n",
              "      --disabled-fill-color: #AAA;\n",
              "      --disabled-bg-color: #DDD;\n",
              "  }\n",
              "\n",
              "  [theme=dark] .colab-df-quickchart {\n",
              "      --bg-color: #3B4455;\n",
              "      --fill-color: #D2E3FC;\n",
              "      --hover-bg-color: #434B5C;\n",
              "      --hover-fill-color: #FFFFFF;\n",
              "      --disabled-bg-color: #3B4455;\n",
              "      --disabled-fill-color: #666;\n",
              "  }\n",
              "\n",
              "  .colab-df-quickchart {\n",
              "    background-color: var(--bg-color);\n",
              "    border: none;\n",
              "    border-radius: 50%;\n",
              "    cursor: pointer;\n",
              "    display: none;\n",
              "    fill: var(--fill-color);\n",
              "    height: 32px;\n",
              "    padding: 0;\n",
              "    width: 32px;\n",
              "  }\n",
              "\n",
              "  .colab-df-quickchart:hover {\n",
              "    background-color: var(--hover-bg-color);\n",
              "    box-shadow: 0 1px 2px rgba(60, 64, 67, 0.3), 0 1px 3px 1px rgba(60, 64, 67, 0.15);\n",
              "    fill: var(--button-hover-fill-color);\n",
              "  }\n",
              "\n",
              "  .colab-df-quickchart-complete:disabled,\n",
              "  .colab-df-quickchart-complete:disabled:hover {\n",
              "    background-color: var(--disabled-bg-color);\n",
              "    fill: var(--disabled-fill-color);\n",
              "    box-shadow: none;\n",
              "  }\n",
              "\n",
              "  .colab-df-spinner {\n",
              "    border: 2px solid var(--fill-color);\n",
              "    border-color: transparent;\n",
              "    border-bottom-color: var(--fill-color);\n",
              "    animation:\n",
              "      spin 1s steps(1) infinite;\n",
              "  }\n",
              "\n",
              "  @keyframes spin {\n",
              "    0% {\n",
              "      border-color: transparent;\n",
              "      border-bottom-color: var(--fill-color);\n",
              "      border-left-color: var(--fill-color);\n",
              "    }\n",
              "    20% {\n",
              "      border-color: transparent;\n",
              "      border-left-color: var(--fill-color);\n",
              "      border-top-color: var(--fill-color);\n",
              "    }\n",
              "    30% {\n",
              "      border-color: transparent;\n",
              "      border-left-color: var(--fill-color);\n",
              "      border-top-color: var(--fill-color);\n",
              "      border-right-color: var(--fill-color);\n",
              "    }\n",
              "    40% {\n",
              "      border-color: transparent;\n",
              "      border-right-color: var(--fill-color);\n",
              "      border-top-color: var(--fill-color);\n",
              "    }\n",
              "    60% {\n",
              "      border-color: transparent;\n",
              "      border-right-color: var(--fill-color);\n",
              "    }\n",
              "    80% {\n",
              "      border-color: transparent;\n",
              "      border-right-color: var(--fill-color);\n",
              "      border-bottom-color: var(--fill-color);\n",
              "    }\n",
              "    90% {\n",
              "      border-color: transparent;\n",
              "      border-bottom-color: var(--fill-color);\n",
              "    }\n",
              "  }\n",
              "</style>\n",
              "\n",
              "  <script>\n",
              "    async function quickchart(key) {\n",
              "      const quickchartButtonEl =\n",
              "        document.querySelector('#' + key + ' button');\n",
              "      quickchartButtonEl.disabled = true;  // To prevent multiple clicks.\n",
              "      quickchartButtonEl.classList.add('colab-df-spinner');\n",
              "      try {\n",
              "        const charts = await google.colab.kernel.invokeFunction(\n",
              "            'suggestCharts', [key], {});\n",
              "      } catch (error) {\n",
              "        console.error('Error during call to suggestCharts:', error);\n",
              "      }\n",
              "      quickchartButtonEl.classList.remove('colab-df-spinner');\n",
              "      quickchartButtonEl.classList.add('colab-df-quickchart-complete');\n",
              "    }\n",
              "    (() => {\n",
              "      let quickchartButtonEl =\n",
              "        document.querySelector('#df-271a04a8-5021-4bff-8d8d-f867ce507c07 button');\n",
              "      quickchartButtonEl.style.display =\n",
              "        google.colab.kernel.accessAllowed ? 'block' : 'none';\n",
              "    })();\n",
              "  </script>\n",
              "</div>\n",
              "\n",
              "    </div>\n",
              "  </div>\n"
            ]
          },
          "metadata": {},
          "execution_count": 4
        }
      ],
      "source": [
        "df.head()"
      ]
    },
    {
      "cell_type": "code",
      "execution_count": 5,
      "metadata": {
        "colab": {
          "base_uri": "https://localhost:8080/"
        },
        "id": "srk2ZW0HlZ_e",
        "outputId": "3a7461ac-3c1e-447c-a313-e96c2a1620d4"
      },
      "outputs": [
        {
          "output_type": "stream",
          "name": "stdout",
          "text": [
            "<class 'pandas.core.frame.DataFrame'>\n",
            "RangeIndex: 4760 entries, 0 to 4759\n",
            "Data columns (total 21 columns):\n",
            " #   Column                    Non-Null Count  Dtype  \n",
            "---  ------                    --------------  -----  \n",
            " 0   Movie_ID                  4760 non-null   int64  \n",
            " 1   Movie_Title               4760 non-null   object \n",
            " 2   Movie_Genre               4760 non-null   object \n",
            " 3   Movie_Language            4760 non-null   object \n",
            " 4   Movie_Budget              4760 non-null   int64  \n",
            " 5   Movie_Popularity          4760 non-null   float64\n",
            " 6   Movie_Release_Date        4760 non-null   object \n",
            " 7   Movie_Revenue             4760 non-null   int64  \n",
            " 8   Movie_Runtime             4758 non-null   float64\n",
            " 9   Movie_Vote                4760 non-null   float64\n",
            " 10  Movie_Vote_Count          4760 non-null   int64  \n",
            " 11  Movie_Homepage            1699 non-null   object \n",
            " 12  Movie_Keywords            4373 non-null   object \n",
            " 13  Movie_Overview            4757 non-null   object \n",
            " 14  Movie_Production_House    4760 non-null   object \n",
            " 15  Movie_Production_Country  4760 non-null   object \n",
            " 16  Movie_Spoken_Language     4760 non-null   object \n",
            " 17  Movie_Tagline             3942 non-null   object \n",
            " 18  Movie_Cast                4733 non-null   object \n",
            " 19  Movie_Crew                4760 non-null   object \n",
            " 20  Movie_Director            4738 non-null   object \n",
            "dtypes: float64(3), int64(4), object(14)\n",
            "memory usage: 781.1+ KB\n"
          ]
        }
      ],
      "source": [
        "df.info()"
      ]
    },
    {
      "cell_type": "code",
      "execution_count": 6,
      "metadata": {
        "colab": {
          "base_uri": "https://localhost:8080/",
          "height": 300
        },
        "id": "kFM6Mjsdlf-M",
        "outputId": "8e6b4be2-dde6-4102-9092-0d29a2dc184c"
      },
      "outputs": [
        {
          "output_type": "execute_result",
          "data": {
            "text/plain": [
              "          Movie_ID  Movie_Budget  Movie_Popularity  Movie_Revenue  \\\n",
              "count  4760.000000  4.760000e+03       4760.000000   4.760000e+03   \n",
              "mean   2382.566387  2.920129e+07         21.599510   8.263743e+07   \n",
              "std    1377.270159  4.075620e+07         31.887919   1.630554e+08   \n",
              "min       1.000000  0.000000e+00          0.000372   0.000000e+00   \n",
              "25%    1190.750000  9.257500e+05          4.807074   0.000000e+00   \n",
              "50%    2380.500000  1.500000e+07         13.119058   1.944716e+07   \n",
              "75%    3572.250000  4.000000e+07         28.411929   9.341276e+07   \n",
              "max    4788.000000  3.800000e+08        875.581305   2.787965e+09   \n",
              "\n",
              "       Movie_Runtime   Movie_Vote  Movie_Vote_Count  \n",
              "count    4758.000000  4760.000000       4760.000000  \n",
              "mean      107.184111     6.113866        692.508403  \n",
              "std        21.960332     1.141294       1235.007337  \n",
              "min         0.000000     0.000000          0.000000  \n",
              "25%        94.000000     5.600000         55.000000  \n",
              "50%       104.000000     6.200000        238.000000  \n",
              "75%       118.000000     6.800000        740.250000  \n",
              "max       338.000000    10.000000      13752.000000  "
            ],
            "text/html": [
              "\n",
              "  <div id=\"df-d945082e-0780-4244-af66-ef2e82e515a5\" class=\"colab-df-container\">\n",
              "    <div>\n",
              "<style scoped>\n",
              "    .dataframe tbody tr th:only-of-type {\n",
              "        vertical-align: middle;\n",
              "    }\n",
              "\n",
              "    .dataframe tbody tr th {\n",
              "        vertical-align: top;\n",
              "    }\n",
              "\n",
              "    .dataframe thead th {\n",
              "        text-align: right;\n",
              "    }\n",
              "</style>\n",
              "<table border=\"1\" class=\"dataframe\">\n",
              "  <thead>\n",
              "    <tr style=\"text-align: right;\">\n",
              "      <th></th>\n",
              "      <th>Movie_ID</th>\n",
              "      <th>Movie_Budget</th>\n",
              "      <th>Movie_Popularity</th>\n",
              "      <th>Movie_Revenue</th>\n",
              "      <th>Movie_Runtime</th>\n",
              "      <th>Movie_Vote</th>\n",
              "      <th>Movie_Vote_Count</th>\n",
              "    </tr>\n",
              "  </thead>\n",
              "  <tbody>\n",
              "    <tr>\n",
              "      <th>count</th>\n",
              "      <td>4760.000000</td>\n",
              "      <td>4.760000e+03</td>\n",
              "      <td>4760.000000</td>\n",
              "      <td>4.760000e+03</td>\n",
              "      <td>4758.000000</td>\n",
              "      <td>4760.000000</td>\n",
              "      <td>4760.000000</td>\n",
              "    </tr>\n",
              "    <tr>\n",
              "      <th>mean</th>\n",
              "      <td>2382.566387</td>\n",
              "      <td>2.920129e+07</td>\n",
              "      <td>21.599510</td>\n",
              "      <td>8.263743e+07</td>\n",
              "      <td>107.184111</td>\n",
              "      <td>6.113866</td>\n",
              "      <td>692.508403</td>\n",
              "    </tr>\n",
              "    <tr>\n",
              "      <th>std</th>\n",
              "      <td>1377.270159</td>\n",
              "      <td>4.075620e+07</td>\n",
              "      <td>31.887919</td>\n",
              "      <td>1.630554e+08</td>\n",
              "      <td>21.960332</td>\n",
              "      <td>1.141294</td>\n",
              "      <td>1235.007337</td>\n",
              "    </tr>\n",
              "    <tr>\n",
              "      <th>min</th>\n",
              "      <td>1.000000</td>\n",
              "      <td>0.000000e+00</td>\n",
              "      <td>0.000372</td>\n",
              "      <td>0.000000e+00</td>\n",
              "      <td>0.000000</td>\n",
              "      <td>0.000000</td>\n",
              "      <td>0.000000</td>\n",
              "    </tr>\n",
              "    <tr>\n",
              "      <th>25%</th>\n",
              "      <td>1190.750000</td>\n",
              "      <td>9.257500e+05</td>\n",
              "      <td>4.807074</td>\n",
              "      <td>0.000000e+00</td>\n",
              "      <td>94.000000</td>\n",
              "      <td>5.600000</td>\n",
              "      <td>55.000000</td>\n",
              "    </tr>\n",
              "    <tr>\n",
              "      <th>50%</th>\n",
              "      <td>2380.500000</td>\n",
              "      <td>1.500000e+07</td>\n",
              "      <td>13.119058</td>\n",
              "      <td>1.944716e+07</td>\n",
              "      <td>104.000000</td>\n",
              "      <td>6.200000</td>\n",
              "      <td>238.000000</td>\n",
              "    </tr>\n",
              "    <tr>\n",
              "      <th>75%</th>\n",
              "      <td>3572.250000</td>\n",
              "      <td>4.000000e+07</td>\n",
              "      <td>28.411929</td>\n",
              "      <td>9.341276e+07</td>\n",
              "      <td>118.000000</td>\n",
              "      <td>6.800000</td>\n",
              "      <td>740.250000</td>\n",
              "    </tr>\n",
              "    <tr>\n",
              "      <th>max</th>\n",
              "      <td>4788.000000</td>\n",
              "      <td>3.800000e+08</td>\n",
              "      <td>875.581305</td>\n",
              "      <td>2.787965e+09</td>\n",
              "      <td>338.000000</td>\n",
              "      <td>10.000000</td>\n",
              "      <td>13752.000000</td>\n",
              "    </tr>\n",
              "  </tbody>\n",
              "</table>\n",
              "</div>\n",
              "    <div class=\"colab-df-buttons\">\n",
              "\n",
              "  <div class=\"colab-df-container\">\n",
              "    <button class=\"colab-df-convert\" onclick=\"convertToInteractive('df-d945082e-0780-4244-af66-ef2e82e515a5')\"\n",
              "            title=\"Convert this dataframe to an interactive table.\"\n",
              "            style=\"display:none;\">\n",
              "\n",
              "  <svg xmlns=\"http://www.w3.org/2000/svg\" height=\"24px\" viewBox=\"0 -960 960 960\">\n",
              "    <path d=\"M120-120v-720h720v720H120Zm60-500h600v-160H180v160Zm220 220h160v-160H400v160Zm0 220h160v-160H400v160ZM180-400h160v-160H180v160Zm440 0h160v-160H620v160ZM180-180h160v-160H180v160Zm440 0h160v-160H620v160Z\"/>\n",
              "  </svg>\n",
              "    </button>\n",
              "\n",
              "  <style>\n",
              "    .colab-df-container {\n",
              "      display:flex;\n",
              "      gap: 12px;\n",
              "    }\n",
              "\n",
              "    .colab-df-convert {\n",
              "      background-color: #E8F0FE;\n",
              "      border: none;\n",
              "      border-radius: 50%;\n",
              "      cursor: pointer;\n",
              "      display: none;\n",
              "      fill: #1967D2;\n",
              "      height: 32px;\n",
              "      padding: 0 0 0 0;\n",
              "      width: 32px;\n",
              "    }\n",
              "\n",
              "    .colab-df-convert:hover {\n",
              "      background-color: #E2EBFA;\n",
              "      box-shadow: 0px 1px 2px rgba(60, 64, 67, 0.3), 0px 1px 3px 1px rgba(60, 64, 67, 0.15);\n",
              "      fill: #174EA6;\n",
              "    }\n",
              "\n",
              "    .colab-df-buttons div {\n",
              "      margin-bottom: 4px;\n",
              "    }\n",
              "\n",
              "    [theme=dark] .colab-df-convert {\n",
              "      background-color: #3B4455;\n",
              "      fill: #D2E3FC;\n",
              "    }\n",
              "\n",
              "    [theme=dark] .colab-df-convert:hover {\n",
              "      background-color: #434B5C;\n",
              "      box-shadow: 0px 1px 3px 1px rgba(0, 0, 0, 0.15);\n",
              "      filter: drop-shadow(0px 1px 2px rgba(0, 0, 0, 0.3));\n",
              "      fill: #FFFFFF;\n",
              "    }\n",
              "  </style>\n",
              "\n",
              "    <script>\n",
              "      const buttonEl =\n",
              "        document.querySelector('#df-d945082e-0780-4244-af66-ef2e82e515a5 button.colab-df-convert');\n",
              "      buttonEl.style.display =\n",
              "        google.colab.kernel.accessAllowed ? 'block' : 'none';\n",
              "\n",
              "      async function convertToInteractive(key) {\n",
              "        const element = document.querySelector('#df-d945082e-0780-4244-af66-ef2e82e515a5');\n",
              "        const dataTable =\n",
              "          await google.colab.kernel.invokeFunction('convertToInteractive',\n",
              "                                                    [key], {});\n",
              "        if (!dataTable) return;\n",
              "\n",
              "        const docLinkHtml = 'Like what you see? Visit the ' +\n",
              "          '<a target=\"_blank\" href=https://colab.research.google.com/notebooks/data_table.ipynb>data table notebook</a>'\n",
              "          + ' to learn more about interactive tables.';\n",
              "        element.innerHTML = '';\n",
              "        dataTable['output_type'] = 'display_data';\n",
              "        await google.colab.output.renderOutput(dataTable, element);\n",
              "        const docLink = document.createElement('div');\n",
              "        docLink.innerHTML = docLinkHtml;\n",
              "        element.appendChild(docLink);\n",
              "      }\n",
              "    </script>\n",
              "  </div>\n",
              "\n",
              "\n",
              "<div id=\"df-24f990cc-7b19-4dab-8688-a8224453957f\">\n",
              "  <button class=\"colab-df-quickchart\" onclick=\"quickchart('df-24f990cc-7b19-4dab-8688-a8224453957f')\"\n",
              "            title=\"Suggest charts\"\n",
              "            style=\"display:none;\">\n",
              "\n",
              "<svg xmlns=\"http://www.w3.org/2000/svg\" height=\"24px\"viewBox=\"0 0 24 24\"\n",
              "     width=\"24px\">\n",
              "    <g>\n",
              "        <path d=\"M19 3H5c-1.1 0-2 .9-2 2v14c0 1.1.9 2 2 2h14c1.1 0 2-.9 2-2V5c0-1.1-.9-2-2-2zM9 17H7v-7h2v7zm4 0h-2V7h2v10zm4 0h-2v-4h2v4z\"/>\n",
              "    </g>\n",
              "</svg>\n",
              "  </button>\n",
              "\n",
              "<style>\n",
              "  .colab-df-quickchart {\n",
              "      --bg-color: #E8F0FE;\n",
              "      --fill-color: #1967D2;\n",
              "      --hover-bg-color: #E2EBFA;\n",
              "      --hover-fill-color: #174EA6;\n",
              "      --disabled-fill-color: #AAA;\n",
              "      --disabled-bg-color: #DDD;\n",
              "  }\n",
              "\n",
              "  [theme=dark] .colab-df-quickchart {\n",
              "      --bg-color: #3B4455;\n",
              "      --fill-color: #D2E3FC;\n",
              "      --hover-bg-color: #434B5C;\n",
              "      --hover-fill-color: #FFFFFF;\n",
              "      --disabled-bg-color: #3B4455;\n",
              "      --disabled-fill-color: #666;\n",
              "  }\n",
              "\n",
              "  .colab-df-quickchart {\n",
              "    background-color: var(--bg-color);\n",
              "    border: none;\n",
              "    border-radius: 50%;\n",
              "    cursor: pointer;\n",
              "    display: none;\n",
              "    fill: var(--fill-color);\n",
              "    height: 32px;\n",
              "    padding: 0;\n",
              "    width: 32px;\n",
              "  }\n",
              "\n",
              "  .colab-df-quickchart:hover {\n",
              "    background-color: var(--hover-bg-color);\n",
              "    box-shadow: 0 1px 2px rgba(60, 64, 67, 0.3), 0 1px 3px 1px rgba(60, 64, 67, 0.15);\n",
              "    fill: var(--button-hover-fill-color);\n",
              "  }\n",
              "\n",
              "  .colab-df-quickchart-complete:disabled,\n",
              "  .colab-df-quickchart-complete:disabled:hover {\n",
              "    background-color: var(--disabled-bg-color);\n",
              "    fill: var(--disabled-fill-color);\n",
              "    box-shadow: none;\n",
              "  }\n",
              "\n",
              "  .colab-df-spinner {\n",
              "    border: 2px solid var(--fill-color);\n",
              "    border-color: transparent;\n",
              "    border-bottom-color: var(--fill-color);\n",
              "    animation:\n",
              "      spin 1s steps(1) infinite;\n",
              "  }\n",
              "\n",
              "  @keyframes spin {\n",
              "    0% {\n",
              "      border-color: transparent;\n",
              "      border-bottom-color: var(--fill-color);\n",
              "      border-left-color: var(--fill-color);\n",
              "    }\n",
              "    20% {\n",
              "      border-color: transparent;\n",
              "      border-left-color: var(--fill-color);\n",
              "      border-top-color: var(--fill-color);\n",
              "    }\n",
              "    30% {\n",
              "      border-color: transparent;\n",
              "      border-left-color: var(--fill-color);\n",
              "      border-top-color: var(--fill-color);\n",
              "      border-right-color: var(--fill-color);\n",
              "    }\n",
              "    40% {\n",
              "      border-color: transparent;\n",
              "      border-right-color: var(--fill-color);\n",
              "      border-top-color: var(--fill-color);\n",
              "    }\n",
              "    60% {\n",
              "      border-color: transparent;\n",
              "      border-right-color: var(--fill-color);\n",
              "    }\n",
              "    80% {\n",
              "      border-color: transparent;\n",
              "      border-right-color: var(--fill-color);\n",
              "      border-bottom-color: var(--fill-color);\n",
              "    }\n",
              "    90% {\n",
              "      border-color: transparent;\n",
              "      border-bottom-color: var(--fill-color);\n",
              "    }\n",
              "  }\n",
              "</style>\n",
              "\n",
              "  <script>\n",
              "    async function quickchart(key) {\n",
              "      const quickchartButtonEl =\n",
              "        document.querySelector('#' + key + ' button');\n",
              "      quickchartButtonEl.disabled = true;  // To prevent multiple clicks.\n",
              "      quickchartButtonEl.classList.add('colab-df-spinner');\n",
              "      try {\n",
              "        const charts = await google.colab.kernel.invokeFunction(\n",
              "            'suggestCharts', [key], {});\n",
              "      } catch (error) {\n",
              "        console.error('Error during call to suggestCharts:', error);\n",
              "      }\n",
              "      quickchartButtonEl.classList.remove('colab-df-spinner');\n",
              "      quickchartButtonEl.classList.add('colab-df-quickchart-complete');\n",
              "    }\n",
              "    (() => {\n",
              "      let quickchartButtonEl =\n",
              "        document.querySelector('#df-24f990cc-7b19-4dab-8688-a8224453957f button');\n",
              "      quickchartButtonEl.style.display =\n",
              "        google.colab.kernel.accessAllowed ? 'block' : 'none';\n",
              "    })();\n",
              "  </script>\n",
              "</div>\n",
              "\n",
              "    </div>\n",
              "  </div>\n"
            ]
          },
          "metadata": {},
          "execution_count": 6
        }
      ],
      "source": [
        "df.describe()"
      ]
    },
    {
      "cell_type": "code",
      "execution_count": 7,
      "metadata": {
        "colab": {
          "base_uri": "https://localhost:8080/"
        },
        "id": "UA3Yk31vljWz",
        "outputId": "1158adfe-83b2-4f86-f5a9-42959dba9b91"
      },
      "outputs": [
        {
          "output_type": "execute_result",
          "data": {
            "text/plain": [
              "(4760, 21)"
            ]
          },
          "metadata": {},
          "execution_count": 7
        }
      ],
      "source": [
        "df.shape"
      ]
    },
    {
      "cell_type": "code",
      "execution_count": 8,
      "metadata": {
        "colab": {
          "base_uri": "https://localhost:8080/"
        },
        "id": "_7yYnpKymwLh",
        "outputId": "f8ef952f-173a-4589-b61e-51801b65ba2b"
      },
      "outputs": [
        {
          "output_type": "execute_result",
          "data": {
            "text/plain": [
              "Index(['Movie_ID', 'Movie_Title', 'Movie_Genre', 'Movie_Language',\n",
              "       'Movie_Budget', 'Movie_Popularity', 'Movie_Release_Date',\n",
              "       'Movie_Revenue', 'Movie_Runtime', 'Movie_Vote', 'Movie_Vote_Count',\n",
              "       'Movie_Homepage', 'Movie_Keywords', 'Movie_Overview',\n",
              "       'Movie_Production_House', 'Movie_Production_Country',\n",
              "       'Movie_Spoken_Language', 'Movie_Tagline', 'Movie_Cast', 'Movie_Crew',\n",
              "       'Movie_Director'],\n",
              "      dtype='object')"
            ]
          },
          "metadata": {},
          "execution_count": 8
        }
      ],
      "source": [
        "df.columns\n"
      ]
    },
    {
      "cell_type": "markdown",
      "metadata": {
        "id": "3AKy2-lom5rQ"
      },
      "source": [
        "**Get Feature Selection**"
      ]
    },
    {
      "cell_type": "code",
      "execution_count": 9,
      "metadata": {
        "id": "1f7z5b20m3T_"
      },
      "outputs": [],
      "source": [
        "df_features = df[['Movie_Genre','Movie_Keywords','Movie_Tagline','Movie_Cast','Movie_Director']].fillna('')"
      ]
    },
    {
      "cell_type": "code",
      "execution_count": 10,
      "metadata": {
        "colab": {
          "base_uri": "https://localhost:8080/"
        },
        "id": "927RfBVhpNm_",
        "outputId": "97b3cfdc-9b9a-46ef-8ae1-b2dd44272c5a"
      },
      "outputs": [
        {
          "output_type": "execute_result",
          "data": {
            "text/plain": [
              "(4760, 5)"
            ]
          },
          "metadata": {},
          "execution_count": 10
        }
      ],
      "source": [
        "df_features.shape"
      ]
    },
    {
      "cell_type": "code",
      "execution_count": 11,
      "metadata": {
        "colab": {
          "base_uri": "https://localhost:8080/",
          "height": 579
        },
        "id": "sdiHrmR6p7jT",
        "outputId": "6d16169b-ad65-49c9-d9fd-695a7631b20e"
      },
      "outputs": [
        {
          "output_type": "execute_result",
          "data": {
            "text/plain": [
              "                           Movie_Genre  \\\n",
              "0                         Crime Comedy   \n",
              "1     Adventure Action Science Fiction   \n",
              "2                     Animation Family   \n",
              "3                 Comedy Drama Romance   \n",
              "4                                Drama   \n",
              "...                                ...   \n",
              "4755                            Horror   \n",
              "4756               Comedy Family Drama   \n",
              "4757                    Thriller Drama   \n",
              "4758                            Family   \n",
              "4759                       Documentary   \n",
              "\n",
              "                                         Movie_Keywords  \\\n",
              "0             hotel new year's eve witch bet hotel room   \n",
              "1           android galaxy hermit death star lightsaber   \n",
              "2     father son relationship harbor underwater fish...   \n",
              "3     vietnam veteran hippie mentally disabled runni...   \n",
              "4     male nudity female nudity adultery midlife cri...   \n",
              "...                                                 ...   \n",
              "4755                                                      \n",
              "4756                                                      \n",
              "4757                     christian film sex trafficking   \n",
              "4758                                                      \n",
              "4759  music actors legendary perfomer classic hollyw...   \n",
              "\n",
              "                                          Movie_Tagline  \\\n",
              "0     Twelve outrageous guests. Four scandalous requ...   \n",
              "1          A long time ago in a galaxy far, far away...   \n",
              "2     There are 3.7 trillion fish in the ocean, they...   \n",
              "3     The world will never be the same, once you've ...   \n",
              "4                                          Look closer.   \n",
              "...                                                 ...   \n",
              "4755                The hot spot where Satan's waitin'.   \n",
              "4756           It’s better to stand out than to fit in.   \n",
              "4757           She never knew it could happen to her...   \n",
              "4758                                                      \n",
              "4759                                                      \n",
              "\n",
              "                                             Movie_Cast     Movie_Director  \n",
              "0     Tim Roth Antonio Banderas Jennifer Beals Madon...     Allison Anders  \n",
              "1     Mark Hamill Harrison Ford Carrie Fisher Peter ...       George Lucas  \n",
              "2     Albert Brooks Ellen DeGeneres Alexander Gould ...     Andrew Stanton  \n",
              "3     Tom Hanks Robin Wright Gary Sinise Mykelti Wil...    Robert Zemeckis  \n",
              "4     Kevin Spacey Annette Bening Thora Birch Wes Be...         Sam Mendes  \n",
              "...                                                 ...                ...  \n",
              "4755  Lisa Hart Carroll Michael Des Barres Paul Drak...         Pece Dingo  \n",
              "4756  Roni Akurati Brighton Sharbino Jason Lee Anjul...       Frank Lotito  \n",
              "4757  Nicole Smolen Kim Baldwin Ariana Stephens Brys...       Jaco Booyens  \n",
              "4758                                                                        \n",
              "4759                                    Tony Oppedisano  Simon Napier-Bell  \n",
              "\n",
              "[4760 rows x 5 columns]"
            ],
            "text/html": [
              "\n",
              "  <div id=\"df-abbfc11d-ef33-4b2e-bb67-7a44834a1e1e\" class=\"colab-df-container\">\n",
              "    <div>\n",
              "<style scoped>\n",
              "    .dataframe tbody tr th:only-of-type {\n",
              "        vertical-align: middle;\n",
              "    }\n",
              "\n",
              "    .dataframe tbody tr th {\n",
              "        vertical-align: top;\n",
              "    }\n",
              "\n",
              "    .dataframe thead th {\n",
              "        text-align: right;\n",
              "    }\n",
              "</style>\n",
              "<table border=\"1\" class=\"dataframe\">\n",
              "  <thead>\n",
              "    <tr style=\"text-align: right;\">\n",
              "      <th></th>\n",
              "      <th>Movie_Genre</th>\n",
              "      <th>Movie_Keywords</th>\n",
              "      <th>Movie_Tagline</th>\n",
              "      <th>Movie_Cast</th>\n",
              "      <th>Movie_Director</th>\n",
              "    </tr>\n",
              "  </thead>\n",
              "  <tbody>\n",
              "    <tr>\n",
              "      <th>0</th>\n",
              "      <td>Crime Comedy</td>\n",
              "      <td>hotel new year's eve witch bet hotel room</td>\n",
              "      <td>Twelve outrageous guests. Four scandalous requ...</td>\n",
              "      <td>Tim Roth Antonio Banderas Jennifer Beals Madon...</td>\n",
              "      <td>Allison Anders</td>\n",
              "    </tr>\n",
              "    <tr>\n",
              "      <th>1</th>\n",
              "      <td>Adventure Action Science Fiction</td>\n",
              "      <td>android galaxy hermit death star lightsaber</td>\n",
              "      <td>A long time ago in a galaxy far, far away...</td>\n",
              "      <td>Mark Hamill Harrison Ford Carrie Fisher Peter ...</td>\n",
              "      <td>George Lucas</td>\n",
              "    </tr>\n",
              "    <tr>\n",
              "      <th>2</th>\n",
              "      <td>Animation Family</td>\n",
              "      <td>father son relationship harbor underwater fish...</td>\n",
              "      <td>There are 3.7 trillion fish in the ocean, they...</td>\n",
              "      <td>Albert Brooks Ellen DeGeneres Alexander Gould ...</td>\n",
              "      <td>Andrew Stanton</td>\n",
              "    </tr>\n",
              "    <tr>\n",
              "      <th>3</th>\n",
              "      <td>Comedy Drama Romance</td>\n",
              "      <td>vietnam veteran hippie mentally disabled runni...</td>\n",
              "      <td>The world will never be the same, once you've ...</td>\n",
              "      <td>Tom Hanks Robin Wright Gary Sinise Mykelti Wil...</td>\n",
              "      <td>Robert Zemeckis</td>\n",
              "    </tr>\n",
              "    <tr>\n",
              "      <th>4</th>\n",
              "      <td>Drama</td>\n",
              "      <td>male nudity female nudity adultery midlife cri...</td>\n",
              "      <td>Look closer.</td>\n",
              "      <td>Kevin Spacey Annette Bening Thora Birch Wes Be...</td>\n",
              "      <td>Sam Mendes</td>\n",
              "    </tr>\n",
              "    <tr>\n",
              "      <th>...</th>\n",
              "      <td>...</td>\n",
              "      <td>...</td>\n",
              "      <td>...</td>\n",
              "      <td>...</td>\n",
              "      <td>...</td>\n",
              "    </tr>\n",
              "    <tr>\n",
              "      <th>4755</th>\n",
              "      <td>Horror</td>\n",
              "      <td></td>\n",
              "      <td>The hot spot where Satan's waitin'.</td>\n",
              "      <td>Lisa Hart Carroll Michael Des Barres Paul Drak...</td>\n",
              "      <td>Pece Dingo</td>\n",
              "    </tr>\n",
              "    <tr>\n",
              "      <th>4756</th>\n",
              "      <td>Comedy Family Drama</td>\n",
              "      <td></td>\n",
              "      <td>It’s better to stand out than to fit in.</td>\n",
              "      <td>Roni Akurati Brighton Sharbino Jason Lee Anjul...</td>\n",
              "      <td>Frank Lotito</td>\n",
              "    </tr>\n",
              "    <tr>\n",
              "      <th>4757</th>\n",
              "      <td>Thriller Drama</td>\n",
              "      <td>christian film sex trafficking</td>\n",
              "      <td>She never knew it could happen to her...</td>\n",
              "      <td>Nicole Smolen Kim Baldwin Ariana Stephens Brys...</td>\n",
              "      <td>Jaco Booyens</td>\n",
              "    </tr>\n",
              "    <tr>\n",
              "      <th>4758</th>\n",
              "      <td>Family</td>\n",
              "      <td></td>\n",
              "      <td></td>\n",
              "      <td></td>\n",
              "      <td></td>\n",
              "    </tr>\n",
              "    <tr>\n",
              "      <th>4759</th>\n",
              "      <td>Documentary</td>\n",
              "      <td>music actors legendary perfomer classic hollyw...</td>\n",
              "      <td></td>\n",
              "      <td>Tony Oppedisano</td>\n",
              "      <td>Simon Napier-Bell</td>\n",
              "    </tr>\n",
              "  </tbody>\n",
              "</table>\n",
              "<p>4760 rows × 5 columns</p>\n",
              "</div>\n",
              "    <div class=\"colab-df-buttons\">\n",
              "\n",
              "  <div class=\"colab-df-container\">\n",
              "    <button class=\"colab-df-convert\" onclick=\"convertToInteractive('df-abbfc11d-ef33-4b2e-bb67-7a44834a1e1e')\"\n",
              "            title=\"Convert this dataframe to an interactive table.\"\n",
              "            style=\"display:none;\">\n",
              "\n",
              "  <svg xmlns=\"http://www.w3.org/2000/svg\" height=\"24px\" viewBox=\"0 -960 960 960\">\n",
              "    <path d=\"M120-120v-720h720v720H120Zm60-500h600v-160H180v160Zm220 220h160v-160H400v160Zm0 220h160v-160H400v160ZM180-400h160v-160H180v160Zm440 0h160v-160H620v160ZM180-180h160v-160H180v160Zm440 0h160v-160H620v160Z\"/>\n",
              "  </svg>\n",
              "    </button>\n",
              "\n",
              "  <style>\n",
              "    .colab-df-container {\n",
              "      display:flex;\n",
              "      gap: 12px;\n",
              "    }\n",
              "\n",
              "    .colab-df-convert {\n",
              "      background-color: #E8F0FE;\n",
              "      border: none;\n",
              "      border-radius: 50%;\n",
              "      cursor: pointer;\n",
              "      display: none;\n",
              "      fill: #1967D2;\n",
              "      height: 32px;\n",
              "      padding: 0 0 0 0;\n",
              "      width: 32px;\n",
              "    }\n",
              "\n",
              "    .colab-df-convert:hover {\n",
              "      background-color: #E2EBFA;\n",
              "      box-shadow: 0px 1px 2px rgba(60, 64, 67, 0.3), 0px 1px 3px 1px rgba(60, 64, 67, 0.15);\n",
              "      fill: #174EA6;\n",
              "    }\n",
              "\n",
              "    .colab-df-buttons div {\n",
              "      margin-bottom: 4px;\n",
              "    }\n",
              "\n",
              "    [theme=dark] .colab-df-convert {\n",
              "      background-color: #3B4455;\n",
              "      fill: #D2E3FC;\n",
              "    }\n",
              "\n",
              "    [theme=dark] .colab-df-convert:hover {\n",
              "      background-color: #434B5C;\n",
              "      box-shadow: 0px 1px 3px 1px rgba(0, 0, 0, 0.15);\n",
              "      filter: drop-shadow(0px 1px 2px rgba(0, 0, 0, 0.3));\n",
              "      fill: #FFFFFF;\n",
              "    }\n",
              "  </style>\n",
              "\n",
              "    <script>\n",
              "      const buttonEl =\n",
              "        document.querySelector('#df-abbfc11d-ef33-4b2e-bb67-7a44834a1e1e button.colab-df-convert');\n",
              "      buttonEl.style.display =\n",
              "        google.colab.kernel.accessAllowed ? 'block' : 'none';\n",
              "\n",
              "      async function convertToInteractive(key) {\n",
              "        const element = document.querySelector('#df-abbfc11d-ef33-4b2e-bb67-7a44834a1e1e');\n",
              "        const dataTable =\n",
              "          await google.colab.kernel.invokeFunction('convertToInteractive',\n",
              "                                                    [key], {});\n",
              "        if (!dataTable) return;\n",
              "\n",
              "        const docLinkHtml = 'Like what you see? Visit the ' +\n",
              "          '<a target=\"_blank\" href=https://colab.research.google.com/notebooks/data_table.ipynb>data table notebook</a>'\n",
              "          + ' to learn more about interactive tables.';\n",
              "        element.innerHTML = '';\n",
              "        dataTable['output_type'] = 'display_data';\n",
              "        await google.colab.output.renderOutput(dataTable, element);\n",
              "        const docLink = document.createElement('div');\n",
              "        docLink.innerHTML = docLinkHtml;\n",
              "        element.appendChild(docLink);\n",
              "      }\n",
              "    </script>\n",
              "  </div>\n",
              "\n",
              "\n",
              "<div id=\"df-9646c980-8274-4c2d-abd8-727fd9751950\">\n",
              "  <button class=\"colab-df-quickchart\" onclick=\"quickchart('df-9646c980-8274-4c2d-abd8-727fd9751950')\"\n",
              "            title=\"Suggest charts\"\n",
              "            style=\"display:none;\">\n",
              "\n",
              "<svg xmlns=\"http://www.w3.org/2000/svg\" height=\"24px\"viewBox=\"0 0 24 24\"\n",
              "     width=\"24px\">\n",
              "    <g>\n",
              "        <path d=\"M19 3H5c-1.1 0-2 .9-2 2v14c0 1.1.9 2 2 2h14c1.1 0 2-.9 2-2V5c0-1.1-.9-2-2-2zM9 17H7v-7h2v7zm4 0h-2V7h2v10zm4 0h-2v-4h2v4z\"/>\n",
              "    </g>\n",
              "</svg>\n",
              "  </button>\n",
              "\n",
              "<style>\n",
              "  .colab-df-quickchart {\n",
              "      --bg-color: #E8F0FE;\n",
              "      --fill-color: #1967D2;\n",
              "      --hover-bg-color: #E2EBFA;\n",
              "      --hover-fill-color: #174EA6;\n",
              "      --disabled-fill-color: #AAA;\n",
              "      --disabled-bg-color: #DDD;\n",
              "  }\n",
              "\n",
              "  [theme=dark] .colab-df-quickchart {\n",
              "      --bg-color: #3B4455;\n",
              "      --fill-color: #D2E3FC;\n",
              "      --hover-bg-color: #434B5C;\n",
              "      --hover-fill-color: #FFFFFF;\n",
              "      --disabled-bg-color: #3B4455;\n",
              "      --disabled-fill-color: #666;\n",
              "  }\n",
              "\n",
              "  .colab-df-quickchart {\n",
              "    background-color: var(--bg-color);\n",
              "    border: none;\n",
              "    border-radius: 50%;\n",
              "    cursor: pointer;\n",
              "    display: none;\n",
              "    fill: var(--fill-color);\n",
              "    height: 32px;\n",
              "    padding: 0;\n",
              "    width: 32px;\n",
              "  }\n",
              "\n",
              "  .colab-df-quickchart:hover {\n",
              "    background-color: var(--hover-bg-color);\n",
              "    box-shadow: 0 1px 2px rgba(60, 64, 67, 0.3), 0 1px 3px 1px rgba(60, 64, 67, 0.15);\n",
              "    fill: var(--button-hover-fill-color);\n",
              "  }\n",
              "\n",
              "  .colab-df-quickchart-complete:disabled,\n",
              "  .colab-df-quickchart-complete:disabled:hover {\n",
              "    background-color: var(--disabled-bg-color);\n",
              "    fill: var(--disabled-fill-color);\n",
              "    box-shadow: none;\n",
              "  }\n",
              "\n",
              "  .colab-df-spinner {\n",
              "    border: 2px solid var(--fill-color);\n",
              "    border-color: transparent;\n",
              "    border-bottom-color: var(--fill-color);\n",
              "    animation:\n",
              "      spin 1s steps(1) infinite;\n",
              "  }\n",
              "\n",
              "  @keyframes spin {\n",
              "    0% {\n",
              "      border-color: transparent;\n",
              "      border-bottom-color: var(--fill-color);\n",
              "      border-left-color: var(--fill-color);\n",
              "    }\n",
              "    20% {\n",
              "      border-color: transparent;\n",
              "      border-left-color: var(--fill-color);\n",
              "      border-top-color: var(--fill-color);\n",
              "    }\n",
              "    30% {\n",
              "      border-color: transparent;\n",
              "      border-left-color: var(--fill-color);\n",
              "      border-top-color: var(--fill-color);\n",
              "      border-right-color: var(--fill-color);\n",
              "    }\n",
              "    40% {\n",
              "      border-color: transparent;\n",
              "      border-right-color: var(--fill-color);\n",
              "      border-top-color: var(--fill-color);\n",
              "    }\n",
              "    60% {\n",
              "      border-color: transparent;\n",
              "      border-right-color: var(--fill-color);\n",
              "    }\n",
              "    80% {\n",
              "      border-color: transparent;\n",
              "      border-right-color: var(--fill-color);\n",
              "      border-bottom-color: var(--fill-color);\n",
              "    }\n",
              "    90% {\n",
              "      border-color: transparent;\n",
              "      border-bottom-color: var(--fill-color);\n",
              "    }\n",
              "  }\n",
              "</style>\n",
              "\n",
              "  <script>\n",
              "    async function quickchart(key) {\n",
              "      const quickchartButtonEl =\n",
              "        document.querySelector('#' + key + ' button');\n",
              "      quickchartButtonEl.disabled = true;  // To prevent multiple clicks.\n",
              "      quickchartButtonEl.classList.add('colab-df-spinner');\n",
              "      try {\n",
              "        const charts = await google.colab.kernel.invokeFunction(\n",
              "            'suggestCharts', [key], {});\n",
              "      } catch (error) {\n",
              "        console.error('Error during call to suggestCharts:', error);\n",
              "      }\n",
              "      quickchartButtonEl.classList.remove('colab-df-spinner');\n",
              "      quickchartButtonEl.classList.add('colab-df-quickchart-complete');\n",
              "    }\n",
              "    (() => {\n",
              "      let quickchartButtonEl =\n",
              "        document.querySelector('#df-9646c980-8274-4c2d-abd8-727fd9751950 button');\n",
              "      quickchartButtonEl.style.display =\n",
              "        google.colab.kernel.accessAllowed ? 'block' : 'none';\n",
              "    })();\n",
              "  </script>\n",
              "</div>\n",
              "\n",
              "  <div id=\"id_526ca30f-ec6a-4de0-9e62-2905ab713f39\">\n",
              "    <style>\n",
              "      .colab-df-generate {\n",
              "        background-color: #E8F0FE;\n",
              "        border: none;\n",
              "        border-radius: 50%;\n",
              "        cursor: pointer;\n",
              "        display: none;\n",
              "        fill: #1967D2;\n",
              "        height: 32px;\n",
              "        padding: 0 0 0 0;\n",
              "        width: 32px;\n",
              "      }\n",
              "\n",
              "      .colab-df-generate:hover {\n",
              "        background-color: #E2EBFA;\n",
              "        box-shadow: 0px 1px 2px rgba(60, 64, 67, 0.3), 0px 1px 3px 1px rgba(60, 64, 67, 0.15);\n",
              "        fill: #174EA6;\n",
              "      }\n",
              "\n",
              "      [theme=dark] .colab-df-generate {\n",
              "        background-color: #3B4455;\n",
              "        fill: #D2E3FC;\n",
              "      }\n",
              "\n",
              "      [theme=dark] .colab-df-generate:hover {\n",
              "        background-color: #434B5C;\n",
              "        box-shadow: 0px 1px 3px 1px rgba(0, 0, 0, 0.15);\n",
              "        filter: drop-shadow(0px 1px 2px rgba(0, 0, 0, 0.3));\n",
              "        fill: #FFFFFF;\n",
              "      }\n",
              "    </style>\n",
              "    <button class=\"colab-df-generate\" onclick=\"generateWithVariable('df_features')\"\n",
              "            title=\"Generate code using this dataframe.\"\n",
              "            style=\"display:none;\">\n",
              "\n",
              "  <svg xmlns=\"http://www.w3.org/2000/svg\" height=\"24px\"viewBox=\"0 0 24 24\"\n",
              "       width=\"24px\">\n",
              "    <path d=\"M7,19H8.4L18.45,9,17,7.55,7,17.6ZM5,21V16.75L18.45,3.32a2,2,0,0,1,2.83,0l1.4,1.43a1.91,1.91,0,0,1,.58,1.4,1.91,1.91,0,0,1-.58,1.4L9.25,21ZM18.45,9,17,7.55Zm-12,3A5.31,5.31,0,0,0,4.9,8.1,5.31,5.31,0,0,0,1,6.5,5.31,5.31,0,0,0,4.9,4.9,5.31,5.31,0,0,0,6.5,1,5.31,5.31,0,0,0,8.1,4.9,5.31,5.31,0,0,0,12,6.5,5.46,5.46,0,0,0,6.5,12Z\"/>\n",
              "  </svg>\n",
              "    </button>\n",
              "    <script>\n",
              "      (() => {\n",
              "      const buttonEl =\n",
              "        document.querySelector('#id_526ca30f-ec6a-4de0-9e62-2905ab713f39 button.colab-df-generate');\n",
              "      buttonEl.style.display =\n",
              "        google.colab.kernel.accessAllowed ? 'block' : 'none';\n",
              "\n",
              "      buttonEl.onclick = () => {\n",
              "        google.colab.notebook.generateWithVariable('df_features');\n",
              "      }\n",
              "      })();\n",
              "    </script>\n",
              "  </div>\n",
              "\n",
              "    </div>\n",
              "  </div>\n"
            ]
          },
          "metadata": {},
          "execution_count": 11
        }
      ],
      "source": [
        "df_features"
      ]
    },
    {
      "cell_type": "code",
      "execution_count": 12,
      "metadata": {
        "id": "QwKO0Jl-p-qE"
      },
      "outputs": [],
      "source": [
        "x = df_features['Movie_Genre'] + ' ' + df_features['Movie_Tagline'] + ' ' + df_features['Movie_Cast'] + ' ' + df_features['Movie_Director']"
      ]
    },
    {
      "cell_type": "code",
      "execution_count": 13,
      "metadata": {
        "colab": {
          "base_uri": "https://localhost:8080/"
        },
        "id": "zwzqINsMq4zr",
        "outputId": "14ae5b41-6b04-4395-de94-1b3d041577f7"
      },
      "outputs": [
        {
          "output_type": "execute_result",
          "data": {
            "text/plain": [
              "0       Crime Comedy Twelve outrageous guests. Four sc...\n",
              "1       Adventure Action Science Fiction A long time a...\n",
              "2       Animation Family There are 3.7 trillion fish i...\n",
              "3       Comedy Drama Romance The world will never be t...\n",
              "4       Drama Look closer. Kevin Spacey Annette Bening...\n",
              "                              ...                        \n",
              "4755    Horror The hot spot where Satan's waitin'. Lis...\n",
              "4756    Comedy Family Drama It’s better to stand out t...\n",
              "4757    Thriller Drama She never knew it could happen ...\n",
              "4758                                            Family   \n",
              "4759       Documentary  Tony Oppedisano Simon Napier-Bell\n",
              "Length: 4760, dtype: object"
            ]
          },
          "metadata": {},
          "execution_count": 13
        }
      ],
      "source": [
        "x"
      ]
    },
    {
      "cell_type": "code",
      "execution_count": 14,
      "metadata": {
        "colab": {
          "base_uri": "https://localhost:8080/"
        },
        "id": "mk1Lyhq8q8W5",
        "outputId": "80fa8fec-9b0b-4700-fabc-ed814a72bf84"
      },
      "outputs": [
        {
          "output_type": "execute_result",
          "data": {
            "text/plain": [
              "(4760,)"
            ]
          },
          "metadata": {},
          "execution_count": 14
        }
      ],
      "source": [
        "x.shape"
      ]
    },
    {
      "cell_type": "markdown",
      "metadata": {
        "id": "bcYDzQmnrE6Q"
      },
      "source": [
        "**Get Feature Text Conversion to Tokens**"
      ]
    },
    {
      "cell_type": "code",
      "execution_count": 15,
      "metadata": {
        "id": "XxE29rlyrD1K"
      },
      "outputs": [],
      "source": [
        "from sklearn.feature_extraction.text import TfidfVectorizer"
      ]
    },
    {
      "cell_type": "code",
      "execution_count": 16,
      "metadata": {
        "id": "S9pZ2e-W09ZQ"
      },
      "outputs": [],
      "source": [
        "tfidf = TfidfVectorizer()"
      ]
    },
    {
      "cell_type": "code",
      "execution_count": 17,
      "metadata": {
        "id": "EQyCx_NP1Dcg"
      },
      "outputs": [],
      "source": [
        "x = tfidf.fit_transform(x)"
      ]
    },
    {
      "cell_type": "code",
      "execution_count": 18,
      "metadata": {
        "colab": {
          "base_uri": "https://localhost:8080/"
        },
        "id": "_02o5LXo1MP9",
        "outputId": "116843e8-5245-46e3-8c64-4c77db74116d"
      },
      "outputs": [
        {
          "output_type": "execute_result",
          "data": {
            "text/plain": [
              "(4760, 14522)"
            ]
          },
          "metadata": {},
          "execution_count": 18
        }
      ],
      "source": [
        "x.shape"
      ]
    },
    {
      "cell_type": "markdown",
      "metadata": {
        "id": "ySA7Uh4k3_m4"
      },
      "source": []
    },
    {
      "cell_type": "code",
      "execution_count": 19,
      "metadata": {
        "colab": {
          "base_uri": "https://localhost:8080/"
        },
        "id": "e-ibdAID1OAT",
        "outputId": "ae9f2c2e-6198-4325-f41d-2a8ca9c85e76"
      },
      "outputs": [
        {
          "output_type": "stream",
          "name": "stdout",
          "text": [
            "  (0, 536)\t0.18650035534391993\n",
            "  (0, 425)\t0.163573988034563\n",
            "  (0, 12942)\t0.1673343571078569\n",
            "  (0, 8260)\t0.16243380336877533\n",
            "  (0, 8073)\t0.1895214821424654\n",
            "  (0, 1162)\t0.19294655321876156\n",
            "  (0, 6582)\t0.11189186354263483\n",
            "  (0, 1012)\t0.15832102537496356\n",
            "  (0, 635)\t0.15317383577872903\n",
            "  (0, 11059)\t0.163573988034563\n",
            "  (0, 12888)\t0.11963620447432914\n",
            "  (0, 7696)\t0.11052960016040947\n",
            "  (0, 9522)\t0.0817193034473646\n",
            "  (0, 4238)\t0.1813531657476854\n",
            "  (0, 14325)\t0.15477747865376898\n",
            "  (0, 9299)\t0.13177600168161205\n",
            "  (0, 14080)\t0.20157704304573848\n",
            "  (0, 4683)\t0.098789221275497\n",
            "  (0, 14047)\t0.12205988813713547\n",
            "  (0, 6652)\t0.17174230442934296\n",
            "  (0, 12768)\t0.11431048024187192\n",
            "  (0, 9596)\t0.1084085633118925\n",
            "  (0, 3252)\t0.1387089301293658\n",
            "  (0, 4594)\t0.13827045908436408\n",
            "  (0, 5989)\t0.2263333132749165\n",
            "  :\t:\n",
            "  (4757, 1894)\t0.30757798308075385\n",
            "  (4757, 11986)\t0.30757798308075385\n",
            "  (4757, 699)\t0.29336587999264124\n",
            "  (4757, 4852)\t0.258986481674795\n",
            "  (4757, 12273)\t0.258986481674795\n",
            "  (4757, 990)\t0.2017079859012847\n",
            "  (4757, 2910)\t0.2126571431460345\n",
            "  (4757, 5624)\t0.23256575558502307\n",
            "  (4757, 11699)\t0.17574280735214792\n",
            "  (4757, 9341)\t0.19618287718072355\n",
            "  (4757, 7169)\t0.2511649969371266\n",
            "  (4757, 5877)\t0.1824610108818817\n",
            "  (4757, 7089)\t0.1866512308804554\n",
            "  (4757, 12845)\t0.08173029845757258\n",
            "  (4757, 12916)\t0.10610980394127228\n",
            "  (4757, 6421)\t0.12266242201117997\n",
            "  (4757, 9297)\t0.15532169957924374\n",
            "  (4757, 3766)\t0.060644484319855856\n",
            "  (4758, 4374)\t1.0\n",
            "  (4759, 9616)\t0.5572028145970158\n",
            "  (4759, 9188)\t0.5131890638764602\n",
            "  (4759, 3647)\t0.30216883908425024\n",
            "  (4759, 11875)\t0.329655024339566\n",
            "  (4759, 12960)\t0.32296479807592227\n",
            "  (4759, 1247)\t0.34910930228325543\n"
          ]
        }
      ],
      "source": [
        "print(x)"
      ]
    },
    {
      "cell_type": "markdown",
      "metadata": {
        "id": "gCQxI6yo1Ylj"
      },
      "source": [
        "**Get Similarity Score using Cousine Similarity**"
      ]
    },
    {
      "cell_type": "code",
      "execution_count": 20,
      "metadata": {
        "id": "aqNvYe3f1QXS"
      },
      "outputs": [],
      "source": [
        "from sklearn.metrics.pairwise import cosine_similarity"
      ]
    },
    {
      "cell_type": "code",
      "execution_count": 21,
      "metadata": {
        "id": "Up0qGGC6167n"
      },
      "outputs": [],
      "source": [
        "Similarity_Score = cosine_similarity(x)"
      ]
    },
    {
      "cell_type": "code",
      "execution_count": 22,
      "metadata": {
        "colab": {
          "base_uri": "https://localhost:8080/"
        },
        "id": "77ypLZd82IY2",
        "outputId": "304f59ea-2a13-4a1f-e39b-8f553bc363ff"
      },
      "outputs": [
        {
          "output_type": "execute_result",
          "data": {
            "text/plain": [
              "array([[1.        , 0.02078195, 0.05449681, ..., 0.        , 0.        ,\n",
              "        0.        ],\n",
              "       [0.02078195, 1.        , 0.01356195, ..., 0.        , 0.        ,\n",
              "        0.        ],\n",
              "       [0.05449681, 0.01356195, 1.        , ..., 0.        , 0.10459462,\n",
              "        0.        ],\n",
              "       ...,\n",
              "       [0.        , 0.        , 0.        , ..., 1.        , 0.        ,\n",
              "        0.        ],\n",
              "       [0.        , 0.        , 0.10459462, ..., 0.        , 1.        ,\n",
              "        0.        ],\n",
              "       [0.        , 0.        , 0.        , ..., 0.        , 0.        ,\n",
              "        1.        ]])"
            ]
          },
          "metadata": {},
          "execution_count": 22
        }
      ],
      "source": [
        "Similarity_Score"
      ]
    },
    {
      "cell_type": "code",
      "execution_count": 23,
      "metadata": {
        "colab": {
          "base_uri": "https://localhost:8080/"
        },
        "id": "O5o5ju6v2mM6",
        "outputId": "ab4c2b50-362b-4cf8-f978-a48a77de06dd"
      },
      "outputs": [
        {
          "output_type": "execute_result",
          "data": {
            "text/plain": [
              "(4760, 4760)"
            ]
          },
          "metadata": {},
          "execution_count": 23
        }
      ],
      "source": [
        "Similarity_Score.shape"
      ]
    },
    {
      "cell_type": "markdown",
      "metadata": {
        "id": "jFRCkv0924yL"
      },
      "source": [
        "**Get Movie Name as Input from User and validate for closest spelling**"
      ]
    },
    {
      "cell_type": "code",
      "execution_count": 63,
      "metadata": {
        "colab": {
          "base_uri": "https://localhost:8080/"
        },
        "id": "90Rzd0E523xU",
        "outputId": "d4fb66dc-c8fd-4175-dbd5-c2a96f196b45"
      },
      "outputs": [
        {
          "name": "stdout",
          "output_type": "stream",
          "text": [
            " Enter your fovourite movie name :Four Rooms\n"
          ]
        }
      ],
      "source": [
        "Favourite_Movie_Name = input(' Enter your fovourite movie name :')"
      ]
    },
    {
      "cell_type": "code",
      "execution_count": 64,
      "metadata": {
        "id": "hy3AdGw43sn-"
      },
      "outputs": [],
      "source": [
        "All_Movies_Title_List = df['Movie_Title'].tolist()"
      ]
    },
    {
      "cell_type": "code",
      "execution_count": 65,
      "metadata": {
        "id": "D8dedF9N6kh0"
      },
      "outputs": [],
      "source": [
        "import difflib"
      ]
    },
    {
      "cell_type": "code",
      "execution_count": 66,
      "metadata": {
        "id": "Q2IV59Ne67h2"
      },
      "outputs": [],
      "source": [
        "Movie_Recommendation = difflib.get_close_matches(Favourite_Movie_Name, All_Movies_Title_List)"
      ]
    },
    {
      "cell_type": "code",
      "execution_count": 67,
      "metadata": {
        "colab": {
          "base_uri": "https://localhost:8080/"
        },
        "id": "euW9s84p7P8u",
        "outputId": "13609516-4a2e-4514-aa3f-73fc79577e7b"
      },
      "outputs": [
        {
          "output_type": "stream",
          "name": "stdout",
          "text": [
            "Four Rooms\n"
          ]
        }
      ],
      "source": [
        "Close_Match = Movie_Recommendation[0]\n",
        "print(Close_Match)"
      ]
    },
    {
      "cell_type": "code",
      "execution_count": 68,
      "metadata": {
        "colab": {
          "base_uri": "https://localhost:8080/"
        },
        "id": "XAOpp8v87nU8",
        "outputId": "77d7a9b5-46e6-4cc8-8cea-93d62b087b0b"
      },
      "outputs": [
        {
          "output_type": "stream",
          "name": "stdout",
          "text": [
            "1\n"
          ]
        }
      ],
      "source": [
        "Index_of_Close_Match_Movie = df[df.Movie_Title == Close_Match]['Movie_ID'].values[0]\n",
        "print(Index_of_Close_Match_Movie)"
      ]
    },
    {
      "cell_type": "code",
      "execution_count": 69,
      "metadata": {
        "colab": {
          "base_uri": "https://localhost:8080/"
        },
        "id": "OYij9psU8RTz",
        "outputId": "87c84a52-d884-451c-bb38-f4e3d8ad78b5"
      },
      "outputs": [
        {
          "output_type": "stream",
          "name": "stdout",
          "text": [
            "[(0, 0.02078194865215112), (1, 1.0000000000000002), (2, 0.013561949875207516), (3, 0.0), (4, 0.0), (5, 0.020442629663982314), (6, 0.04588014273201323), (7, 0.016918736368286072), (8, 0.0), (9, 0.016602891404490186), (10, 0.00805284789938582), (11, 0.07307982260797224), (12, 0.04066453959080953), (13, 0.0), (14, 0.0), (15, 0.042884476089669825), (16, 0.0), (17, 0.018551822411150033), (18, 0.0), (19, 0.04260382634883794), (20, 0.0), (21, 0.0), (22, 0.026756285827036787), (23, 0.0), (24, 0.0), (25, 0.0), (26, 0.0), (27, 0.038534779753535836), (28, 0.02701433217296325), (29, 0.0), (30, 0.0693984371559798), (31, 0.10098062894053597), (32, 0.01404361460841953), (33, 0.03783482641265297), (34, 0.0), (35, 0.08513077181390533), (36, 0.0970766798728788), (37, 0.11312515437976911), (38, 0.00834131388799922), (39, 0.04132376276717169), (40, 0.009506406201670268), (41, 0.020211228783899193), (42, 0.0), (43, 0.03174642243835661), (44, 0.00570543069824994), (45, 0.033433402988619576), (46, 0.04008140756265699), (47, 0.0), (48, 0.008014780500284651), (49, 0.0), (50, 0.0), (51, 0.0), (52, 0.0), (53, 0.008970822131186272), (54, 0.04076199323659956), (55, 0.041879203248951856), (56, 0.03963042808592858), (57, 0.007370652605886273), (58, 0.007444539044958767), (59, 0.04486525015272726), (60, 0.0), (61, 0.09776338898425153), (62, 0.0), (63, 0.012597576175279634), (64, 0.020635198826749253), (65, 0.07451240854601072), (66, 0.0), (67, 0.06319684103158493), (68, 0.008128339149220487), (69, 0.06186086373828625), (70, 0.04902411914851816), (71, 0.0), (72, 0.02774932727458238), (73, 0.03019482400686728), (74, 0.02531183952618192), (75, 0.06289648419909091), (76, 0.056014939047924386), (77, 0.018293059821352695), (78, 0.06823381866705727), (79, 0.056857719418094435), (80, 0.06938216207344683), (81, 0.0), (82, 0.0), (83, 0.0), (84, 0.0323394577988967), (85, 0.024196099736244238), (86, 0.0119004167228481), (87, 0.025383474284138296), (88, 0.01984337782286365), (89, 0.0), (90, 0.046402270796948836), (91, 0.13797949723029904), (92, 0.006089325257216593), (93, 0.03962869814580812), (94, 0.039128518726165316), (95, 0.0429818282599766), (96, 0.027321669610680676), (97, 0.02281906965645563), (98, 0.019919512288284934), (99, 0.0), (100, 0.0), (101, 0.12443579719718037), (102, 0.052872622082634116), (103, 0.0), (104, 0.02520603352511304), (105, 0.0191997145113072), (106, 0.02746905901801759), (107, 0.030787970833594122), (108, 0.018813563329470394), (109, 0.038557521273797114), (110, 0.02537812252874816), (111, 0.03403669058981674), (112, 0.03410028740446126), (113, 0.012182399586550057), (114, 0.0), (115, 0.06128006078197197), (116, 0.0), (117, 0.022192519826042298), (118, 0.01674972351539829), (119, 0.04191074431093948), (120, 0.0), (121, 0.012669399377421658), (122, 0.02028219901962153), (123, 0.008366010667491694), (124, 0.0), (125, 0.008352805511187713), (126, 0.021110709687649273), (127, 0.0), (128, 0.04003337305796861), (129, 0.0), (130, 0.024993147214521453), (131, 0.0), (132, 0.013285970309764833), (133, 0.0), (134, 0.0), (135, 0.03424812595140017), (136, 0.0), (137, 0.025960974735054026), (138, 0.0), (139, 0.008483115379131292), (140, 0.0), (141, 0.016775696989496335), (142, 0.0), (143, 0.023361592907551864), (144, 0.0068959605817421185), (145, 0.0), (146, 0.022652952182038655), (147, 0.0), (148, 0.006185759711909458), (149, 0.0), (150, 0.06129895826269795), (151, 0.04727541121852024), (152, 0.08589646767159093), (153, 0.0681602611460677), (154, 0.0), (155, 0.010392161310325604), (156, 0.01147119490056488), (157, 0.0), (158, 0.0), (159, 0.0052688620153375195), (160, 0.04691758462970626), (161, 0.0), (162, 0.007711174494305832), (163, 0.0), (164, 0.0), (165, 0.01401186047123263), (166, 0.0), (167, 0.01438990595978978), (168, 0.011364128164931481), (169, 0.0), (170, 0.006780179557664018), (171, 0.040168298076779574), (172, 0.014691625600663831), (173, 0.0), (174, 0.02193058788162543), (175, 0.0), (176, 0.0), (177, 0.0), (178, 0.015628708865582572), (179, 0.009024388959374099), (180, 0.008212846792348674), (181, 0.03372545744096733), (182, 0.01008870742759902), (183, 0.0), (184, 0.0), (185, 0.009076357987452372), (186, 0.0), (187, 0.021728961487841494), (188, 0.0), (189, 0.04889921733247216), (190, 0.0), (191, 0.040896845828204666), (192, 0.0), (193, 0.0), (194, 0.0), (195, 0.0), (196, 0.0), (197, 0.0), (198, 0.0), (199, 0.0), (200, 0.021372610997221615), (201, 0.01790125675788319), (202, 0.00889041509475412), (203, 0.026695183119358788), (204, 0.0), (205, 0.0), (206, 0.0), (207, 0.0), (208, 0.062148383623215744), (209, 0.0), (210, 0.007575178322228625), (211, 0.0), (212, 0.013177680649332188), (213, 0.0), (214, 0.0), (215, 0.0), (216, 0.0), (217, 0.006743236945579867), (218, 0.02121200583650556), (219, 0.030905895525189245), (220, 0.03538909902277464), (221, 0.0), (222, 0.0), (223, 0.007288265135569395), (224, 0.0), (225, 0.01833588814651131), (226, 0.0), (227, 0.0), (228, 0.01031997644726588), (229, 0.0), (230, 0.007027448525701837), (231, 0.0349865339912957), (232, 0.018583558516587644), (233, 0.006724452961209385), (234, 0.035710834769363854), (235, 0.0), (236, 0.03575855424832322), (237, 0.052244463455173355), (238, 0.0), (239, 0.028003820782769428), (240, 0.013487701650643972), (241, 0.03971444763203989), (242, 0.0079521573511303), (243, 0.0), (244, 0.008026369885854808), (245, 0.0), (246, 0.0), (247, 0.01838556657414154), (248, 0.0), (249, 0.0662524006045512), (250, 0.0), (251, 0.11154822117520616), (252, 0.031387622786281544), (253, 0.0), (254, 0.0), (255, 0.05133667460744029), (256, 0.0), (257, 0.047177552229096816), (258, 0.042377967794139076), (259, 0.08281028474931953), (260, 0.08805569722840789), (261, 0.08640003815770174), (262, 0.0), (263, 0.04066203889336367), (264, 0.04256231937581048), (265, 0.0), (266, 0.015466503610221885), (267, 0.0), (268, 0.0), (269, 0.03097840534238918), (270, 0.0), (271, 0.01642255741784221), (272, 0.0), (273, 0.0), (274, 0.0), (275, 0.0), (276, 0.0), (277, 0.007688578275326544), (278, 0.0), (279, 0.13426872356146313), (280, 0.0), (281, 0.0), (282, 0.025074374332623498), (283, 0.023207678097020568), (284, 0.04113924149464256), (285, 0.0379618840389824), (286, 0.008067288368950801), (287, 0.0), (288, 0.013001400172871217), (289, 0.014323906516703344), (290, 0.012998154258250367), (291, 0.0), (292, 0.016713127391060997), (293, 0.0), (294, 0.012356867471589393), (295, 0.2595604555769559), (296, 0.005167653858007334), (297, 0.010824839686765427), (298, 0.026306007486127932), (299, 0.009604526683619385), (300, 0.009577649765640855), (301, 0.010392346219994204), (302, 0.0), (303, 0.0698014612179312), (304, 0.0), (305, 0.016640260293419678), (306, 0.01486786527267776), (307, 0.023649511715930813), (308, 0.0), (309, 0.011102782895917266), (310, 0.015482609091379886), (311, 0.014019217178742847), (312, 0.0), (313, 0.0), (314, 0.03733899038031288), (315, 0.016422768672158965), (316, 0.04366762809052612), (317, 0.0), (318, 0.0), (319, 0.07381651870527224), (320, 0.017662196605287433), (321, 0.01630620801421124), (322, 0.016483055145984856), (323, 0.0156543992390615), (324, 0.013410953733341757), (325, 0.0), (326, 0.0), (327, 0.027774097848918544), (328, 0.007536477637619776), (329, 0.0), (330, 0.013213674660715685), (331, 0.0), (332, 0.005013884452545819), (333, 0.04466733119126322), (334, 0.027817279913406844), (335, 0.0), (336, 0.006464456165768794), (337, 0.014863816072885656), (338, 0.01374378481547494), (339, 0.037865459155846395), (340, 0.010610505082236169), (341, 0.0), (342, 0.01540950599162425), (343, 0.029258395186668836), (344, 0.0), (345, 0.023493919375756588), (346, 0.0), (347, 0.02492985744796422), (348, 0.0), (349, 0.0), (350, 0.008230111867802573), (351, 0.010474158861455536), (352, 0.012593573427826429), (353, 0.0076445071247425046), (354, 0.0), (355, 0.0256650436142592), (356, 0.02737891722155209), (357, 0.024163740214487528), (358, 0.019989198003245726), (359, 0.0), (360, 0.0), (361, 0.010159374276196578), (362, 0.040877862674761026), (363, 0.010919487130758656), (364, 0.030061870472296824), (365, 0.010077488754941093), (366, 0.01576619762400717), (367, 0.02317510174641793), (368, 0.04129728662453686), (369, 0.017898904557015996), (370, 0.0), (371, 0.05167748203646245), (372, 0.0), (373, 0.014124661723222482), (374, 0.10600307472265064), (375, 0.030306084795007494), (376, 0.040112214588401605), (377, 0.08755430272164644), (378, 0.025882888622297574), (379, 0.037053581555659715), (380, 0.02865235061430966), (381, 0.052071767191335785), (382, 0.03672536549648306), (383, 0.018752077903338906), (384, 0.0), (385, 0.0), (386, 0.008227393815610447), (387, 0.0), (388, 0.0), (389, 0.025772336827084817), (390, 0.04153954069454125), (391, 0.0), (392, 0.0), (393, 0.0), (394, 0.027433060647147685), (395, 0.0), (396, 0.01320094004973308), (397, 0.060026631722620516), (398, 0.0), (399, 0.0), (400, 0.0), (401, 0.033662805196950994), (402, 0.0), (403, 0.01278493961404992), (404, 0.0), (405, 0.053899257433244294), (406, 0.0), (407, 0.0813901457793208), (408, 0.0), (409, 0.009365643631083734), (410, 0.0), (411, 0.0067457950840005085), (412, 0.0), (413, 0.027358835158553328), (414, 0.0), (415, 0.0), (416, 0.04552830290503397), (417, 0.0190933678611319), (418, 0.024879087268270726), (419, 0.16752637235261789), (420, 0.0), (421, 0.055215858150845544), (422, 0.0), (423, 0.0), (424, 0.018534809262455862), (425, 0.0187781124879386), (426, 0.01489653828478405), (427, 0.02390880097164106), (428, 0.008519442023796205), (429, 0.02686394932103505), (430, 0.027170049598716793), (431, 0.0), (432, 0.019570960801376866), (433, 0.0), (434, 0.018414264711986983), (435, 0.00566747208284802), (436, 0.026388253403253792), (437, 0.0), (438, 0.020719780748695116), (439, 0.02563487763902166), (440, 0.03406401973002342), (441, 0.0), (442, 0.006099664458661775), (443, 0.0), (444, 0.0), (445, 0.0), (446, 0.0), (447, 0.09236603125406564), (448, 0.017729216191825214), (449, 0.0), (450, 0.02157131813359412), (451, 0.032446455092247986), (452, 0.012456425727688816), (453, 0.018018067318830683), (454, 0.0), (455, 0.00794328073108851), (456, 0.0), (457, 0.008217443849320662), (458, 0.007208799709893355), (459, 0.0), (460, 0.026719236924949315), (461, 0.012314821929801954), (462, 0.0), (463, 0.03747769772818929), (464, 0.0), (465, 0.013952115823207293), (466, 0.0), (467, 0.044665671478555456), (468, 0.03959630541629932), (469, 0.05137925831070269), (470, 0.007441765145151554), (471, 0.0), (472, 0.05952879147778862), (473, 0.0), (474, 0.029170497823490175), (475, 0.0), (476, 0.0), (477, 0.019851343048925482), (478, 0.02393556952490282), (479, 0.0), (480, 0.0), (481, 0.11747788812955795), (482, 0.049509618035947646), (483, 0.0), (484, 0.042000742086070124), (485, 0.0), (486, 0.048018779407566936), (487, 0.0), (488, 0.0), (489, 0.0), (490, 0.0), (491, 0.05179816451013219), (492, 0.030694553937905284), (493, 0.0), (494, 0.021676511867922684), (495, 0.0059135645797747), (496, 0.027147290964640452), (497, 0.037143742385935576), (498, 0.07306134340522479), (499, 0.0), (500, 0.006470196963019498), (501, 0.014254191197703046), (502, 0.04776207558272423), (503, 0.0), (504, 0.0), (505, 0.0), (506, 0.0), (507, 0.0), (508, 0.04021492269538522), (509, 0.026933118494822158), (510, 0.0), (511, 0.022805597071108855), (512, 0.04819338415843111), (513, 0.007453986697777326), (514, 0.007676909249780102), (515, 0.0069997475949349925), (516, 0.03069578293956892), (517, 0.032721412305290874), (518, 0.0), (519, 0.014587627612471872), (520, 0.0), (521, 0.0), (522, 0.0), (523, 0.0), (524, 0.013701175216081598), (525, 0.0), (526, 0.0), (527, 0.0), (528, 0.018249172051184696), (529, 0.0), (530, 0.02742959590997681), (531, 0.027354196129217627), (532, 0.018994599991691466), (533, 0.00856438024208429), (534, 0.007255219110105274), (535, 0.0), (536, 0.0), (537, 0.08137486899124359), (538, 0.012903401741399001), (539, 0.017810941149909023), (540, 0.014694233804356017), (541, 0.0), (542, 0.014179101412383342), (543, 0.031313119660188876), (544, 0.0), (545, 0.053967200403556626), (546, 0.07759384289441175), (547, 0.0), (548, 0.01467621776857454), (549, 0.013634159944373713), (550, 0.06428012819529196), (551, 0.0), (552, 0.0), (553, 0.04748697925095696), (554, 0.030557383939399697), (555, 0.05619735886241996), (556, 0.0), (557, 0.0), (558, 0.0), (559, 0.0), (560, 0.007071579530933625), (561, 0.03087770728890448), (562, 0.03163284512497963), (563, 0.0), (564, 0.0), (565, 0.042451058959907285), (566, 0.03355709970289693), (567, 0.04223326752096514), (568, 0.015568771636460062), (569, 0.01416976064675141), (570, 0.06162089653086181), (571, 0.0), (572, 0.0425250697577041), (573, 0.024070807831731007), (574, 0.0), (575, 0.12635578965173128), (576, 0.0), (577, 0.0), (578, 0.0), (579, 0.0), (580, 0.0), (581, 0.0), (582, 0.0), (583, 0.01856760922400956), (584, 0.0), (585, 0.0), (586, 0.010570899538988031), (587, 0.0), (588, 0.0), (589, 0.0), (590, 0.0), (591, 0.04771736412984259), (592, 0.01755310201689934), (593, 0.0), (594, 0.009296761509672305), (595, 0.008987450474957043), (596, 0.0), (597, 0.0), (598, 0.0), (599, 0.35760244161931687), (600, 0.3528310190851164), (601, 0.0861243309526413), (602, 0.08709582287993003), (603, 0.11903418787025799), (604, 0.04556152973222013), (605, 0.012309409676617696), (606, 0.025208814337704194), (607, 0.0), (608, 0.008613756207090715), (609, 0.010935060957267234), (610, 0.016690153399350528), (611, 0.0), (612, 0.0), (613, 0.0419671720623366), (614, 0.08288508273037098), (615, 0.018835223658477084), (616, 0.0), (617, 0.0), (618, 0.0), (619, 0.033220653302606824), (620, 0.040183073658887784), (621, 0.005574781161372213), (622, 0.02370032805552248), (623, 0.0), (624, 0.0), (625, 0.021361762368970263), (626, 0.0), (627, 0.01536478224504046), (628, 0.0), (629, 0.01237890042736024), (630, 0.0), (631, 0.01755580295934083), (632, 0.006521316424974855), (633, 0.0), (634, 0.0), (635, 0.01798961610633804), (636, 0.0), (637, 0.0), (638, 0.0), (639, 0.015119594648358735), (640, 0.01346633438261597), (641, 0.006606304621454948), (642, 0.0), (643, 0.020354422457680942), (644, 0.006380368417898478), (645, 0.0), (646, 0.0), (647, 0.0), (648, 0.0), (649, 0.04809696020695632), (650, 0.008651617463905727), (651, 0.006856908881229528), (652, 0.0), (653, 0.006313434287947401), (654, 0.10531104335966009), (655, 0.0), (656, 0.03472082314081805), (657, 0.0), (658, 0.0), (659, 0.019189379945628283), (660, 0.0), (661, 0.027243361038453366), (662, 0.02039892615408559), (663, 0.028634975600266975), (664, 0.026864724099027435), (665, 0.0), (666, 0.04664798280327211), (667, 0.0), (668, 0.018135350273993), (669, 0.025579639346073293), (670, 0.03306186066856376), (671, 0.0), (672, 0.012710807899927314), (673, 0.007570975536217667), (674, 0.08004285865583421), (675, 0.0), (676, 0.0), (677, 0.011371023186527664), (678, 0.026354349640920073), (679, 0.0), (680, 0.05822464331389571), (681, 0.1070092440238686), (682, 0.0072595097320650465), (683, 0.008259023411172725), (684, 0.030867332808923977), (685, 0.0), (686, 0.039948200066552926), (687, 0.03325069935479827), (688, 0.008235863796552981), (689, 0.0), (690, 0.005956432549383029), (691, 0.011728104704099592), (692, 0.013939693197322614), (693, 0.0), (694, 0.08240368109420974), (695, 0.020510302196988277), (696, 0.0), (697, 0.0), (698, 0.014033961071558862), (699, 0.008863157011429436), (700, 0.009902803382612757), (701, 0.0), (702, 0.02333783967743048), (703, 0.0), (704, 0.0), (705, 0.014213279726841001), (706, 0.0), (707, 0.018043650462554378), (708, 0.0), (709, 0.0), (710, 0.0), (711, 0.0), (712, 0.0), (713, 0.0090489735839609), (714, 0.019349113546446813), (715, 0.018043169359342925), (716, 0.01720084016094611), (717, 0.016018885330230416), (718, 0.023725276544115496), (719, 0.005176313690542293), (720, 0.009236687142455983), (721, 0.027904348655669018), (722, 0.0), (723, 0.00610124015343862), (724, 0.00964305712861318), (725, 0.014440931130306513), (726, 0.008841982138361933), (727, 0.0069978752866055455), (728, 0.007609158141990562), (729, 0.007974510945713964), (730, 0.0), (731, 0.03808295842813797), (732, 0.012719661882513122), (733, 0.021337041037132083), (734, 0.0), (735, 0.0), (736, 0.0), (737, 0.0), (738, 0.005416740950128797), (739, 0.026369118034092823), (740, 0.0), (741, 0.0), (742, 0.0), (743, 0.0), (744, 0.07235500538813297), (745, 0.04470492490117059), (746, 0.0), (747, 0.027397862190525465), (748, 0.02903225206741476), (749, 0.007326104450735174), (750, 0.0250174005413834), (751, 0.037750340374151106), (752, 0.0), (753, 0.008184886665507823), (754, 0.0), (755, 0.0), (756, 0.04590481769864776), (757, 0.0), (758, 0.0), (759, 0.0), (760, 0.0), (761, 0.0), (762, 0.03791658945736421), (763, 0.045205206948685905), (764, 0.0), (765, 0.0), (766, 0.0), (767, 0.0), (768, 0.0), (769, 0.024931261994959392), (770, 0.0), (771, 0.0), (772, 0.0), (773, 0.0), (774, 0.0), (775, 0.017129450173165355), (776, 0.04141015066110408), (777, 0.0), (778, 0.07603061401549026), (779, 0.005689821121837204), (780, 0.0), (781, 0.02238514205576715), (782, 0.0), (783, 0.0), (784, 0.027303423981420077), (785, 0.027648954437608227), (786, 0.018564712823774494), (787, 0.0), (788, 0.0), (789, 0.0), (790, 0.014821488795802303), (791, 0.0), (792, 0.01618394921936462), (793, 0.037660693326306546), (794, 0.02297065356335182), (795, 0.007344062845483108), (796, 0.028879302362719), (797, 0.0), (798, 0.02476973569683657), (799, 0.0), (800, 0.006404114080760333), (801, 0.0), (802, 0.026436181830487945), (803, 0.05392198065686934), (804, 0.019092520012406758), (805, 0.0), (806, 0.0), (807, 0.0), (808, 0.0), (809, 0.007980423795203988), (810, 0.0), (811, 0.0), (812, 0.024372093062872368), (813, 0.022866400338146717), (814, 0.0), (815, 0.0), (816, 0.0), (817, 0.0), (818, 0.0), (819, 0.0), (820, 0.02050034672123149), (821, 0.027447308992807007), (822, 0.05711917829905514), (823, 0.0), (824, 0.010007246791796187), (825, 0.006544842674340792), (826, 0.017744791093457973), (827, 0.00675514946535585), (828, 0.0), (829, 0.0), (830, 0.0), (831, 0.0), (832, 0.0), (833, 0.08333425221077816), (834, 0.08623304274238522), (835, 0.08745223445120454), (836, 0.0), (837, 0.0), (838, 0.0), (839, 0.014619809171557963), (840, 0.0), (841, 0.0), (842, 0.029940744400509988), (843, 0.0), (844, 0.030748687615869272), (845, 0.028079325137919678), (846, 0.0), (847, 0.0234121963887965), (848, 0.007373646423811514), (849, 0.035639807176757445), (850, 0.036581402247444446), (851, 0.006476740683153903), (852, 0.009929911229441311), (853, 0.055940390413727045), (854, 0.0072444384075505), (855, 0.056407960061579374), (856, 0.015118373920469622), (857, 0.0), (858, 0.0), (859, 0.0), (860, 0.0), (861, 0.0), (862, 0.0), (863, 0.03511005201815895), (864, 0.027294343626401665), (865, 0.0), (866, 0.006694912739574333), (867, 0.0), (868, 0.006902780884111142), (869, 0.00682882859394929), (870, 0.0), (871, 0.010133824821141226), (872, 0.04575590754599958), (873, 0.0), (874, 0.0), (875, 0.016226109351383824), (876, 0.03331725544448411), (877, 0.019991784249704922), (878, 0.0065355484512256345), (879, 0.02592911885827377), (880, 0.02812068631123494), (881, 0.01046248557774178), (882, 0.008001093382549564), (883, 0.047224514473866296), (884, 0.028841330755891587), (885, 0.0), (886, 0.0), (887, 0.07997638319560864), (888, 0.0), (889, 0.0), (890, 0.0), (891, 0.044238764110261994), (892, 0.024460496143237493), (893, 0.0), (894, 0.0), (895, 0.03671303341702668), (896, 0.04318313809558827), (897, 0.0), (898, 0.0), (899, 0.0), (900, 0.0), (901, 0.028807605924457306), (902, 0.04299850881003307), (903, 0.03089598935587821), (904, 0.007612052860958578), (905, 0.00728695824989632), (906, 0.055417782615353184), (907, 0.0), (908, 0.007152382350672737), (909, 0.03100760452184044), (910, 0.0), (911, 0.01501912075800073), (912, 0.0426151312884763), (913, 0.03497534715882141), (914, 0.011622025633725159), (915, 0.08619163963078591), (916, 0.025059622382172315), (917, 0.0), (918, 0.07783985947033047), (919, 0.017015033736779935), (920, 0.009501274732622822), (921, 0.008671223013268448), (922, 0.0), (923, 0.0), (924, 0.019625691021248438), (925, 0.0), (926, 0.006959431186629545), (927, 0.0), (928, 0.033146054714265155), (929, 0.004895891179908248), (930, 0.0), (931, 0.01520919490687833), (932, 0.021021137208255103), (933, 0.0), (934, 0.0), (935, 0.009262678229374988), (936, 0.02177351301408943), (937, 0.0), (938, 0.03956993823243408), (939, 0.03832664889997348), (940, 0.0), (941, 0.0), (942, 0.0), (943, 0.0), (944, 0.0), (945, 0.03127996833184208), (946, 0.09912924884015831), (947, 0.008831763661708915), (948, 0.008247781445755763), (949, 0.0), (950, 0.04292293808429688), (951, 0.008246710050662815), (952, 0.024048937774424572), (953, 0.0), (954, 0.016123581791829163), (955, 0.0), (956, 0.07842931354113074), (957, 0.012375784652604088), (958, 0.0), (959, 0.0), (960, 0.0), (961, 0.04343892457140023), (962, 0.01353280715395128), (963, 0.03124769255772254), (964, 0.0), (965, 0.017031535760013188), (966, 0.017825004968885522), (967, 0.0), (968, 0.0), (969, 0.0), (970, 0.0), (971, 0.0), (972, 0.0), (973, 0.0), (974, 0.029990524231017855), (975, 0.03275363035776666), (976, 0.0), (977, 0.04966778779963898), (978, 0.0), (979, 0.0), (980, 0.0), (981, 0.03883314954293056), (982, 0.0), (983, 0.0), (984, 0.0), (985, 0.0), (986, 0.0066585182997767785), (987, 0.0), (988, 0.04710017041708548), (989, 0.0), (990, 0.028462522210397957), (991, 0.0), (992, 0.07495166331742427), (993, 0.0), (994, 0.007544593188001835), (995, 0.0), (996, 0.008761583980642624), (997, 0.04260701512868069), (998, 0.0), (999, 0.0), (1000, 0.007140874759754503), (1001, 0.016448487832140292), (1002, 0.0), (1003, 0.026697025384089437), (1004, 0.0), (1005, 0.005690899758136283), (1006, 0.0), (1007, 0.026566403372782668), (1008, 0.01333152776930004), (1009, 0.0), (1010, 0.006514690164539061), (1011, 0.05629879163821935), (1012, 0.016393755299046627), (1013, 0.036107344522385496), (1014, 0.03842224922684924), (1015, 0.0075649583237942155), (1016, 0.008339612334449235), (1017, 0.02900945817053431), (1018, 0.0), (1019, 0.0), (1020, 0.0), (1021, 0.0), (1022, 0.04744710586326152), (1023, 0.00705191254651127), (1024, 0.055028326852141866), (1025, 0.02562612644918326), (1026, 0.014327562019115548), (1027, 0.0), (1028, 0.04008550116838434), (1029, 0.049300872249551146), (1030, 0.0), (1031, 0.033921731578249924), (1032, 0.0), (1033, 0.0), (1034, 0.0), (1035, 0.00692947409510867), (1036, 0.0), (1037, 0.0), (1038, 0.04097090250587858), (1039, 0.0), (1040, 0.0), (1041, 0.0), (1042, 0.0), (1043, 0.0472760360007663), (1044, 0.007579393889645903), (1045, 0.017744401470368185), (1046, 0.04753316342672365), (1047, 0.0), (1048, 0.0), (1049, 0.0), (1050, 0.008619734013843056), (1051, 0.011961985165791143), (1052, 0.0), (1053, 0.0), (1054, 0.006601421169536494), (1055, 0.02389051146522813), (1056, 0.035122917924025714), (1057, 0.03324980910002476), (1058, 0.051306025654508335), (1059, 0.0), (1060, 0.042447289859226855), (1061, 0.0), (1062, 0.0), (1063, 0.016380083284188482), (1064, 0.0), (1065, 0.006447472591823979), (1066, 0.02874303451036979), (1067, 0.033509013999975766), (1068, 0.0), (1069, 0.03866990394157387), (1070, 0.0), (1071, 0.04417621388510947), (1072, 0.022101931868794267), (1073, 0.0), (1074, 0.03308849688056364), (1075, 0.0), (1076, 0.029164887685526285), (1077, 0.0), (1078, 0.0), (1079, 0.009542605804434393), (1080, 0.0), (1081, 0.0), (1082, 0.08040170123658738), (1083, 0.05384174960098121), (1084, 0.0), (1085, 0.010154417895123663), (1086, 0.02691078323805752), (1087, 0.010058062297673333), (1088, 0.0), (1089, 0.0), (1090, 0.008043977473262952), (1091, 0.04779900638949551), (1092, 0.005927315947188027), (1093, 0.0), (1094, 0.04525834975705243), (1095, 0.044760950437692834), (1096, 0.006738637404157915), (1097, 0.024400052920462566), (1098, 0.0), (1099, 0.018084719017566978), (1100, 0.0), (1101, 0.02565376710636034), (1102, 0.00714169640658413), (1103, 0.0), (1104, 0.0), (1105, 0.0), (1106, 0.0), (1107, 0.0), (1108, 0.04605764984492048), (1109, 0.0), (1110, 0.0), (1111, 0.04311472900535255), (1112, 0.023403561633182336), (1113, 0.1023940560600384), (1114, 0.022895105786872972), (1115, 0.012916873574779133), (1116, 0.0), (1117, 0.0), (1118, 0.04629738580648322), (1119, 0.0), (1120, 0.04053806228150025), (1121, 0.0), (1122, 0.007515491156526482), (1123, 0.10333966492780457), (1124, 0.0), (1125, 0.0), (1126, 0.009399098519421431), (1127, 0.006876934863566415), (1128, 0.0), (1129, 0.03168010459840464), (1130, 0.0), (1131, 0.026199548365603214), (1132, 0.0), (1133, 0.014079875347137328), (1134, 0.058394731339027076), (1135, 0.016847839048126183), (1136, 0.0), (1137, 0.1171005652571421), (1138, 0.006827209622270911), (1139, 0.0), (1140, 0.02805305092161401), (1141, 0.0507654087493559), (1142, 0.0), (1143, 0.0), (1144, 0.0), (1145, 0.0), (1146, 0.02549909234453018), (1147, 0.0), (1148, 0.0), (1149, 0.0), (1150, 0.11373936563423942), (1151, 0.04148464759056279), (1152, 0.0), (1153, 0.004902744848978253), (1154, 0.06676090816325743), (1155, 0.01544703155774935), (1156, 0.0), (1157, 0.0), (1158, 0.0), (1159, 0.04494096096157959), (1160, 0.0196625223420512), (1161, 0.0), (1162, 0.00800083779626945), (1163, 0.0), (1164, 0.03288632453005052), (1165, 0.01045183573990362), (1166, 0.020713135341635137), (1167, 0.03809449806874751), (1168, 0.042818195331242724), (1169, 0.0), (1170, 0.0), (1171, 0.022099206063320873), (1172, 0.02712680253720873), (1173, 0.03665550571163395), (1174, 0.03638829537733064), (1175, 0.030154219651505526), (1176, 0.0), (1177, 0.0), (1178, 0.09362656540194712), (1179, 0.017070401459862508), (1180, 0.0), (1181, 0.0), (1182, 0.0), (1183, 0.006473617085008571), (1184, 0.0), (1185, 0.019630281471404776), (1186, 0.0), (1187, 0.0), (1188, 0.025634708538725154), (1189, 0.0), (1190, 0.04212804313862384), (1191, 0.0), (1192, 0.0), (1193, 0.0), (1194, 0.009611126615719391), (1195, 0.05139906498719525), (1196, 0.0), (1197, 0.0), (1198, 0.009440263924747354), (1199, 0.0), (1200, 0.0), (1201, 0.0), (1202, 0.0), (1203, 0.0), (1204, 0.0), (1205, 0.026690547535219974), (1206, 0.01840387078781602), (1207, 0.016183918452741208), (1208, 0.0), (1209, 0.0), (1210, 0.011175710677321166), (1211, 0.0), (1212, 0.0389987223941286), (1213, 0.012752760285433764), (1214, 0.005976346875811353), (1215, 0.0), (1216, 0.013355676351309315), (1217, 0.0), (1218, 0.0), (1219, 0.00792298973922839), (1220, 0.027405465545097228), (1221, 0.007474363745774975), (1222, 0.0), (1223, 0.0), (1224, 0.0), (1225, 0.01817897538081089), (1226, 0.007842651947964), (1227, 0.0), (1228, 0.009845483492025025), (1229, 0.007226093059711907), (1230, 0.034895129249944715), (1231, 0.008604514691156494), (1232, 0.0), (1233, 0.027059917945241506), (1234, 0.026923232825853488), (1235, 0.0), (1236, 0.01803882853529893), (1237, 0.09575644687103342), (1238, 0.009369275928591438), (1239, 0.0), (1240, 0.04285107432298115), (1241, 0.0061022861471496615), (1242, 0.05983669866538645), (1243, 0.02317616452748233), (1244, 0.018268872604247262), (1245, 0.04050327051229052), (1246, 0.0), (1247, 0.0), (1248, 0.0136825368977322), (1249, 0.022205986142473894), (1250, 0.024988472174741826), (1251, 0.0), (1252, 0.007326067820553997), (1253, 0.020966087529872435), (1254, 0.016184770489236642), (1255, 0.10294455189429601), (1256, 0.023142027516988472), (1257, 0.07726166020342336), (1258, 0.018574589136014383), (1259, 0.03299406082095383), (1260, 0.0), (1261, 0.0), (1262, 0.04414893438357367), (1263, 0.03894619999254871), (1264, 0.0), (1265, 0.06736191729561491), (1266, 0.02788913743322937), (1267, 0.01295856153243517), (1268, 0.0), (1269, 0.06577913606604388), (1270, 0.020472322109758974), (1271, 0.0), (1272, 0.009678345849089182), (1273, 0.017487379719958424), (1274, 0.0069005669058686825), (1275, 0.0), (1276, 0.021660843177492246), (1277, 0.011661531794478033), (1278, 0.010268371539273607), (1279, 0.0541889250481771), (1280, 0.04270561532806075), (1281, 0.029853327309125415), (1282, 0.0), (1283, 0.015665083503389347), (1284, 0.0), (1285, 0.03037284394419063), (1286, 0.0), (1287, 0.009109272336510078), (1288, 0.00850543509128433), (1289, 0.0), (1290, 0.006235073332608531), (1291, 0.013490867482992254), (1292, 0.027222991914878456), (1293, 0.01772416305713824), (1294, 0.0), (1295, 0.036501793432811874), (1296, 0.02579858035880897), (1297, 0.04772128490812701), (1298, 0.0), (1299, 0.0), (1300, 0.0), (1301, 0.04810422579240581), (1302, 0.03245724702150806), (1303, 0.0), (1304, 0.0), (1305, 0.0), (1306, 0.0), (1307, 0.038176067126196145), (1308, 0.03484843735262191), (1309, 0.05953411409386311), (1310, 0.037251812708495945), (1311, 0.025011364409170886), (1312, 0.0), (1313, 0.0), (1314, 0.02844351249755494), (1315, 0.04344829954618571), (1316, 0.0), (1317, 0.0207705642118601), (1318, 0.0), (1319, 0.0), (1320, 0.02548592107497873), (1321, 0.018676227159853898), (1322, 0.0374108920796049), (1323, 0.023414483621118146), (1324, 0.01845460049002102), (1325, 0.0), (1326, 0.02811650363123154), (1327, 0.008643957543162549), (1328, 0.017445132587097328), (1329, 0.0), (1330, 0.0), (1331, 0.0), (1332, 0.007875600070120302), (1333, 0.03614272971856365), (1334, 0.057230186574591724), (1335, 0.0068739699160646475), (1336, 0.0), (1337, 0.007205517351141362), (1338, 0.007110895009751941), (1339, 0.0), (1340, 0.0), (1341, 0.034888963295366573), (1342, 0.0), (1343, 0.0), (1344, 0.011055763531066753), (1345, 0.02323849051117799), (1346, 0.018534673757684687), (1347, 0.0), (1348, 0.006409727919723881), (1349, 0.0), (1350, 0.016364521106757568), (1351, 0.01000246475778581), (1352, 0.014287693422002128), (1353, 0.0), (1354, 0.04184262619825967), (1355, 0.0), (1356, 0.0), (1357, 0.006069403643069514), (1358, 0.0420995975489567), (1359, 0.0), (1360, 0.038829518983015746), (1361, 0.02644659675469776), (1362, 0.0), (1363, 0.0), (1364, 0.0), (1365, 0.011923124482734901), (1366, 0.024463151754398785), (1367, 0.034063333499449136), (1368, 0.01723309002526642), (1369, 0.01722930313198205), (1370, 0.03195865091841184), (1371, 0.032299403861128305), (1372, 0.0), (1373, 0.05981345015853987), (1374, 0.040525167884340144), (1375, 0.0), (1376, 0.0), (1377, 0.04249074485123017), (1378, 0.04287781021089844), (1379, 0.01338257617808044), (1380, 0.01762198244903789), (1381, 0.04822122334369611), (1382, 0.0432004804043222), (1383, 0.047716160210043504), (1384, 0.006069144148342913), (1385, 0.016983607558832253), (1386, 0.016665042115062683), (1387, 0.01422582542854927), (1388, 0.009812528960932827), (1389, 0.010715075213753129), (1390, 0.0), (1391, 0.0), (1392, 0.01349271476927954), (1393, 0.047500327752912484), (1394, 0.0), (1395, 0.0), (1396, 0.06896376124048935), (1397, 0.008202710940314604), (1398, 0.01786401128904484), (1399, 0.0), (1400, 0.0), (1401, 0.07022697123810805), (1402, 0.0), (1403, 0.03302075096263092), (1404, 0.013441160606899654), (1405, 0.0), (1406, 0.007366351476917723), (1407, 0.0), (1408, 0.019144912646776972), (1409, 0.0), (1410, 0.03427102993803748), (1411, 0.0630380128770339), (1412, 0.03994754650193158), (1413, 0.03335887301440283), (1414, 0.02638491939737519), (1415, 0.0), (1416, 0.0), (1417, 0.005235968478199131), (1418, 0.03459805921248033), (1419, 0.021693909065518963), (1420, 0.0), (1421, 0.0), (1422, 0.0), (1423, 0.0), (1424, 0.0), (1425, 0.0), (1426, 0.0), (1427, 0.0), (1428, 0.0), (1429, 0.0), (1430, 0.0), (1431, 0.014458213281622452), (1432, 0.007756425730855887), (1433, 0.02469676793000121), (1434, 0.0), (1435, 0.07865099515338222), (1436, 0.01802646840272261), (1437, 0.01626061093340556), (1438, 0.0), (1439, 0.0), (1440, 0.01708750596684845), (1441, 0.0), (1442, 0.006590636441964919), (1443, 0.08321139313062903), (1444, 0.0), (1445, 0.021667427598103153), (1446, 0.0), (1447, 0.0), (1448, 0.0), (1449, 0.0), (1450, 0.0), (1451, 0.0), (1452, 0.0), (1453, 0.0), (1454, 0.007825502925273313), (1455, 0.0370143979135887), (1456, 0.0), (1457, 0.0), (1458, 0.02748109195013962), (1459, 0.015376117548330657), (1460, 0.01818296037264129), (1461, 0.0), (1462, 0.025502282654834438), (1463, 0.0), (1464, 0.0), (1465, 0.018871453650171996), (1466, 0.04067199114300342), (1467, 0.04524189205581769), (1468, 0.03655390153135392), (1469, 0.033347666323289615), (1470, 0.018235698770886086), (1471, 0.0051842214037529704), (1472, 0.026200010381817043), (1473, 0.026003288942199047), (1474, 0.01116628050607377), (1475, 0.010076236803946549), (1476, 0.0), (1477, 0.024739369105620232), (1478, 0.0764321580683254), (1479, 0.0), (1480, 0.0), (1481, 0.0), (1482, 0.0), (1483, 0.006920310295068332), (1484, 0.007471202819774885), (1485, 0.0), (1486, 0.033779524122202295), (1487, 0.0), (1488, 0.026925108200067275), (1489, 0.0), (1490, 0.008929300575220536), (1491, 0.0), (1492, 0.018712814789995712), (1493, 0.0), (1494, 0.014164876581551078), (1495, 0.011052686989106686), (1496, 0.02612720378042954), (1497, 0.0), (1498, 0.022024420226040148), (1499, 0.0), (1500, 0.03997960391543076), (1501, 0.0), (1502, 0.03270196108770437), (1503, 0.020613845313374558), (1504, 0.006797667325863322), (1505, 0.024458277424252866), (1506, 0.0), (1507, 0.016201005084359083), (1508, 0.0), (1509, 0.0), (1510, 0.006952427616760061), (1511, 0.030693303448946753), (1512, 0.007450953233039964), (1513, 0.008185787169798028), (1514, 0.009557665418082366), (1515, 0.0795895407905246), (1516, 0.008070730617803109), (1517, 0.0), (1518, 0.0), (1519, 0.07551553022272864), (1520, 0.0), (1521, 0.0496956588659797), (1522, 0.016962937947169247), (1523, 0.0), (1524, 0.02096129019262426), (1525, 0.0), (1526, 0.0), (1527, 0.02718742336125707), (1528, 0.0), (1529, 0.03114172977636377), (1530, 0.032827607873987114), (1531, 0.0), (1532, 0.0), (1533, 0.03459573832263526), (1534, 0.022271237641322692), (1535, 0.032916700752647396), (1536, 0.033614087004567375), (1537, 0.04823121038366149), (1538, 0.04322631613119704), (1539, 0.012957982829998098), (1540, 0.008100242763632201), (1541, 0.0), (1542, 0.020313463994799462), (1543, 0.019678295448781833), (1544, 0.00671241022089261), (1545, 0.007301572248026778), (1546, 0.02604811983132468), (1547, 0.019611035697781224), (1548, 0.05782401774083157), (1549, 0.0), (1550, 0.0), (1551, 0.0), (1552, 0.01715095318460291), (1553, 0.0), (1554, 0.04635182123105681), (1555, 0.023239693248649915), (1556, 0.0), (1557, 0.0), (1558, 0.0), (1559, 0.013723320801053153), (1560, 0.0075855241472898025), (1561, 0.015249410936666688), (1562, 0.0), (1563, 0.0), (1564, 0.07066394387347298), (1565, 0.0), (1566, 0.059256933116379376), (1567, 0.04776310402158181), (1568, 0.0), (1569, 0.020020212319162206), (1570, 0.018360301360723433), (1571, 0.0), (1572, 0.049777699126936956), (1573, 0.0), (1574, 0.06363313119569666), (1575, 0.026405559046848832), (1576, 0.005569977870052463), (1577, 0.03866442037914867), (1578, 0.0), (1579, 0.0399128825717866), (1580, 0.016340880316025524), (1581, 0.006969643137468242), (1582, 0.0), (1583, 0.0), (1584, 0.05450317344000381), (1585, 0.0), (1586, 0.01091112400984856), (1587, 0.04147012455919389), (1588, 0.0), (1589, 0.09159539042550112), (1590, 0.0507928502834567), (1591, 0.008534810765271142), (1592, 0.04057734984986905), (1593, 0.0), (1594, 0.0), (1595, 0.0), (1596, 0.021979373337353718), (1597, 0.0), (1598, 0.009386165322758306), (1599, 0.022576732227862363), (1600, 0.020221423715148325), (1601, 0.008649342084334639), (1602, 0.0), (1603, 0.018394031117581994), (1604, 0.01577866425512206), (1605, 0.0), (1606, 0.0), (1607, 0.009965313537943114), (1608, 0.021937084545801743), (1609, 0.0), (1610, 0.0), (1611, 0.017338312978381728), (1612, 0.0), (1613, 0.023799961487349516), (1614, 0.0), (1615, 0.010813061575733477), (1616, 0.0303467192802523), (1617, 0.0), (1618, 0.0), (1619, 0.0), (1620, 0.0), (1621, 0.0), (1622, 0.0), (1623, 0.0), (1624, 0.017809176746083212), (1625, 0.0), (1626, 0.019458152080337594), (1627, 0.006626607378780441), (1628, 0.0), (1629, 0.0), (1630, 0.0), (1631, 0.024905242878330968), (1632, 0.053087618692227584), (1633, 0.0), (1634, 0.04582257412604831), (1635, 0.0), (1636, 0.03676661231536164), (1637, 0.023601525182825413), (1638, 0.02778213311863119), (1639, 0.0), (1640, 0.037763117804243025), (1641, 0.04896264279426413), (1642, 0.0), (1643, 0.0), (1644, 0.0), (1645, 0.042778448561677694), (1646, 0.03556421390196305), (1647, 0.023361904926912383), (1648, 0.0), (1649, 0.07567189698300206), (1650, 0.016537826163335535), (1651, 0.03671564067689993), (1652, 0.0), (1653, 0.032510099454471995), (1654, 0.0), (1655, 0.0), (1656, 0.0), (1657, 0.030299759981827892), (1658, 0.0), (1659, 0.008330675857529805), (1660, 0.0), (1661, 0.0), (1662, 0.05414952158493083), (1663, 0.0), (1664, 0.03426084488673693), (1665, 0.0070407256447012415), (1666, 0.0), (1667, 0.0), (1668, 0.0), (1669, 0.0), (1670, 0.0), (1671, 0.0), (1672, 0.0), (1673, 0.0), (1674, 0.0), (1675, 0.013987179655463089), (1676, 0.0), (1677, 0.02040533798622956), (1678, 0.0076075802659503755), (1679, 0.015584575685150032), (1680, 0.006584963968487766), (1681, 0.00752955699650504), (1682, 0.02624005858377121), (1683, 0.0), (1684, 0.0), (1685, 0.0), (1686, 0.009342829854779867), (1687, 0.008055359252086508), (1688, 0.0), (1689, 0.0), (1690, 0.0), (1691, 0.0), (1692, 0.007029200979038356), (1693, 0.025915065163175485), (1694, 0.0), (1695, 0.0), (1696, 0.03636955087303194), (1697, 0.04465797853300909), (1698, 0.0), (1699, 0.0), (1700, 0.017433421779852833), (1701, 0.030065650814585034), (1702, 0.0), (1703, 0.0), (1704, 0.0), (1705, 0.044402709726492365), (1706, 0.00969272543962711), (1707, 0.0), (1708, 0.008946027072172293), (1709, 0.013042250499586903), (1710, 0.0), (1711, 0.0), (1712, 0.0), (1713, 0.01862902170649345), (1714, 0.0065286974199050465), (1715, 0.0), (1716, 0.027216460907434965), (1717, 0.020710595753433526), (1718, 0.015195309061995578), (1719, 0.0), (1720, 0.0), (1721, 0.006848258305706744), (1722, 0.0), (1723, 0.038151406360835374), (1724, 0.0), (1725, 0.011139585856032258), (1726, 0.0426600776835358), (1727, 0.05490425033615947), (1728, 0.039846382499024356), (1729, 0.0), (1730, 0.0), (1731, 0.010867155320906628), (1732, 0.008386236725405992), (1733, 0.0), (1734, 0.007824206918266269), (1735, 0.00707862614489934), (1736, 0.0074648092482014145), (1737, 0.02511721669882498), (1738, 0.009589451019061987), (1739, 0.0), (1740, 0.007283388423767985), (1741, 0.0358273064531305), (1742, 0.0), (1743, 0.04917214781205437), (1744, 0.0), (1745, 0.03443636719964969), (1746, 0.0), (1747, 0.0), (1748, 0.0), (1749, 0.006554961834413576), (1750, 0.023866962691641836), (1751, 0.0074081995763354384), (1752, 0.0), (1753, 0.0), (1754, 0.0), (1755, 0.033490295518721874), (1756, 0.023621607935355313), (1757, 0.014218237189439004), (1758, 0.009669708714423682), (1759, 0.0), (1760, 0.0), (1761, 0.0), (1762, 0.012928565601554344), (1763, 0.012433707855337662), (1764, 0.013532771943515428), (1765, 0.0), (1766, 0.0), (1767, 0.0), (1768, 0.02760810873775091), (1769, 0.0), (1770, 0.0076671871995234574), (1771, 0.0), (1772, 0.03453274803150905), (1773, 0.0), (1774, 0.0), (1775, 0.0), (1776, 0.0), (1777, 0.015154270194825514), (1778, 0.013169830767618901), (1779, 0.0), (1780, 0.0), (1781, 0.006831943467390077), (1782, 0.03680820050906523), (1783, 0.023195213471446083), (1784, 0.0), (1785, 0.0), (1786, 0.039325485319118905), (1787, 0.0), (1788, 0.02263219157322423), (1789, 0.014872931317957182), (1790, 0.0), (1791, 0.04135718574696751), (1792, 0.0), (1793, 0.04288146768231697), (1794, 0.0), (1795, 0.0), (1796, 0.00747735453123175), (1797, 0.01629400303195872), (1798, 0.02890937655732182), (1799, 0.03145872453891702), (1800, 0.0), (1801, 0.0), (1802, 0.08255909505537865), (1803, 0.0), (1804, 0.01518475048985952), (1805, 0.012982181444822811), (1806, 0.0), (1807, 0.0), (1808, 0.026172265907574023), (1809, 0.015027479278615731), (1810, 0.03899077771726989), (1811, 0.0), (1812, 0.01682158333686779), (1813, 0.0), (1814, 0.0), (1815, 0.008131995458594023), (1816, 0.012942126376974613), (1817, 0.0), (1818, 0.006564889377521101), (1819, 0.0), (1820, 0.0), (1821, 0.0), (1822, 0.008266129336271726), (1823, 0.006680054756722352), (1824, 0.0), (1825, 0.04316632586803504), (1826, 0.0), (1827, 0.0), (1828, 0.0058748868392307085), (1829, 0.022895832660922703), (1830, 0.036118047881279994), (1831, 0.0), (1832, 0.0), (1833, 0.009163837754597174), (1834, 0.0), (1835, 0.06835361466945779), (1836, 0.02922449529280513), (1837, 0.0), (1838, 0.0), (1839, 0.0), (1840, 0.0), (1841, 0.01844985572905278), (1842, 0.0), (1843, 0.02539355708848807), (1844, 0.049632623401249513), (1845, 0.0), (1846, 0.03744810736940533), (1847, 0.03148461036188521), (1848, 0.0), (1849, 0.0), (1850, 0.00814659907371646), (1851, 0.0), (1852, 0.036163994781863294), (1853, 0.00856305275081373), (1854, 0.0), (1855, 0.008699396625250239), (1856, 0.0), (1857, 0.0), (1858, 0.0), (1859, 0.015047237253888917), (1860, 0.0), (1861, 0.0), (1862, 0.0), (1863, 0.0), (1864, 0.024012740886265954), (1865, 0.012316964032679614), (1866, 0.0), (1867, 0.0), (1868, 0.0), (1869, 0.025184611142771464), (1870, 0.006172374282544586), (1871, 0.0), (1872, 0.049518682075019395), (1873, 0.0), (1874, 0.0), (1875, 0.06070813147615703), (1876, 0.021262836553964166), (1877, 0.0), (1878, 0.0), (1879, 0.0), (1880, 0.0), (1881, 0.08526766790647347), (1882, 0.0), (1883, 0.0768164887447793), (1884, 0.0), (1885, 0.0), (1886, 0.015283473607326029), (1887, 0.0), (1888, 0.0), (1889, 0.00958684939845522), (1890, 0.023488210105209108), (1891, 0.0), (1892, 0.0), (1893, 0.0), (1894, 0.019118912187540294), (1895, 0.018081863330357283), (1896, 0.027790989891659745), (1897, 0.0), (1898, 0.0144511736273207), (1899, 0.0), (1900, 0.0), (1901, 0.04336639031080691), (1902, 0.0), (1903, 0.03561866588877465), (1904, 0.0458907913350537), (1905, 0.0), (1906, 0.07655580710516412), (1907, 0.0), (1908, 0.03599970711947283), (1909, 0.0), (1910, 0.023282253409712735), (1911, 0.03545151533964449), (1912, 0.009568472909447578), (1913, 0.0), (1914, 0.0), (1915, 0.0), (1916, 0.0), (1917, 0.0), (1918, 0.0), (1919, 0.0), (1920, 0.014112681244617575), (1921, 0.0), (1922, 0.0), (1923, 0.0), (1924, 0.027772251278235065), (1925, 0.04389775258458381), (1926, 0.009749616271238024), (1927, 0.0), (1928, 0.0), (1929, 0.0), (1930, 0.025317257520482903), (1931, 0.017098463799044297), (1932, 0.010594774545986643), (1933, 0.02587035420337282), (1934, 0.0272684905813557), (1935, 0.0), (1936, 0.0398148263373794), (1937, 0.023845794089266008), (1938, 0.0), (1939, 0.11994335435828732), (1940, 0.022973012332813913), (1941, 0.009119156547380344), (1942, 0.0), (1943, 0.0203441871405071), (1944, 0.0), (1945, 0.017913768933256823), (1946, 0.0), (1947, 0.0), (1948, 0.04603300805879139), (1949, 0.007152056315946977), (1950, 0.0), (1951, 0.0), (1952, 0.0), (1953, 0.0), (1954, 0.0), (1955, 0.050946813135749766), (1956, 0.0), (1957, 0.0), (1958, 0.0), (1959, 0.0), (1960, 0.0), (1961, 0.037230126045082315), (1962, 0.0), (1963, 0.0), (1964, 0.0), (1965, 0.009708240385479946), (1966, 0.026101228727587453), (1967, 0.01444304723561315), (1968, 0.03391926464071603), (1969, 0.023782305595286705), (1970, 0.0), (1971, 0.005830423500939961), (1972, 0.0), (1973, 0.007979205229687304), (1974, 0.03706254582777878), (1975, 0.0), (1976, 0.03623393119701209), (1977, 0.0062990914842365195), (1978, 0.014112311493937425), (1979, 0.07972369578935022), (1980, 0.0), (1981, 0.02026384992720846), (1982, 0.04328862969004758), (1983, 0.0), (1984, 0.021698425720788492), (1985, 0.028936514456628475), (1986, 0.06080216080958027), (1987, 0.014053543235158252), (1988, 0.0), (1989, 0.007901889471728655), (1990, 0.0), (1991, 0.024232320260040713), (1992, 0.0), (1993, 0.0), (1994, 0.0), (1995, 0.0), (1996, 0.013625354954642734), (1997, 0.0), (1998, 0.0), (1999, 0.011141812746638656), (2000, 0.015403186521867299), (2001, 0.0), (2002, 0.0), (2003, 0.0), (2004, 0.0), (2005, 0.0), (2006, 0.03711542168701051), (2007, 0.013191754710755723), (2008, 0.02182215545368566), (2009, 0.0), (2010, 0.01426924619935565), (2011, 0.0), (2012, 0.031117970694145607), (2013, 0.013785958614421293), (2014, 0.016419588179782965), (2015, 0.01854817690117099), (2016, 0.040378174836737446), (2017, 0.02642242562162896), (2018, 0.020557587292451204), (2019, 0.03411675410891649), (2020, 0.006225539478786287), (2021, 0.04315070996906047), (2022, 0.10443107905597346), (2023, 0.0), (2024, 0.00693759416493279), (2025, 0.005898382882069522), (2026, 0.024148652903715883), (2027, 0.02716473620471102), (2028, 0.007562531316179231), (2029, 0.0), (2030, 0.0), (2031, 0.0), (2032, 0.0), (2033, 0.006485030975317577), (2034, 0.01298894555216775), (2035, 0.012302736536265808), (2036, 0.014281884211146387), (2037, 0.015062785311876385), (2038, 0.04926392619113691), (2039, 0.0), (2040, 0.007751180347138375), (2041, 0.0), (2042, 0.04848150169391488), (2043, 0.021492522170430243), (2044, 0.10296695625568755), (2045, 0.017791606509419206), (2046, 0.0), (2047, 0.0), (2048, 0.009872070681302471), (2049, 0.04360078525877039), (2050, 0.009420552897714754), (2051, 0.0), (2052, 0.006865382978990551), (2053, 0.014493975260789486), (2054, 0.0), (2055, 0.03234459860183479), (2056, 0.0), (2057, 0.023394928523492852), (2058, 0.053613228516369196), (2059, 0.0), (2060, 0.0), (2061, 0.05202047816247595), (2062, 0.05805201320552513), (2063, 0.0), (2064, 0.0), (2065, 0.015482881365830953), (2066, 0.01894521443774646), (2067, 0.046739694159069985), (2068, 0.0), (2069, 0.0), (2070, 0.0310371999623037), (2071, 0.0), (2072, 0.02352777657605964), (2073, 0.027581952265737935), (2074, 0.011912001854701298), (2075, 0.02113593805277903), (2076, 0.0), (2077, 0.008317244929282796), (2078, 0.02356859191670213), (2079, 0.0), (2080, 0.0), (2081, 0.007333675926932855), (2082, 0.007760388536548641), (2083, 0.057152041433924224), (2084, 0.0), (2085, 0.007588781465857121), (2086, 0.05213108048765428), (2087, 0.0), (2088, 0.03218358170276423), (2089, 0.030142271177998912), (2090, 0.027351519356477387), (2091, 0.06724321360605458), (2092, 0.0), (2093, 0.01854727253767265), (2094, 0.006127887357857172), (2095, 0.019546962364070476), (2096, 0.0), (2097, 0.0), (2098, 0.0), (2099, 0.0), (2100, 0.009154456307409242), (2101, 0.0), (2102, 0.0), (2103, 0.03180717012738619), (2104, 0.015635225658962082), (2105, 0.02460841559195485), (2106, 0.0), (2107, 0.020978348361317553), (2108, 0.0), (2109, 0.0), (2110, 0.0), (2111, 0.012355801087039686), (2112, 0.0), (2113, 0.005203820667680388), (2114, 0.040166714055674395), (2115, 0.0), (2116, 0.0), (2117, 0.015726495827748273), (2118, 0.035709847959278354), (2119, 0.0), (2120, 0.0), (2121, 0.0), (2122, 0.05227118536233452), (2123, 0.024169049157120245), (2124, 0.016792116849032444), (2125, 0.03724723206446007), (2126, 0.0), (2127, 0.015450774040856433), (2128, 0.0), (2129, 0.0), (2130, 0.009386977131564273), (2131, 0.0), (2132, 0.0), (2133, 0.020728430607369733), (2134, 0.0), (2135, 0.02135392808232201), (2136, 0.044436263230550284), (2137, 0.0), (2138, 0.0), (2139, 0.01600812603672928), (2140, 0.026151733976822734), (2141, 0.03740690878090151), (2142, 0.0), (2143, 0.023809383720494993), (2144, 0.0), (2145, 0.0), (2146, 0.0), (2147, 0.0), (2148, 0.0), (2149, 0.0), (2150, 0.03702292880010484), (2151, 0.0), (2152, 0.0), (2153, 0.017503919143526094), (2154, 0.0), (2155, 0.09639972399387238), (2156, 0.0), (2157, 0.0), (2158, 0.0459608818098685), (2159, 0.0), (2160, 0.0), (2161, 0.042519141303862876), (2162, 0.0), (2163, 0.0), (2164, 0.019572929927837657), (2165, 0.0), (2166, 0.006560029875938759), (2167, 0.0), (2168, 0.0), (2169, 0.0), (2170, 0.0), (2171, 0.05077472801339643), (2172, 0.008373508750364522), (2173, 0.0), (2174, 0.015101469898072995), (2175, 0.0), (2176, 0.0), (2177, 0.028624911954652346), (2178, 0.02959651965702542), (2179, 0.0), (2180, 0.061087175606554994), (2181, 0.008238366568245966), (2182, 0.031601276276115454), (2183, 0.03006937778455791), (2184, 0.007662314463387112), (2185, 0.013364670950541283), (2186, 0.0), (2187, 0.0), (2188, 0.05022943391462759), (2189, 0.0), (2190, 0.0), (2191, 0.011453569681696356), (2192, 0.0), (2193, 0.0), (2194, 0.0), (2195, 0.0), (2196, 0.0), (2197, 0.022997154018332903), (2198, 0.017080036191542042), (2199, 0.04910687485169298), (2200, 0.0), (2201, 0.014232472724352992), (2202, 0.0), (2203, 0.0), (2204, 0.013363085228682231), (2205, 0.03050089107792503), (2206, 0.006815840260234717), (2207, 0.0), (2208, 0.016423716252873043), (2209, 0.0), (2210, 0.006915723081422451), (2211, 0.0), (2212, 0.0068511458557266505), (2213, 0.0), (2214, 0.0), (2215, 0.0), (2216, 0.0), (2217, 0.03159119492826652), (2218, 0.03677453214066578), (2219, 0.0), (2220, 0.020418418968074125), (2221, 0.03957119099669536), (2222, 0.026588063275598216), (2223, 0.0), (2224, 0.006536561635760974), (2225, 0.0), (2226, 0.0), (2227, 0.01706605429023799), (2228, 0.0), (2229, 0.0), (2230, 0.04322623228138247), (2231, 0.0), (2232, 0.03234776264339291), (2233, 0.048568660436749324), (2234, 0.014602088882255901), (2235, 0.012840972477210827), (2236, 0.0), (2237, 0.05057379934416849), (2238, 0.00643029317308489), (2239, 0.0069128779853631), (2240, 0.05736776641364271), (2241, 0.006444926977563141), (2242, 0.0), (2243, 0.007720128223557233), (2244, 0.0), (2245, 0.0), (2246, 0.0), (2247, 0.0), (2248, 0.023055605911738514), (2249, 0.00986763575094916), (2250, 0.022175029125121516), (2251, 0.025000231275152333), (2252, 0.0), (2253, 0.02704281005061822), (2254, 0.0), (2255, 0.0), (2256, 0.0), (2257, 0.0), (2258, 0.04298565770343134), (2259, 0.009689418750342417), (2260, 0.04385360160716651), (2261, 0.0), (2262, 0.012947737626979518), (2263, 0.013424482607715586), (2264, 0.0), (2265, 0.021135671275777805), (2266, 0.0), (2267, 0.0), (2268, 0.027638533757942334), (2269, 0.025093555940110215), (2270, 0.0), (2271, 0.0), (2272, 0.0), (2273, 0.0), (2274, 0.0064918841706618265), (2275, 0.008405245811663508), (2276, 0.03028342200605777), (2277, 0.043606571091863666), (2278, 0.026287003591036924), (2279, 0.0), (2280, 0.02375397565246451), (2281, 0.0), (2282, 0.0), (2283, 0.03655530256445787), (2284, 0.0), (2285, 0.009329326163660724), (2286, 0.03052121801280628), (2287, 0.016601370317122895), (2288, 0.02285286915438798), (2289, 0.0), (2290, 0.0), (2291, 0.06429599147999636), (2292, 0.0), (2293, 0.0), (2294, 0.030628676563901332), (2295, 0.0), (2296, 0.012834296724339923), (2297, 0.0), (2298, 0.016795348950806328), (2299, 0.04638609865391448), (2300, 0.0), (2301, 0.0), (2302, 0.0), (2303, 0.0), (2304, 0.026508672316744017), (2305, 0.0), (2306, 0.0), (2307, 0.0), (2308, 0.0), (2309, 0.0), (2310, 0.0), (2311, 0.012344712215989295), (2312, 0.03700143840735266), (2313, 0.0), (2314, 0.0), (2315, 0.007361874353795654), (2316, 0.053231555587525896), (2317, 0.011739819771175447), (2318, 0.0), (2319, 0.0), (2320, 0.0), (2321, 0.0), (2322, 0.049529328639895495), (2323, 0.0), (2324, 0.010539001287681322), (2325, 0.0), (2326, 0.048755726132269736), (2327, 0.014654162775981578), (2328, 0.0), (2329, 0.010775495675846566), (2330, 0.042488927413835885), (2331, 0.0), (2332, 0.008985618934674368), (2333, 0.0), (2334, 0.03775915753973125), (2335, 0.0), (2336, 0.0), (2337, 0.034221846829582854), (2338, 0.0), (2339, 0.0), (2340, 0.0), (2341, 0.0), (2342, 0.0), (2343, 0.0), (2344, 0.0), (2345, 0.0), (2346, 0.0), (2347, 0.014753989171968792), (2348, 0.0), (2349, 0.027885271212591777), (2350, 0.0), (2351, 0.0), (2352, 0.00821731732085401), (2353, 0.027292667830721967), (2354, 0.027145728948779795), (2355, 0.05814071095004791), (2356, 0.018451697149382752), (2357, 0.023606444121170543), (2358, 0.0), (2359, 0.0), (2360, 0.0), (2361, 0.030630015453832753), (2362, 0.0), (2363, 0.03178366122293572), (2364, 0.029595328634297757), (2365, 0.012395589446891585), (2366, 0.0), (2367, 0.0), (2368, 0.01445469369813019), (2369, 0.0), (2370, 0.0), (2371, 0.0), (2372, 0.0), (2373, 0.0), (2374, 0.0), (2375, 0.0), (2376, 0.0), (2377, 0.0), (2378, 0.008378082858799065), (2379, 0.0), (2380, 0.024517043614316218), (2381, 0.01705621724727874), (2382, 0.019899241957124263), (2383, 0.006787152571642921), (2384, 0.0), (2385, 0.040259205141737496), (2386, 0.0), (2387, 0.02264728923825914), (2388, 0.0), (2389, 0.017647415818250776), (2390, 0.0), (2391, 0.02128498915564606), (2392, 0.0), (2393, 0.0), (2394, 0.0), (2395, 0.0), (2396, 0.0), (2397, 0.0), (2398, 0.0), (2399, 0.020450238734356876), (2400, 0.0), (2401, 0.0), (2402, 0.019238153897454993), (2403, 0.0), (2404, 0.0), (2405, 0.0), (2406, 0.0), (2407, 0.0), (2408, 0.0), (2409, 0.013537848298318316), (2410, 0.0), (2411, 0.0), (2412, 0.00580169028917718), (2413, 0.042894132710850644), (2414, 0.00939539618196128), (2415, 0.04561134511566783), (2416, 0.023273848872703323), (2417, 0.0), (2418, 0.021474932557894736), (2419, 0.0), (2420, 0.028166012984797262), (2421, 0.05665482624546588), (2422, 0.019510847672309376), (2423, 0.0), (2424, 0.006118505195745966), (2425, 0.0), (2426, 0.013152092323194187), (2427, 0.03732294946823682), (2428, 0.016546572195375708), (2429, 0.006526241337170572), (2430, 0.015281414675290105), (2431, 0.0), (2432, 0.03171935118400955), (2433, 0.012499715938584486), (2434, 0.0), (2435, 0.045661320218022994), (2436, 0.0), (2437, 0.0), (2438, 0.0), (2439, 0.025125924004438444), (2440, 0.0), (2441, 0.0), (2442, 0.03655848757130902), (2443, 0.015606981964565489), (2444, 0.032974719528737394), (2445, 0.0), (2446, 0.0), (2447, 0.0), (2448, 0.02309940921931885), (2449, 0.0), (2450, 0.032166163865134864), (2451, 0.03398905835769355), (2452, 0.0), (2453, 0.01058633420166464), (2454, 0.0), (2455, 0.0), (2456, 0.02003565729135696), (2457, 0.0), (2458, 0.0), (2459, 0.00766578044990959), (2460, 0.0), (2461, 0.02354505552853636), (2462, 0.023554742015007506), (2463, 0.0), (2464, 0.0), (2465, 0.03751866539979428), (2466, 0.022467459005802992), (2467, 0.0), (2468, 0.028254314174710075), (2469, 0.0), (2470, 0.028180007454932966), (2471, 0.0), (2472, 0.05924730862821705), (2473, 0.009045630000971402), (2474, 0.08322639940900756), (2475, 0.0), (2476, 0.007048453652963088), (2477, 0.0), (2478, 0.0), (2479, 0.060336589065675295), (2480, 0.0), (2481, 0.0), (2482, 0.0), (2483, 0.0), (2484, 0.09963019679432192), (2485, 0.0), (2486, 0.0), (2487, 0.025397231058441085), (2488, 0.0), (2489, 0.0), (2490, 0.04470026557295232), (2491, 0.020548233926913725), (2492, 0.02366223640074169), (2493, 0.007657168866637595), (2494, 0.0), (2495, 0.02405739904976893), (2496, 0.024771873300437907), (2497, 0.0654297083732384), (2498, 0.02369997636718313), (2499, 0.007702078274667898), (2500, 0.029975128485552983), (2501, 0.04145973727047951), (2502, 0.018568488354314374), (2503, 0.0), (2504, 0.008403301604586313), (2505, 0.0), (2506, 0.01460226975292082), (2507, 0.0), (2508, 0.0), (2509, 0.0), (2510, 0.0), (2511, 0.0197275327163958), (2512, 0.05216806083045647), (2513, 0.005827739873183328), (2514, 0.0), (2515, 0.0), (2516, 0.0), (2517, 0.01568975611393287), (2518, 0.0), (2519, 0.0), (2520, 0.011532630200567585), (2521, 0.03727039258305947), (2522, 0.01842426869074795), (2523, 0.0), (2524, 0.0), (2525, 0.014644459561599118), (2526, 0.0), (2527, 0.04203188357771357), (2528, 0.0), (2529, 0.0), (2530, 0.019149858132427887), (2531, 0.0), (2532, 0.00949225661260448), (2533, 0.0), (2534, 0.010806578724898814), (2535, 0.0), (2536, 0.0), (2537, 0.025261988266321804), (2538, 0.0), (2539, 0.06977785314251846), (2540, 0.045998464229350666), (2541, 0.0401311474669119), (2542, 0.0), (2543, 0.0), (2544, 0.01899283900890346), (2545, 0.0), (2546, 0.0), (2547, 0.00958517386473877), (2548, 0.0), (2549, 0.02351143537467293), (2550, 0.0), (2551, 0.010300903871928767), (2552, 0.05420553705740132), (2553, 0.0), (2554, 0.015854127584347833), (2555, 0.019181136999810375), (2556, 0.0), (2557, 0.0), (2558, 0.0), (2559, 0.019224394929402283), (2560, 0.014112791005891181), (2561, 0.0), (2562, 0.006531103102389603), (2563, 0.0978779707656606), (2564, 0.0), (2565, 0.0), (2566, 0.0), (2567, 0.11889038285696303), (2568, 0.0), (2569, 0.008022327277463407), (2570, 0.03789914403112665), (2571, 0.02344977886552713), (2572, 0.0), (2573, 0.029589402391272016), (2574, 0.11611757773153267), (2575, 0.011114459655516232), (2576, 0.008869197544174612), (2577, 0.0), (2578, 0.02376910094015787), (2579, 0.0), (2580, 0.0121188823766843), (2581, 0.051339026905195206), (2582, 0.023108327901291612), (2583, 0.0), (2584, 0.016012957714721825), (2585, 0.0), (2586, 0.0), (2587, 0.019783753022545068), (2588, 0.0), (2589, 0.02707135198761318), (2590, 0.008853600291988213), (2591, 0.0), (2592, 0.0), (2593, 0.02021596697119101), (2594, 0.08874775679637818), (2595, 0.0), (2596, 0.0), (2597, 0.03566125249940938), (2598, 0.0), (2599, 0.02770991360946547), (2600, 0.007971894505797628), (2601, 0.013309280157073614), (2602, 0.0), (2603, 0.016821372455328276), (2604, 0.0), (2605, 0.06479385447437994), (2606, 0.0), (2607, 0.0), (2608, 0.0), (2609, 0.010785478688822387), (2610, 0.0), (2611, 0.0), (2612, 0.0261684460238445), (2613, 0.0), (2614, 0.02577501416729085), (2615, 0.06503704553539506), (2616, 0.017771746990808895), (2617, 0.07816689041299991), (2618, 0.02063627964093187), (2619, 0.0), (2620, 0.0), (2621, 0.0), (2622, 0.04044627787696234), (2623, 0.0), (2624, 0.0), (2625, 0.007372353800525506), (2626, 0.008369735390862481), (2627, 0.0), (2628, 0.0), (2629, 0.0), (2630, 0.0), (2631, 0.0), (2632, 0.013818213897385707), (2633, 0.0), (2634, 0.006271102364712368), (2635, 0.0), (2636, 0.023054248081083372), (2637, 0.022196054426907134), (2638, 0.0), (2639, 0.0), (2640, 0.015441757942869387), (2641, 0.0178225262200176), (2642, 0.0365917757047668), (2643, 0.0), (2644, 0.023136885780115066), (2645, 0.00991664145737433), (2646, 0.0300155352119486), (2647, 0.017379700726055346), (2648, 0.0), (2649, 0.0), (2650, 0.0), (2651, 0.0), (2652, 0.0), (2653, 0.0), (2654, 0.0), (2655, 0.0), (2656, 0.0), (2657, 0.06723954996072122), (2658, 0.0), (2659, 0.009231327868598196), (2660, 0.008858238418668684), (2661, 0.0), (2662, 0.0), (2663, 0.013157860194469887), (2664, 0.0), (2665, 0.04246525665515949), (2666, 0.04678879068688903), (2667, 0.008458890339094258), (2668, 0.043262698612427715), (2669, 0.04586185769212865), (2670, 0.006629298629719594), (2671, 0.009701790851550818), (2672, 0.017131596617103225), (2673, 0.0), (2674, 0.005993002306726453), (2675, 0.0), (2676, 0.007852855331747835), (2677, 0.0), (2678, 0.0), (2679, 0.0), (2680, 0.028283764251553493), (2681, 0.02127511013856255), (2682, 0.07744776765504158), (2683, 0.0), (2684, 0.0), (2685, 0.0), (2686, 0.014763365526470111), (2687, 0.013469349224406206), (2688, 0.008156719246503899), (2689, 0.03065707553542641), (2690, 0.0), (2691, 0.04662636380306938), (2692, 0.0), (2693, 0.0), (2694, 0.0), (2695, 0.02436261067213739), (2696, 0.0), (2697, 0.005949143028474846), (2698, 0.013964895103269445), (2699, 0.0), (2700, 0.0), (2701, 0.0), (2702, 0.0), (2703, 0.0), (2704, 0.0), (2705, 0.0), (2706, 0.006189258483333155), (2707, 0.0167956737952167), (2708, 0.026034387699036154), (2709, 0.0), (2710, 0.016640832095975538), (2711, 0.029466016077835794), (2712, 0.013267945657976706), (2713, 0.043376505672234), (2714, 0.0081751083202245), (2715, 0.039163574931802184), (2716, 0.0), (2717, 0.0), (2718, 0.03607308021414425), (2719, 0.0), (2720, 0.03680463510463951), (2721, 0.0), (2722, 0.0), (2723, 0.0), (2724, 0.02171137665177658), (2725, 0.02496979355200655), (2726, 0.0), (2727, 0.0), (2728, 0.023818431894611646), (2729, 0.035851695187058955), (2730, 0.01578121992039893), (2731, 0.0), (2732, 0.0), (2733, 0.04538131014360618), (2734, 0.0), (2735, 0.0), (2736, 0.02059612040393182), (2737, 0.0), (2738, 0.0), (2739, 0.0), (2740, 0.018780114058402367), (2741, 0.007941040319025289), (2742, 0.006641019787495695), (2743, 0.0), (2744, 0.0), (2745, 0.0), (2746, 0.0), (2747, 0.0), (2748, 0.0), (2749, 0.03576163325003289), (2750, 0.018580071554857306), (2751, 0.017280337958312516), (2752, 0.0), (2753, 0.0), (2754, 0.0072459152723102225), (2755, 0.031809010464174586), (2756, 0.026037949488603787), (2757, 0.0), (2758, 0.0), (2759, 0.01230845761507432), (2760, 0.0), (2761, 0.020254367812758786), (2762, 0.0), (2763, 0.04060934838666193), (2764, 0.0), (2765, 0.0), (2766, 0.01099451329425352), (2767, 0.00615033412469975), (2768, 0.05289078022481135), (2769, 0.03945802274005591), (2770, 0.037303259469948176), (2771, 0.0), (2772, 0.007236170316214446), (2773, 0.0), (2774, 0.014732491149702041), (2775, 0.0), (2776, 0.0), (2777, 0.006489461345076905), (2778, 0.007505593937111136), (2779, 0.0), (2780, 0.007506804688734162), (2781, 0.0), (2782, 0.02303884188054866), (2783, 0.0), (2784, 0.0), (2785, 0.04358493399779702), (2786, 0.0), (2787, 0.006737143657635278), (2788, 0.00705972581271597), (2789, 0.019469662598940715), (2790, 0.026286193290430932), (2791, 0.006614696183826313), (2792, 0.0), (2793, 0.0), (2794, 0.037765022458612546), (2795, 0.008124874497263668), (2796, 0.0), (2797, 0.0), (2798, 0.026197517125545494), (2799, 0.041652169981758046), (2800, 0.0), (2801, 0.0), (2802, 0.0), (2803, 0.01506730909722228), (2804, 0.03833043077707569), (2805, 0.0), (2806, 0.03437057849128565), (2807, 0.012320872615048882), (2808, 0.0), (2809, 0.015764484336241974), (2810, 0.06969608355588167), (2811, 0.00869385182434743), (2812, 0.0), (2813, 0.04912305467758592), (2814, 0.0), (2815, 0.029238004029095502), (2816, 0.020583403671243203), (2817, 0.014289626608067398), (2818, 0.0), (2819, 0.00745519303722708), (2820, 0.006632002709488347), (2821, 0.03928231727347601), (2822, 0.014380367319551755), (2823, 0.0), (2824, 0.023931845675455136), (2825, 0.006998784352092749), (2826, 0.034558334892195605), (2827, 0.02186210849422705), (2828, 0.025030829782551084), (2829, 0.012850626848299615), (2830, 0.0340460142091962), (2831, 0.0), (2832, 0.026915244074624346), (2833, 0.019111975510801852), (2834, 0.0), (2835, 0.0), (2836, 0.019787659095016934), (2837, 0.02903805412927706), (2838, 0.0), (2839, 0.0), (2840, 0.0069162819367575455), (2841, 0.0), (2842, 0.007028480100892708), (2843, 0.04657228399426305), (2844, 0.03585910522217886), (2845, 0.012198524418529715), (2846, 0.0), (2847, 0.016726607411041573), (2848, 0.0), (2849, 0.022839837718816022), (2850, 0.06786965735248572), (2851, 0.0), (2852, 0.015166575010662865), (2853, 0.0), (2854, 0.10852313589498774), (2855, 0.0), (2856, 0.023271155079087655), (2857, 0.039164671037350864), (2858, 0.0), (2859, 0.020763007358004865), (2860, 0.039039818470827124), (2861, 0.0), (2862, 0.006719305092073403), (2863, 0.0), (2864, 0.007989929102229211), (2865, 0.0), (2866, 0.019875595579860475), (2867, 0.007038698264354061), (2868, 0.016506089451816218), (2869, 0.0), (2870, 0.0), (2871, 0.0), (2872, 0.0), (2873, 0.0), (2874, 0.0), (2875, 0.0), (2876, 0.019781903213497078), (2877, 0.0), (2878, 0.0), (2879, 0.0), (2880, 0.03495064536821307), (2881, 0.008003890215576544), (2882, 0.0), (2883, 0.0), (2884, 0.0), (2885, 0.0062554297378380795), (2886, 0.0), (2887, 0.00973323554092455), (2888, 0.02031321322883787), (2889, 0.0), (2890, 0.020215282431479215), (2891, 0.027390719798694802), (2892, 0.0), (2893, 0.0), (2894, 0.0), (2895, 0.02007974223725121), (2896, 0.0), (2897, 0.0), (2898, 0.07273843835364173), (2899, 0.029139255305452895), (2900, 0.032125886453612126), (2901, 0.0), (2902, 0.0), (2903, 0.007588614155235744), (2904, 0.0), (2905, 0.0), (2906, 0.0), (2907, 0.0), (2908, 0.015818215134503866), (2909, 0.0), (2910, 0.00712165359176831), (2911, 0.0), (2912, 0.014756059349746692), (2913, 0.005589302802108133), (2914, 0.0), (2915, 0.0), (2916, 0.0), (2917, 0.0), (2918, 0.006584212321466999), (2919, 0.0), (2920, 0.00832134997866779), (2921, 0.02859525370848469), (2922, 0.05625491457528193), (2923, 0.0), (2924, 0.0), (2925, 0.0), (2926, 0.0), (2927, 0.04306631319421877), (2928, 0.0), (2929, 0.0), (2930, 0.0), (2931, 0.0), (2932, 0.0), (2933, 0.0), (2934, 0.0), (2935, 0.019413698764162497), (2936, 0.0), (2937, 0.02118105680584331), (2938, 0.0), (2939, 0.0), (2940, 0.01733413780979283), (2941, 0.0), (2942, 0.029222738195773076), (2943, 0.007233579153145098), (2944, 0.0432032297379151), (2945, 0.0338635834616105), (2946, 0.0), (2947, 0.0061975944299255525), (2948, 0.0), (2949, 0.0), (2950, 0.06655406675262639), (2951, 0.0), (2952, 0.024573866027182763), (2953, 0.0), (2954, 0.024421456774120536), (2955, 0.04485748213790342), (2956, 0.031463154525291255), (2957, 0.0824754813093852), (2958, 0.006620109609834771), (2959, 0.007314095190180684), (2960, 0.01678901356986584), (2961, 0.02529717659571904), (2962, 0.03204963083277347), (2963, 0.007476410187646855), (2964, 0.0), (2965, 0.0), (2966, 0.0), (2967, 0.0), (2968, 0.0), (2969, 0.005409126458909514), (2970, 0.02337324568731667), (2971, 0.005972590555840709), (2972, 0.0), (2973, 0.0), (2974, 0.0), (2975, 0.0), (2976, 0.0), (2977, 0.0), (2978, 0.0), (2979, 0.007724792583590887), (2980, 0.0), (2981, 0.07927658039859962), (2982, 0.025816944622664276), (2983, 0.0), (2984, 0.0), (2985, 0.0), (2986, 0.0), (2987, 0.0), (2988, 0.0), (2989, 0.033704633107965676), (2990, 0.008565585687275709), (2991, 0.0), (2992, 0.006457840450212691), (2993, 0.0), (2994, 0.0), (2995, 0.023701743930994834), (2996, 0.015386956933511912), (2997, 0.0), (2998, 0.021573627622409962), (2999, 0.0), (3000, 0.014551745835782772), (3001, 0.048483316344069716), (3002, 0.007265849213813724), (3003, 0.06411222739367539), (3004, 0.0), (3005, 0.024720071040758965), (3006, 0.0), (3007, 0.0), (3008, 0.0), (3009, 0.0), (3010, 0.012856394749425534), (3011, 0.0850500530627217), (3012, 0.0), (3013, 0.0), (3014, 0.0361572415357939), (3015, 0.0), (3016, 0.0), (3017, 0.0), (3018, 0.0), (3019, 0.0), (3020, 0.027531764002386997), (3021, 0.022800105390814167), (3022, 0.047091602443126636), (3023, 0.0), (3024, 0.005683895479160693), (3025, 0.0), (3026, 0.0), (3027, 0.0), (3028, 0.0), (3029, 0.0), (3030, 0.0), (3031, 0.0), (3032, 0.0), (3033, 0.0), (3034, 0.019945633675303203), (3035, 0.0), (3036, 0.0), (3037, 0.0), (3038, 0.0), (3039, 0.0), (3040, 0.04699521276581581), (3041, 0.0), (3042, 0.0), (3043, 0.0), (3044, 0.0072922925294602), (3045, 0.0360606013340149), (3046, 0.039466032565170485), (3047, 0.02185191274700138), (3048, 0.027743187784313332), (3049, 0.0), (3050, 0.0), (3051, 0.03077904806428018), (3052, 0.0), (3053, 0.0), (3054, 0.0), (3055, 0.0), (3056, 0.0), (3057, 0.0), (3058, 0.01063986278968723), (3059, 0.02986428975251094), (3060, 0.0), (3061, 0.0), (3062, 0.01580565583224121), (3063, 0.04104606594129939), (3064, 0.007953001561042627), (3065, 0.013755766547142563), (3066, 0.0), (3067, 0.019526241861668157), (3068, 0.02145784788334125), (3069, 0.0), (3070, 0.006173578201366103), (3071, 0.0), (3072, 0.0), (3073, 0.06483221190395085), (3074, 0.02495550098206429), (3075, 0.0), (3076, 0.0), (3077, 0.0), (3078, 0.0), (3079, 0.024196461706351056), (3080, 0.030404203357041113), (3081, 0.0), (3082, 0.0), (3083, 0.024403846934347016), (3084, 0.0), (3085, 0.006848215469442787), (3086, 0.0), (3087, 0.02277893694552807), (3088, 0.0), (3089, 0.02620921827219152), (3090, 0.0), (3091, 0.018743594583900236), (3092, 0.0), (3093, 0.0), (3094, 0.047674045581902566), (3095, 0.0), (3096, 0.05645226929902246), (3097, 0.02922171825474272), (3098, 0.025807175215557063), (3099, 0.016191139797747993), (3100, 0.04151106017456373), (3101, 0.0), (3102, 0.0), (3103, 0.0), (3104, 0.02233152100607152), (3105, 0.03333540717928533), (3106, 0.0), (3107, 0.0), (3108, 0.0), (3109, 0.0), (3110, 0.0), (3111, 0.012439593296855893), (3112, 0.007735722301373136), (3113, 0.0), (3114, 0.03861202208005393), (3115, 0.03763727220743891), (3116, 0.0), (3117, 0.014841309010532124), (3118, 0.0), (3119, 0.0), (3120, 0.01320153819146976), (3121, 0.023653368022288557), (3122, 0.033501008810248506), (3123, 0.026824685494247096), (3124, 0.017207170859335277), (3125, 0.0), (3126, 0.006759159331883733), (3127, 0.040397049229129844), (3128, 0.0), (3129, 0.013947544468338114), (3130, 0.006303612755076327), (3131, 0.04478831776912036), (3132, 0.04792510029349512), (3133, 0.06535057107203854), (3134, 0.04828545161271368), (3135, 0.01743759442114966), (3136, 0.015182718683182689), (3137, 0.0), (3138, 0.0), (3139, 0.0), (3140, 0.0), (3141, 0.03257381344044416), (3142, 0.0), (3143, 0.006246085759733578), (3144, 0.0), (3145, 0.025190909789221387), (3146, 0.0), (3147, 0.0), (3148, 0.0), (3149, 0.022675047896008025), (3150, 0.022878321792996103), (3151, 0.0), (3152, 0.007008651939109396), (3153, 0.0), (3154, 0.0), (3155, 0.0), (3156, 0.03786847970797218), (3157, 0.0), (3158, 0.02849259194292065), (3159, 0.0), (3160, 0.034772903434107966), (3161, 0.006815431357984331), (3162, 0.014090346692314267), (3163, 0.01878598668694582), (3164, 0.0), (3165, 0.0071295059856117966), (3166, 0.05465859094843111), (3167, 0.0), (3168, 0.007024795924740583), (3169, 0.028560328511222477), (3170, 0.0), (3171, 0.0), (3172, 0.01734393893978264), (3173, 0.0), (3174, 0.046856820703611635), (3175, 0.012952461370163626), (3176, 0.0), (3177, 0.0), (3178, 0.0), (3179, 0.0), (3180, 0.055924446345911344), (3181, 0.03395504121061963), (3182, 0.0361478384208878), (3183, 0.013974476009477998), (3184, 0.0), (3185, 0.04218432304789642), (3186, 0.0), (3187, 0.0), (3188, 0.0), (3189, 0.0), (3190, 0.0), (3191, 0.03746497123068585), (3192, 0.007604519829335555), (3193, 0.0375484552078489), (3194, 0.0841963119807586), (3195, 0.014858177293726502), (3196, 0.0), (3197, 0.0), (3198, 0.0), (3199, 0.0), (3200, 0.0), (3201, 0.03732378842171464), (3202, 0.01720166370333288), (3203, 0.0), (3204, 0.02866647491750112), (3205, 0.013650702842333917), (3206, 0.017449205137065403), (3207, 0.0), (3208, 0.009615090553015614), (3209, 0.0), (3210, 0.007153379889471667), (3211, 0.0), (3212, 0.03542943857037371), (3213, 0.005628279543690038), (3214, 0.0), (3215, 0.02475422260839595), (3216, 0.0), (3217, 0.0), (3218, 0.0), (3219, 0.031387933930948436), (3220, 0.0), (3221, 0.007080121856081775), (3222, 0.0), (3223, 0.024801055621360195), (3224, 0.0), (3225, 0.032402251674038395), (3226, 0.0), (3227, 0.006196625480171107), (3228, 0.0), (3229, 0.0), (3230, 0.0), (3231, 0.03698265230708715), (3232, 0.014307383958704942), (3233, 0.027387770009252216), (3234, 0.0), (3235, 0.0), (3236, 0.0), (3237, 0.0), (3238, 0.01957888039523544), (3239, 0.0), (3240, 0.0), (3241, 0.006560727792959871), (3242, 0.0), (3243, 0.0), (3244, 0.013147379747011653), (3245, 0.0), (3246, 0.0), (3247, 0.033672609261428205), (3248, 0.0), (3249, 0.0), (3250, 0.0), (3251, 0.0), (3252, 0.031273575478284694), (3253, 0.006870593089046541), (3254, 0.0), (3255, 0.0), (3256, 0.014498786202275196), (3257, 0.0), (3258, 0.0), (3259, 0.007504032685111782), (3260, 0.0), (3261, 0.0), (3262, 0.0), (3263, 0.00809760894038322), (3264, 0.0), (3265, 0.0), (3266, 0.0), (3267, 0.005639120657807034), (3268, 0.0), (3269, 0.0), (3270, 0.08997840071877837), (3271, 0.0), (3272, 0.008531625295310761), (3273, 0.0), (3274, 0.0), (3275, 0.0321110319763074), (3276, 0.02172480537171078), (3277, 0.0), (3278, 0.0), (3279, 0.012680634898856824), (3280, 0.0), (3281, 0.0), (3282, 0.0), (3283, 0.0), (3284, 0.04571898789538246), (3285, 0.03239506757460686), (3286, 0.009284381996207633), (3287, 0.010198170309017204), (3288, 0.0), (3289, 0.0), (3290, 0.0), (3291, 0.0), (3292, 0.0), (3293, 0.0), (3294, 0.021091313768039653), (3295, 0.020338971116812914), (3296, 0.0), (3297, 0.006883780942917296), (3298, 0.06930815471113491), (3299, 0.0), (3300, 0.0), (3301, 0.0), (3302, 0.01648482193584948), (3303, 0.04116662916099636), (3304, 0.0), (3305, 0.027747812606075006), (3306, 0.006160270636457679), (3307, 0.0), (3308, 0.0), (3309, 0.0), (3310, 0.008143702899663067), (3311, 0.019673570582357688), (3312, 0.007209781377065936), (3313, 0.028099475548824634), (3314, 0.0), (3315, 0.0), (3316, 0.027501899232910066), (3317, 0.0), (3318, 0.0), (3319, 0.023368577323538847), (3320, 0.01580832431828738), (3321, 0.023609289624344738), (3322, 0.0), (3323, 0.16190678052260393), (3324, 0.0), (3325, 0.0), (3326, 0.0), (3327, 0.008634869483272082), (3328, 0.010024683374700503), (3329, 0.012828318159101718), (3330, 0.0), (3331, 0.019518225376989162), (3332, 0.05122291602751339), (3333, 0.0), (3334, 0.0), (3335, 0.0), (3336, 0.044917671970395374), (3337, 0.025188577693131504), (3338, 0.0), (3339, 0.00553649932086662), (3340, 0.006813509744285947), (3341, 0.0), (3342, 0.00851694315822014), (3343, 0.006764919436247331), (3344, 0.01138669543802256), (3345, 0.0), (3346, 0.009826217945459547), (3347, 0.0), (3348, 0.0), (3349, 0.0), (3350, 0.0), (3351, 0.0), (3352, 0.0), (3353, 0.022158728640749196), (3354, 0.0), (3355, 0.0), (3356, 0.01740212070236315), (3357, 0.04253289018331915), (3358, 0.027670748438117516), (3359, 0.023108311000655718), (3360, 0.038933246380115326), (3361, 0.05965591657695388), (3362, 0.0), (3363, 0.022405231661633256), (3364, 0.0), (3365, 0.015484647846284876), (3366, 0.06994773041115415), (3367, 0.10501708471988308), (3368, 0.031326237877964375), (3369, 0.0), (3370, 0.013273183597142524), (3371, 0.020218473624761594), (3372, 0.0), (3373, 0.008383799261619989), (3374, 0.024247424362830887), (3375, 0.02448071524141177), (3376, 0.0), (3377, 0.009570074638992504), (3378, 0.0), (3379, 0.0), (3380, 0.029683536263077664), (3381, 0.02561496595458837), (3382, 0.023124852833271342), (3383, 0.006869069163414341), (3384, 0.03091200441085264), (3385, 0.027553152355893423), (3386, 0.0), (3387, 0.010117102231579043), (3388, 0.0), (3389, 0.021507737000422078), (3390, 0.0), (3391, 0.0), (3392, 0.0), (3393, 0.012848160917344259), (3394, 0.0), (3395, 0.008280225480916673), (3396, 0.0), (3397, 0.009588819505778102), (3398, 0.0), (3399, 0.013099522086624545), (3400, 0.012509303368181204), (3401, 0.0), (3402, 0.0), (3403, 0.0), (3404, 0.016397114651435427), (3405, 0.036161974495385246), (3406, 0.0), (3407, 0.0), (3408, 0.11807403846558608), (3409, 0.0), (3410, 0.0), (3411, 0.0), (3412, 0.036783960024681206), (3413, 0.0), (3414, 0.047466447377268024), (3415, 0.0), (3416, 0.008401300922588333), (3417, 0.0), (3418, 0.0), (3419, 0.021914328400828534), (3420, 0.01123768113752403), (3421, 0.018315092583811938), (3422, 0.0), (3423, 0.022685522466627365), (3424, 0.006864671219010823), (3425, 0.0), (3426, 0.00851488873541038), (3427, 0.038896277913637714), (3428, 0.0817657871232345), (3429, 0.004537094445759473), (3430, 0.0), (3431, 0.0), (3432, 0.00742376655142621), (3433, 0.0), (3434, 0.0), (3435, 0.0), (3436, 0.0), (3437, 0.0), (3438, 0.0070152819208802765), (3439, 0.01031649263486193), (3440, 0.008646702884943012), (3441, 0.008849315379227922), (3442, 0.0), (3443, 0.033585362603720095), (3444, 0.010445881518195288), (3445, 0.007438531910092317), (3446, 0.0), (3447, 0.013988793675887295), (3448, 0.01788400767851202), (3449, 0.0), (3450, 0.009035873205974218), (3451, 0.008411202119241065), (3452, 0.050439141865704334), (3453, 0.034909271491940494), (3454, 0.038164152017279546), (3455, 0.0), (3456, 0.060747793419046306), (3457, 0.0), (3458, 0.0), (3459, 0.019440702223210253), (3460, 0.0), (3461, 0.010432308240168959), (3462, 0.0), (3463, 0.045168779451026944), (3464, 0.007734388095482137), (3465, 0.007363483981136772), (3466, 0.09754401330549309), (3467, 0.07100337098079756), (3468, 0.06885636068698636), (3469, 0.04671020555166666), (3470, 0.0), (3471, 0.0), (3472, 0.00777582608435565), (3473, 0.0), (3474, 0.0), (3475, 0.0), (3476, 0.0), (3477, 0.023742279480014925), (3478, 0.0), (3479, 0.0), (3480, 0.030112071245139718), (3481, 0.0), (3482, 0.009742354106913655), (3483, 0.04188254839358841), (3484, 0.022537497305881952), (3485, 0.0), (3486, 0.01760250170456669), (3487, 0.013555285543152818), (3488, 0.0), (3489, 0.0), (3490, 0.0), (3491, 0.0), (3492, 0.03116040041855214), (3493, 0.0), (3494, 0.0), (3495, 0.0), (3496, 0.0), (3497, 0.0), (3498, 0.04429170634665902), (3499, 0.0), (3500, 0.0), (3501, 0.0), (3502, 0.025879927887215617), (3503, 0.013488611912849214), (3504, 0.02134690931728147), (3505, 0.0), (3506, 0.0), (3507, 0.007679484850166384), (3508, 0.0), (3509, 0.0430696976945031), (3510, 0.021322389772704172), (3511, 0.0), (3512, 0.0), (3513, 0.02920511396549327), (3514, 0.033587178189350385), (3515, 0.12148134663800698), (3516, 0.03275302267825547), (3517, 0.021831213605313766), (3518, 0.0), (3519, 0.0), (3520, 0.01848929874758516), (3521, 0.0), (3522, 0.007527576215654055), (3523, 0.025704775223384345), (3524, 0.0), (3525, 0.0070119568938408015), (3526, 0.0), (3527, 0.0), (3528, 0.031024540249514697), (3529, 0.01483837436871309), (3530, 0.04996817689835551), (3531, 0.007132561408964374), (3532, 0.047406325847873916), (3533, 0.0), (3534, 0.0), (3535, 0.0), (3536, 0.0), (3537, 0.049541451384683834), (3538, 0.017881390770692254), (3539, 0.03780499054244435), (3540, 0.026319794080653734), (3541, 0.0), (3542, 0.026068708546717025), (3543, 0.0), (3544, 0.0), (3545, 0.0), (3546, 0.007998207990579221), (3547, 0.0), (3548, 0.0), (3549, 0.0), (3550, 0.04435006263167187), (3551, 0.0), (3552, 0.0), (3553, 0.0), (3554, 0.008806633863302897), (3555, 0.0157610181324598), (3556, 0.00587657066249248), (3557, 0.0), (3558, 0.013073519318570048), (3559, 0.04432730128934854), (3560, 0.019219162660056247), (3561, 0.0), (3562, 0.0), (3563, 0.0), (3564, 0.0), (3565, 0.0), (3566, 0.02791204556424587), (3567, 0.010078768247508859), (3568, 0.01625680649179783), (3569, 0.0), (3570, 0.0), (3571, 0.0), (3572, 0.0), (3573, 0.0), (3574, 0.015456797620498305), (3575, 0.0), (3576, 0.024886435904773394), (3577, 0.0), (3578, 0.020280166879755344), (3579, 0.01064010606893536), (3580, 0.0), (3581, 0.025788220340005774), (3582, 0.01697091230635343), (3583, 0.024419027088733652), (3584, 0.0), (3585, 0.031044077263719536), (3586, 0.01830747179026946), (3587, 0.010772962652276051), (3588, 0.007520389760734707), (3589, 0.013185163487963265), (3590, 0.0), (3591, 0.007694357292571675), (3592, 0.0), (3593, 0.008706885831386228), (3594, 0.038564650940468945), (3595, 0.02987703327693851), (3596, 0.0), (3597, 0.016795185573930085), (3598, 0.0343494431554698), (3599, 0.0), (3600, 0.013140434580385493), (3601, 0.0), (3602, 0.008417990688840329), (3603, 0.007288533500508029), (3604, 0.0075496153259242416), (3605, 0.02946791827366071), (3606, 0.0), (3607, 0.015128168081956423), (3608, 0.0), (3609, 0.006771667237566679), (3610, 0.0), (3611, 0.0), (3612, 0.0), (3613, 0.0), (3614, 0.0), (3615, 0.0), (3616, 0.02605988899870817), (3617, 0.0), (3618, 0.0), (3619, 0.04187475845017608), (3620, 0.0), (3621, 0.0), (3622, 0.0), (3623, 0.034564806408066744), (3624, 0.0), (3625, 0.021093016669869145), (3626, 0.0), (3627, 0.0), (3628, 0.018583293641904475), (3629, 0.010172772491585113), (3630, 0.02950962822499866), (3631, 0.0), (3632, 0.0), (3633, 0.0), (3634, 0.02275941551234892), (3635, 0.04588400951982628), (3636, 0.0), (3637, 0.017913476585900055), (3638, 0.009995508357196873), (3639, 0.0), (3640, 0.0), (3641, 0.03415568370201763), (3642, 0.007775281025758664), (3643, 0.0), (3644, 0.0), (3645, 0.005332867443366648), (3646, 0.0), (3647, 0.0), (3648, 0.022854802501903936), (3649, 0.0), (3650, 0.0), (3651, 0.014411349787144671), (3652, 0.0), (3653, 0.0), (3654, 0.0), (3655, 0.0), (3656, 0.0), (3657, 0.014365284845679675), (3658, 0.0062044066011361166), (3659, 0.01597368096907018), (3660, 0.007113573161154581), (3661, 0.0), (3662, 0.022290820931248404), (3663, 0.0), (3664, 0.0), (3665, 0.02454278111085747), (3666, 0.0), (3667, 0.0), (3668, 0.01627737076828296), (3669, 0.0), (3670, 0.0), (3671, 0.029776252948267374), (3672, 0.045294403725901315), (3673, 0.07483117555942195), (3674, 0.0), (3675, 0.0), (3676, 0.0062717493473422765), (3677, 0.0), (3678, 0.04904804702483898), (3679, 0.0), (3680, 0.007736203143543913), (3681, 0.0), (3682, 0.0), (3683, 0.0), (3684, 0.026093258845115836), (3685, 0.03228611771669798), (3686, 0.0), (3687, 0.0), (3688, 0.026953128525247776), (3689, 0.0), (3690, 0.04349509825809698), (3691, 0.0), (3692, 0.03366843359362313), (3693, 0.03589778185646354), (3694, 0.0), (3695, 0.026209067064656685), (3696, 0.0), (3697, 0.018458355122897428), (3698, 0.006783157754806092), (3699, 0.0), (3700, 0.01704465850557001), (3701, 0.0), (3702, 0.05365350508626247), (3703, 0.009263346260479248), (3704, 0.0), (3705, 0.03864806607441304), (3706, 0.026953400007518565), (3707, 0.007085716949772616), (3708, 0.007116199168382533), (3709, 0.052694967128760775), (3710, 0.008026898471824086), (3711, 0.0), (3712, 0.0), (3713, 0.0), (3714, 0.026568266333119275), (3715, 0.008011702198236619), (3716, 0.0), (3717, 0.0), (3718, 0.03096726447487385), (3719, 0.0), (3720, 0.03462039652454526), (3721, 0.0), (3722, 0.0), (3723, 0.0070707370030790185), (3724, 0.03371970582218903), (3725, 0.0), (3726, 0.008376414443350801), (3727, 0.0), (3728, 0.021941395845929038), (3729, 0.0), (3730, 0.0), (3731, 0.011114279049424773), (3732, 0.021747301212803022), (3733, 0.0), (3734, 0.03165986817188629), (3735, 0.03396941598923843), (3736, 0.0), (3737, 0.0), (3738, 0.007185003526663935), (3739, 0.0), (3740, 0.0), (3741, 0.007712810072806015), (3742, 0.021671590504903783), (3743, 0.043458611196294294), (3744, 0.05037774481558951), (3745, 0.0), (3746, 0.01461644437510197), (3747, 0.09717518737675196), (3748, 0.0), (3749, 0.04329683533252034), (3750, 0.0), (3751, 0.0), (3752, 0.011167049709567901), (3753, 0.0), (3754, 0.01435967790201802), (3755, 0.0), (3756, 0.0), (3757, 0.0), (3758, 0.0), (3759, 0.0), (3760, 0.0), (3761, 0.0), (3762, 0.0), (3763, 0.041695159634001853), (3764, 0.0), (3765, 0.0), (3766, 0.0), (3767, 0.0), (3768, 0.0), (3769, 0.021677469530612548), (3770, 0.0), (3771, 0.007619421858453433), (3772, 0.0), (3773, 0.03901560770639621), (3774, 0.0), (3775, 0.06047023410287257), (3776, 0.006547133038670606), (3777, 0.0), (3778, 0.02043620088270127), (3779, 0.0), (3780, 0.0), (3781, 0.0), (3782, 0.020614166832887217), (3783, 0.03814994284809827), (3784, 0.0), (3785, 0.008648507212114525), (3786, 0.018851604053778205), (3787, 0.07199059548620276), (3788, 0.0), (3789, 0.0), (3790, 0.046459216478887996), (3791, 0.0), (3792, 0.0), (3793, 0.0), (3794, 0.019959681205026683), (3795, 0.09793575853730574), (3796, 0.0), (3797, 0.028819033869602616), (3798, 0.04310964710049278), (3799, 0.0), (3800, 0.0), (3801, 0.0), (3802, 0.04434987918523614), (3803, 0.008114828856938539), (3804, 0.0), (3805, 0.009079471998854258), (3806, 0.0), (3807, 0.03064935328552098), (3808, 0.0), (3809, 0.0), (3810, 0.0), (3811, 0.0), (3812, 0.0), (3813, 0.0), (3814, 0.006563277600896306), (3815, 0.0), (3816, 0.0), (3817, 0.06996642721485513), (3818, 0.0), (3819, 0.02811664090187581), (3820, 0.0), (3821, 0.0), (3822, 0.03599073856290046), (3823, 0.03468127258746305), (3824, 0.0), (3825, 0.0), (3826, 0.00870607665992094), (3827, 0.0), (3828, 0.0), (3829, 0.013286411764931194), (3830, 0.0), (3831, 0.0), (3832, 0.0), (3833, 0.0), (3834, 0.03838487065246865), (3835, 0.0), (3836, 0.0), (3837, 0.0), (3838, 0.0), (3839, 0.0), (3840, 0.1284412063721458), (3841, 0.0), (3842, 0.0), (3843, 0.05743426963256224), (3844, 0.0), (3845, 0.07272264279703948), (3846, 0.01751048249053955), (3847, 0.12666832934341749), (3848, 0.0), (3849, 0.08191323196608916), (3850, 0.05659109525803021), (3851, 0.0465205453454763), (3852, 0.021126910566182797), (3853, 0.0), (3854, 0.0), (3855, 0.0), (3856, 0.036596904762461906), (3857, 0.0), (3858, 0.0), (3859, 0.0), (3860, 0.006474481758532937), (3861, 0.0), (3862, 0.0069373981007010916), (3863, 0.0), (3864, 0.0), (3865, 0.0088176034551534), (3866, 0.0), (3867, 0.0), (3868, 0.0), (3869, 0.039775987240500195), (3870, 0.01783839808350715), (3871, 0.03271322453656169), (3872, 0.0), (3873, 0.026966964121859713), (3874, 0.0), (3875, 0.0), (3876, 0.0), (3877, 0.010339891830690793), (3878, 0.0), (3879, 0.04686094898971555), (3880, 0.0), (3881, 0.0), (3882, 0.0), (3883, 0.0), (3884, 0.0), (3885, 0.056658474905406445), (3886, 0.022910941211934002), (3887, 0.0), (3888, 0.047168872149195004), (3889, 0.04602923208036246), (3890, 0.021336592360908704), (3891, 0.016986021267551853), (3892, 0.0), (3893, 0.0), (3894, 0.014418033646964633), (3895, 0.0), (3896, 0.0), (3897, 0.059902418242215136), (3898, 0.0), (3899, 0.0), (3900, 0.02461685048595377), (3901, 0.0), (3902, 0.0), (3903, 0.010460160117032564), (3904, 0.0), (3905, 0.0), (3906, 0.0), (3907, 0.04585993068680962), (3908, 0.031635063930742564), (3909, 0.0), (3910, 0.0), (3911, 0.0), (3912, 0.0), (3913, 0.0), (3914, 0.0), (3915, 0.0), (3916, 0.0), (3917, 0.015744741809073308), (3918, 0.0), (3919, 0.026047210867641973), (3920, 0.0), (3921, 0.0), (3922, 0.0), (3923, 0.041056846808394484), (3924, 0.015297512153618197), (3925, 0.0), (3926, 0.0), (3927, 0.0), (3928, 0.0), (3929, 0.0), (3930, 0.0), (3931, 0.02399868359353186), (3932, 0.0), (3933, 0.0), (3934, 0.0), (3935, 0.0), (3936, 0.0), (3937, 0.06657009837020833), (3938, 0.0), (3939, 0.0), (3940, 0.03519523089343649), (3941, 0.0), (3942, 0.0), (3943, 0.0), (3944, 0.0), (3945, 0.0), (3946, 0.005529752943682755), (3947, 0.007558575866547065), (3948, 0.0), (3949, 0.04658135662255536), (3950, 0.0), (3951, 0.02112220599718963), (3952, 0.0), (3953, 0.007371446059360687), (3954, 0.0), (3955, 0.03097855033472116), (3956, 0.0), (3957, 0.020707714488010724), (3958, 0.006080213132828948), (3959, 0.0), (3960, 0.04138273988212242), (3961, 0.024988120379127947), (3962, 0.0), (3963, 0.014863716557795097), (3964, 0.0), (3965, 0.08082835521895419), (3966, 0.02591121049957945), (3967, 0.0), (3968, 0.07035337213115708), (3969, 0.0), (3970, 0.013054647040777656), (3971, 0.0), (3972, 0.06555853737277116), (3973, 0.02060652082489778), (3974, 0.0), (3975, 0.0), (3976, 0.0), (3977, 0.04387584827314343), (3978, 0.006491747538959781), (3979, 0.01937355580682082), (3980, 0.016764725378808222), (3981, 0.0), (3982, 0.042819561844904305), (3983, 0.01075779152765897), (3984, 0.0), (3985, 0.0), (3986, 0.0), (3987, 0.0), (3988, 0.0), (3989, 0.0), (3990, 0.0), (3991, 0.028170124224661433), (3992, 0.0), (3993, 0.006697312970944821), (3994, 0.02489507217906089), (3995, 0.0), (3996, 0.04561330675853305), (3997, 0.007228716942505415), (3998, 0.03011551451120723), (3999, 0.0), (4000, 0.0), (4001, 0.006833859874072775), (4002, 0.0), (4003, 0.0), (4004, 0.0), (4005, 0.007843640188987267), (4006, 0.036918783964718475), (4007, 0.03335243854329453), (4008, 0.0), (4009, 0.00833241511294731), (4010, 0.0), (4011, 0.0), (4012, 0.006334271109821814), (4013, 0.0), (4014, 0.021876504831144738), (4015, 0.036654860859455345), (4016, 0.008424129214668393), (4017, 0.0), (4018, 0.010190994318706539), (4019, 0.0), (4020, 0.006835248601693979), (4021, 0.0), (4022, 0.0), (4023, 0.0), (4024, 0.0), (4025, 0.0), (4026, 0.0), (4027, 0.0), (4028, 0.0), (4029, 0.0), (4030, 0.0), (4031, 0.03722000176247648), (4032, 0.042061473098808096), (4033, 0.041943011245389995), (4034, 0.009851401907219415), (4035, 0.0), (4036, 0.009391079444119701), (4037, 0.007340879016669552), (4038, 0.007665979101734631), (4039, 0.006670227445892032), (4040, 0.0), (4041, 0.04451933669645752), (4042, 0.0), (4043, 0.0), (4044, 0.006518957914560217), (4045, 0.05335558115634227), (4046, 0.035901483682315105), (4047, 0.0), (4048, 0.0), (4049, 0.0), (4050, 0.0), (4051, 0.0), (4052, 0.0), (4053, 0.0), (4054, 0.03984440533895175), (4055, 0.035930503639115256), (4056, 0.016511159976757856), (4057, 0.0), (4058, 0.0), (4059, 0.019294687523884455), (4060, 0.0), (4061, 0.0), (4062, 0.0), (4063, 0.02356403500343538), (4064, 0.0), (4065, 0.0), (4066, 0.0), (4067, 0.0), (4068, 0.04683268522564845), (4069, 0.0), (4070, 0.04308377525337326), (4071, 0.0), (4072, 0.0), (4073, 0.0), (4074, 0.02150382546723561), (4075, 0.0), (4076, 0.050390835229047484), (4077, 0.04490702436853487), (4078, 0.0), (4079, 0.0), (4080, 0.0), (4081, 0.0), (4082, 0.0), (4083, 0.04451669574603562), (4084, 0.0), (4085, 0.0), (4086, 0.009855610050872467), (4087, 0.025577259033558605), (4088, 0.032628444092081786), (4089, 0.08946271015048042), (4090, 0.0), (4091, 0.04846432155366486), (4092, 0.0), (4093, 0.03157279444709317), (4094, 0.014494379041237104), (4095, 0.00657204326422929), (4096, 0.0), (4097, 0.0), (4098, 0.0070806454831349565), (4099, 0.009757691660850266), (4100, 0.035994288250935626), (4101, 0.0), (4102, 0.026161074810157076), (4103, 0.09224040320662542), (4104, 0.0), (4105, 0.0), (4106, 0.0), (4107, 0.0), (4108, 0.0), (4109, 0.012410286376657673), (4110, 0.0), (4111, 0.0), (4112, 0.01644455715516029), (4113, 0.0), (4114, 0.042537601455663106), (4115, 0.0), (4116, 0.00741380130484126), (4117, 0.016781673384821585), (4118, 0.009294899054843314), (4119, 0.007483068935807134), (4120, 0.0), (4121, 0.008399938210390865), (4122, 0.02319109043204129), (4123, 0.0), (4124, 0.0), (4125, 0.0), (4126, 0.0), (4127, 0.0), (4128, 0.06215133068996548), (4129, 0.0), (4130, 0.019389472889212646), (4131, 0.006644568439536328), (4132, 0.0), (4133, 0.0), (4134, 0.0), (4135, 0.0), (4136, 0.0), (4137, 0.0), (4138, 0.0), (4139, 0.024089222362713443), (4140, 0.0), (4141, 0.0), (4142, 0.030068554370986912), (4143, 0.07234149666620308), (4144, 0.00694233056566184), (4145, 0.0), (4146, 0.0), (4147, 0.0), (4148, 0.006715431876756039), (4149, 0.0), (4150, 0.0), (4151, 0.0), (4152, 0.03318693148863938), (4153, 0.03834790196612596), (4154, 0.02426373486820485), (4155, 0.0), (4156, 0.0), (4157, 0.0), (4158, 0.03396081198276707), (4159, 0.0), (4160, 0.009920774331722336), (4161, 0.0), (4162, 0.0), (4163, 0.0), (4164, 0.0), (4165, 0.02454597321826), (4166, 0.024770612015627812), (4167, 0.0), (4168, 0.06060206057893601), (4169, 0.013415444492995504), (4170, 0.0), (4171, 0.07395977629708683), (4172, 0.0), (4173, 0.0), (4174, 0.03868451864595833), (4175, 0.0), (4176, 0.0), (4177, 0.0), (4178, 0.0), (4179, 0.0), (4180, 0.0), (4181, 0.04877256008244149), (4182, 0.0), (4183, 0.0), (4184, 0.0), (4185, 0.008372892139658692), (4186, 0.007153831160236918), (4187, 0.0), (4188, 0.017089800529974792), (4189, 0.0), (4190, 0.0), (4191, 0.0), (4192, 0.0), (4193, 0.015102698707921563), (4194, 0.03382542129151419), (4195, 0.009825831376217049), (4196, 0.018808244813502236), (4197, 0.0), (4198, 0.0), (4199, 0.017455764686783178), (4200, 0.01637324065317737), (4201, 0.0), (4202, 0.008675343398509998), (4203, 0.0), (4204, 0.0), (4205, 0.0), (4206, 0.0), (4207, 0.026172494075348413), (4208, 0.0), (4209, 0.0), (4210, 0.016827845172923402), (4211, 0.015880395073854216), (4212, 0.0), (4213, 0.0), (4214, 0.0), (4215, 0.0), (4216, 0.0), (4217, 0.0), (4218, 0.009861568188605386), (4219, 0.0), (4220, 0.0), (4221, 0.034436367572221974), (4222, 0.0), (4223, 0.0), (4224, 0.01646640074940728), (4225, 0.0), (4226, 0.0), (4227, 0.0), (4228, 0.0), (4229, 0.0), (4230, 0.0), (4231, 0.0), (4232, 0.0), (4233, 0.007540239286121418), (4234, 0.0), (4235, 0.0), (4236, 0.016162490987698383), (4237, 0.0), (4238, 0.05039413298040983), (4239, 0.0), (4240, 0.025904048317378393), (4241, 0.0220559547260059), (4242, 0.015698655895527512), (4243, 0.0), (4244, 0.008280863063065712), (4245, 0.0), (4246, 0.0), (4247, 0.0), (4248, 0.0071075200355751695), (4249, 0.007796980479372305), (4250, 0.02258030795153318), (4251, 0.0), (4252, 0.0), (4253, 0.0), (4254, 0.0), (4255, 0.05140994655844402), (4256, 0.0), (4257, 0.0), (4258, 0.0), (4259, 0.0), (4260, 0.0), (4261, 0.02312834799448351), (4262, 0.0), (4263, 0.021479455387593174), (4264, 0.03080160856225326), (4265, 0.0), (4266, 0.02429428215945227), (4267, 0.0), (4268, 0.01464120121841918), (4269, 0.03369278998270375), (4270, 0.015403482018259224), (4271, 0.0), (4272, 0.015559688383121238), (4273, 0.0), (4274, 0.09582487027609116), (4275, 0.023755205402598213), (4276, 0.03734601475710406), (4277, 0.030122742199359922), (4278, 0.0), (4279, 0.0), (4280, 0.0), (4281, 0.0), (4282, 0.0), (4283, 0.016265796378558475), (4284, 0.0), (4285, 0.03649803616857239), (4286, 0.0), (4287, 0.0), (4288, 0.00870298674254145), (4289, 0.01755315350120612), (4290, 0.0), (4291, 0.0), (4292, 0.022268615147945668), (4293, 0.006826285590352445), (4294, 0.018012801415191723), (4295, 0.0), (4296, 0.0), (4297, 0.0), (4298, 0.0), (4299, 0.04667512215185321), (4300, 0.010747713093251827), (4301, 0.0), (4302, 0.027086309816353682), (4303, 0.009047104561830615), (4304, 0.0), (4305, 0.02149297894596738), (4306, 0.0), (4307, 0.04594539457596377), (4308, 0.0), (4309, 0.0), (4310, 0.007218500019705009), (4311, 0.0), (4312, 0.034623622953762236), (4313, 0.0), (4314, 0.0), (4315, 0.0), (4316, 0.0), (4317, 0.0), (4318, 0.0), (4319, 0.0), (4320, 0.0), (4321, 0.0), (4322, 0.0), (4323, 0.009999346694660268), (4324, 0.0), (4325, 0.019527060463981553), (4326, 0.0), (4327, 0.0), (4328, 0.007041712360495124), (4329, 0.0), (4330, 0.0), (4331, 0.0), (4332, 0.0), (4333, 0.0), (4334, 0.0248633026991591), (4335, 0.0), (4336, 0.0), (4337, 0.0), (4338, 0.020379747260489047), (4339, 0.04815338475512045), (4340, 0.0), (4341, 0.03337449989527172), (4342, 0.0), (4343, 0.012241024484216816), (4344, 0.02440755666253206), (4345, 0.007431361944764233), (4346, 0.030788123766532255), (4347, 0.009586977899243409), (4348, 0.0), (4349, 0.0), (4350, 0.023022622576808337), (4351, 0.010378154699796725), (4352, 0.0), (4353, 0.00639971101847068), (4354, 0.0), (4355, 0.0), (4356, 0.0), (4357, 0.0), (4358, 0.0), (4359, 0.0), (4360, 0.0), (4361, 0.0), (4362, 0.0), (4363, 0.0), (4364, 0.03146189750273906), (4365, 0.022521077079737585), (4366, 0.0), (4367, 0.0), (4368, 0.0), (4369, 0.0), (4370, 0.0), (4371, 0.0), (4372, 0.0), (4373, 0.023250418272241544), (4374, 0.01335369940570762), (4375, 0.0), (4376, 0.00805226421101536), (4377, 0.0), (4378, 0.0294227434564117), (4379, 0.00718361180058438), (4380, 0.01416267106247194), (4381, 0.0), (4382, 0.0), (4383, 0.02595019821624294), (4384, 0.00755600586347626), (4385, 0.0), (4386, 0.0), (4387, 0.0), (4388, 0.027655030924828388), (4389, 0.025728081870280552), (4390, 0.007423750464405161), (4391, 0.024952415357198738), (4392, 0.007808208719104983), (4393, 0.007004271740505985), (4394, 0.0), (4395, 0.019981971089416992), (4396, 0.0), (4397, 0.0), (4398, 0.0), (4399, 0.0), (4400, 0.0), (4401, 0.03857085511659443), (4402, 0.0), (4403, 0.0), (4404, 0.036683140131310646), (4405, 0.022688157904215384), (4406, 0.029104484549858714), (4407, 0.0), (4408, 0.0), (4409, 0.0), (4410, 0.02163868415117806), (4411, 0.0), (4412, 0.0), (4413, 0.0), (4414, 0.0), (4415, 0.0), (4416, 0.0), (4417, 0.0), (4418, 0.011461688710652541), (4419, 0.015748555276097375), (4420, 0.0), (4421, 0.0), (4422, 0.0), (4423, 0.0), (4424, 0.0), (4425, 0.0), (4426, 0.0), (4427, 0.0), (4428, 0.010264559633495917), (4429, 0.0065429917295683065), (4430, 0.008407618943073139), (4431, 0.0), (4432, 0.006213364936553812), (4433, 0.0), (4434, 0.03962346457245689), (4435, 0.007334450784790535), (4436, 0.007057275415967423), (4437, 0.0), (4438, 0.0), (4439, 0.016371622741810917), (4440, 0.00790417326348655), (4441, 0.0), (4442, 0.0), (4443, 0.007471388650223764), (4444, 0.03358698936291484), (4445, 0.0), (4446, 0.0), (4447, 0.00673636825448471), (4448, 0.0), (4449, 0.0), (4450, 0.0066063186035674685), (4451, 0.017284340946740008), (4452, 0.0), (4453, 0.06759365622380885), (4454, 0.010281031259581807), (4455, 0.09826482112957742), (4456, 0.017937378595491563), (4457, 0.044968611195988384), (4458, 0.0), (4459, 0.0), (4460, 0.0), (4461, 0.0), (4462, 0.008165198436422407), (4463, 0.0), (4464, 0.0), (4465, 0.0), (4466, 0.03511523396097963), (4467, 0.034764451047638215), (4468, 0.04280763035036523), (4469, 0.0), (4470, 0.0), (4471, 0.0), (4472, 0.02363021132514668), (4473, 0.0), (4474, 0.0), (4475, 0.0), (4476, 0.0), (4477, 0.03153473199829904), (4478, 0.010489629812174422), (4479, 0.0), (4480, 0.0), (4481, 0.006638056774852695), (4482, 0.0310316663096606), (4483, 0.0), (4484, 0.0), (4485, 0.0), (4486, 0.0074517096201274745), (4487, 0.06989617327026809), (4488, 0.0), (4489, 0.026182011515744192), (4490, 0.03304045753888731), (4491, 0.017048876919652033), (4492, 0.009407694589210232), (4493, 0.04540568570718038), (4494, 0.03934713843067915), (4495, 0.0), (4496, 0.0), (4497, 0.0), (4498, 0.0), (4499, 0.0), (4500, 0.0), (4501, 0.008994053520539376), (4502, 0.0), (4503, 0.006864890949039527), (4504, 0.0), (4505, 0.0), (4506, 0.0252349377457043), (4507, 0.0), (4508, 0.0), (4509, 0.016457625969849007), (4510, 0.0), (4511, 0.0), (4512, 0.0), (4513, 0.0), (4514, 0.0), (4515, 0.08688487946363756), (4516, 0.011223355535558824), (4517, 0.0), (4518, 0.0), (4519, 0.006934934963271225), (4520, 0.0), (4521, 0.0), (4522, 0.0), (4523, 0.008675495017751281), (4524, 0.0), (4525, 0.0), (4526, 0.010120609270379551), (4527, 0.0), (4528, 0.0), (4529, 0.05298601562037403), (4530, 0.0), (4531, 0.04279928580221441), (4532, 0.0), (4533, 0.009937374179094457), (4534, 0.019522314033350377), (4535, 0.040150075466796), (4536, 0.0), (4537, 0.0), (4538, 0.0), (4539, 0.0), (4540, 0.0), (4541, 0.0), (4542, 0.0), (4543, 0.006672884846761073), (4544, 0.0), (4545, 0.021371921140509408), (4546, 0.028827035384267632), (4547, 0.02982531098756712), (4548, 0.012185873503805332), (4549, 0.047025775432149086), (4550, 0.017664077739236086), (4551, 0.014888297518932008), (4552, 0.03833419649907414), (4553, 0.00632279349952398), (4554, 0.0), (4555, 0.0), (4556, 0.0), (4557, 0.04217905732071117), (4558, 0.0), (4559, 0.0), (4560, 0.0), (4561, 0.0), (4562, 0.0), (4563, 0.0), (4564, 0.01674221497490395), (4565, 0.0), (4566, 0.08032876299471203), (4567, 0.03181916182981699), (4568, 0.006818464198493697), (4569, 0.008888694854883692), (4570, 0.009762030866568908), (4571, 0.0), (4572, 0.0), (4573, 0.006090991213580349), (4574, 0.0), (4575, 0.0), (4576, 0.03615375810996984), (4577, 0.0), (4578, 0.0), (4579, 0.0), (4580, 0.0), (4581, 0.046041808979271785), (4582, 0.0), (4583, 0.0), (4584, 0.0), (4585, 0.0), (4586, 0.007565924651523933), (4587, 0.013211092854859038), (4588, 0.034594589216088795), (4589, 0.016701146020201594), (4590, 0.006319919326458901), (4591, 0.007010134538214748), (4592, 0.0), (4593, 0.0), (4594, 0.0), (4595, 0.0), (4596, 0.0), (4597, 0.008471014657776726), (4598, 0.0), (4599, 0.0), (4600, 0.006647884872160019), (4601, 0.026201642933214718), (4602, 0.0), (4603, 0.0), (4604, 0.0), (4605, 0.02325288855553839), (4606, 0.024168148466588997), (4607, 0.01761849955597017), (4608, 0.007394791314271225), (4609, 0.017735372368560424), (4610, 0.0), (4611, 0.0), (4612, 0.0), (4613, 0.032973080371267026), (4614, 0.06268599778338962), (4615, 0.0), (4616, 0.0), (4617, 0.0), (4618, 0.0), (4619, 0.006805234587689394), (4620, 0.0), (4621, 0.0), (4622, 0.024075983691014154), (4623, 0.014312421268273555), (4624, 0.023560545875928807), (4625, 0.0), (4626, 0.03317026273967713), (4627, 0.0), (4628, 0.0), (4629, 0.006928558155296603), (4630, 0.007619878097214983), (4631, 0.007535623292658758), (4632, 0.0), (4633, 0.0), (4634, 0.0), (4635, 0.0), (4636, 0.0), (4637, 0.0), (4638, 0.021080662011118717), (4639, 0.0), (4640, 0.0), (4641, 0.06458112807188393), (4642, 0.0077024235294569764), (4643, 0.00839745837276875), (4644, 0.0), (4645, 0.0), (4646, 0.007815136123202995), (4647, 0.02406743104643834), (4648, 0.021871175696960652), (4649, 0.006482172532429631), (4650, 0.01530657076407208), (4651, 0.0), (4652, 0.0), (4653, 0.008426683492620268), (4654, 0.0), (4655, 0.0), (4656, 0.006647903204895453), (4657, 0.0), (4658, 0.013592642934631145), (4659, 0.006607656925700921), (4660, 0.026570038810521997), (4661, 0.006709447586479867), (4662, 0.0), (4663, 0.009567113789972855), (4664, 0.0), (4665, 0.0), (4666, 0.008405901232193301), (4667, 0.07117677726182339), (4668, 0.0), (4669, 0.0), (4670, 0.02314854721210438), (4671, 0.0), (4672, 0.023857042357468584), (4673, 0.006876809941345896), (4674, 0.02165950170283001), (4675, 0.0), (4676, 0.08766384393275435), (4677, 0.040742391719955515), (4678, 0.0), (4679, 0.0), (4680, 0.0), (4681, 0.0), (4682, 0.0503959622435122), (4683, 0.03889921307884018), (4684, 0.0071363370032716976), (4685, 0.0), (4686, 0.0), (4687, 0.0), (4688, 0.014568263296514346), (4689, 0.0), (4690, 0.026233613828018122), (4691, 0.0), (4692, 0.0), (4693, 0.0), (4694, 0.0), (4695, 0.0), (4696, 0.0), (4697, 0.01985527702171733), (4698, 0.0074910803752272544), (4699, 0.0), (4700, 0.0), (4701, 0.0), (4702, 0.0), (4703, 0.017952038490778914), (4704, 0.0), (4705, 0.00965048940249695), (4706, 0.0), (4707, 0.0), (4708, 0.006901962019872405), (4709, 0.008430355930520411), (4710, 0.02406411377150835), (4711, 0.0), (4712, 0.0), (4713, 0.0), (4714, 0.027831327405468044), (4715, 0.0), (4716, 0.0078221474810564), (4717, 0.0), (4718, 0.0), (4719, 0.0), (4720, 0.021819808418511995), (4721, 0.0), (4722, 0.0), (4723, 0.007719832612011158), (4724, 0.0), (4725, 0.03302991640079199), (4726, 0.007307041479325731), (4727, 0.007559951126380273), (4728, 0.0), (4729, 0.0), (4730, 0.025631897523810204), (4731, 0.0), (4732, 0.0), (4733, 0.005619660238827412), (4734, 0.0), (4735, 0.0), (4736, 0.04734752928878728), (4737, 0.043708538106077464), (4738, 0.0), (4739, 0.012303518467119547), (4740, 0.051832140943236196), (4741, 0.007402279820706309), (4742, 0.016871172195408773), (4743, 0.02026814789403171), (4744, 0.0), (4745, 0.008599049225145676), (4746, 0.0), (4747, 0.021541505229288438), (4748, 0.0), (4749, 0.0), (4750, 0.0), (4751, 0.0), (4752, 0.00540198252124886), (4753, 0.0), (4754, 0.015035200260133566), (4755, 0.0), (4756, 0.013030268902110896), (4757, 0.0), (4758, 0.0), (4759, 0.0)]\n"
          ]
        }
      ],
      "source": [
        "# getting a list of similar movies\n",
        "Recommendation_Score = list(enumerate(Similarity_Score[Index_of_Close_Match_Movie]))\n",
        "print(Recommendation_Score)"
      ]
    },
    {
      "cell_type": "code",
      "execution_count": 70,
      "metadata": {
        "colab": {
          "base_uri": "https://localhost:8080/"
        },
        "id": "ieMPCZ0W9U19",
        "outputId": "f5b9d344-6bc5-4eb0-afa5-e493209e18e4"
      },
      "outputs": [
        {
          "output_type": "execute_result",
          "data": {
            "text/plain": [
              "4760"
            ]
          },
          "metadata": {},
          "execution_count": 70
        }
      ],
      "source": [
        "len(Recommendation_Score)"
      ]
    },
    {
      "cell_type": "markdown",
      "metadata": {
        "id": "8OzC5LDp9g4D"
      },
      "source": [
        "**Get All Movies Sort Based on Recommendations Score wrt Favourite Movie**"
      ]
    },
    {
      "cell_type": "code",
      "execution_count": 71,
      "metadata": {
        "id": "SMxFhHoC9sor",
        "colab": {
          "base_uri": "https://localhost:8080/"
        },
        "outputId": "fa3493a1-2eb0-4c06-8c1a-aba1e01c736e"
      },
      "outputs": [
        {
          "output_type": "stream",
          "name": "stdout",
          "text": [
            "[(1, 1.0000000000000002), (599, 0.35760244161931687), (600, 0.3528310190851164), (295, 0.2595604555769559), (419, 0.16752637235261789), (3323, 0.16190678052260393), (91, 0.13797949723029904), (279, 0.13426872356146313), (3840, 0.1284412063721458), (3847, 0.12666832934341749), (575, 0.12635578965173128), (101, 0.12443579719718037), (3515, 0.12148134663800698), (1939, 0.11994335435828732), (603, 0.11903418787025799), (2567, 0.11889038285696303), (3408, 0.11807403846558608), (481, 0.11747788812955795), (1137, 0.1171005652571421), (2574, 0.11611757773153267), (1150, 0.11373936563423942), (37, 0.11312515437976911), (251, 0.11154822117520616), (2854, 0.10852313589498774), (681, 0.1070092440238686), (374, 0.10600307472265064), (654, 0.10531104335966009), (3367, 0.10501708471988308), (2022, 0.10443107905597346), (1123, 0.10333966492780457), (2044, 0.10296695625568755), (1255, 0.10294455189429601), (1113, 0.1023940560600384), (31, 0.10098062894053597), (2484, 0.09963019679432192), (946, 0.09912924884015831), (4455, 0.09826482112957742), (3795, 0.09793575853730574), (2563, 0.0978779707656606), (61, 0.09776338898425153), (3466, 0.09754401330549309), (3747, 0.09717518737675196), (36, 0.0970766798728788), (2155, 0.09639972399387238), (4274, 0.09582487027609116), (1237, 0.09575644687103342), (1178, 0.09362656540194712), (447, 0.09236603125406564), (4103, 0.09224040320662542), (1589, 0.09159539042550112), (3270, 0.08997840071877837), (4089, 0.08946271015048042), (2594, 0.08874775679637818), (260, 0.08805569722840789), (4676, 0.08766384393275435), (377, 0.08755430272164644), (835, 0.08745223445120454), (602, 0.08709582287993003), (4515, 0.08688487946363756), (261, 0.08640003815770174), (834, 0.08623304274238522), (915, 0.08619163963078591), (601, 0.0861243309526413), (152, 0.08589646767159093), (1881, 0.08526766790647347), (35, 0.08513077181390533), (3011, 0.0850500530627217), (3194, 0.0841963119807586), (833, 0.08333425221077816), (2474, 0.08322639940900756), (1443, 0.08321139313062903), (614, 0.08288508273037098), (259, 0.08281028474931953), (1802, 0.08255909505537865), (2957, 0.0824754813093852), (694, 0.08240368109420974), (3849, 0.08191323196608916), (3428, 0.0817657871232345), (407, 0.0813901457793208), (537, 0.08137486899124359), (3965, 0.08082835521895419), (1082, 0.08040170123658738), (4566, 0.08032876299471203), (674, 0.08004285865583421), (887, 0.07997638319560864), (1979, 0.07972369578935022), (1515, 0.0795895407905246), (2981, 0.07927658039859962), (1435, 0.07865099515338222), (956, 0.07842931354113074), (2617, 0.07816689041299991), (918, 0.07783985947033047), (546, 0.07759384289441175), (2682, 0.07744776765504158), (1257, 0.07726166020342336), (1883, 0.0768164887447793), (1906, 0.07655580710516412), (1478, 0.0764321580683254), (778, 0.07603061401549026), (1649, 0.07567189698300206), (1519, 0.07551553022272864), (992, 0.07495166331742427), (3673, 0.07483117555942195), (65, 0.07451240854601072), (4171, 0.07395977629708683), (319, 0.07381651870527224), (11, 0.07307982260797224), (498, 0.07306134340522479), (2898, 0.07273843835364173), (3845, 0.07272264279703948), (744, 0.07235500538813297), (4143, 0.07234149666620308), (3787, 0.07199059548620276), (4667, 0.07117677726182339), (3467, 0.07100337098079756), (1564, 0.07066394387347298), (3968, 0.07035337213115708), (1401, 0.07022697123810805), (3817, 0.06996642721485513), (3366, 0.06994773041115415), (4487, 0.06989617327026809), (303, 0.0698014612179312), (2539, 0.06977785314251846), (2810, 0.06969608355588167), (30, 0.0693984371559798), (80, 0.06938216207344683), (3298, 0.06930815471113491), (1396, 0.06896376124048935), (3468, 0.06885636068698636), (1835, 0.06835361466945779), (78, 0.06823381866705727), (153, 0.0681602611460677), (2850, 0.06786965735248572), (4453, 0.06759365622380885), (1265, 0.06736191729561491), (2091, 0.06724321360605458), (2657, 0.06723954996072122), (1154, 0.06676090816325743), (3937, 0.06657009837020833), (2950, 0.06655406675262639), (249, 0.0662524006045512), (1269, 0.06577913606604388), (3972, 0.06555853737277116), (2497, 0.0654297083732384), (3133, 0.06535057107203854), (2615, 0.06503704553539506), (3073, 0.06483221190395085), (2605, 0.06479385447437994), (4641, 0.06458112807188393), (2291, 0.06429599147999636), (550, 0.06428012819529196), (3003, 0.06411222739367539), (1574, 0.06363313119569666), (67, 0.06319684103158493), (1411, 0.0630380128770339), (75, 0.06289648419909091), (4614, 0.06268599778338962), (4128, 0.06215133068996548), (208, 0.062148383623215744), (69, 0.06186086373828625), (570, 0.06162089653086181), (150, 0.06129895826269795), (115, 0.06128006078197197), (2180, 0.061087175606554994), (1986, 0.06080216080958027), (3456, 0.060747793419046306), (1875, 0.06070813147615703), (4168, 0.06060206057893601), (3775, 0.06047023410287257), (2479, 0.060336589065675295), (397, 0.060026631722620516), (3897, 0.059902418242215136), (1242, 0.05983669866538645), (1373, 0.05981345015853987), (3361, 0.05965591657695388), (1309, 0.05953411409386311), (472, 0.05952879147778862), (1566, 0.059256933116379376), (2472, 0.05924730862821705), (1134, 0.058394731339027076), (680, 0.05822464331389571), (2355, 0.05814071095004791), (2062, 0.05805201320552513), (1548, 0.05782401774083157), (3843, 0.05743426963256224), (2240, 0.05736776641364271), (1334, 0.057230186574591724), (2083, 0.057152041433924224), (822, 0.05711917829905514), (79, 0.056857719418094435), (3885, 0.056658474905406445), (2421, 0.05665482624546588), (3850, 0.05659109525803021), (3096, 0.05645226929902246), (855, 0.056407960061579374), (1011, 0.05629879163821935), (2922, 0.05625491457528193), (555, 0.05619735886241996), (76, 0.056014939047924386), (853, 0.055940390413727045), (3180, 0.055924446345911344), (906, 0.055417782615353184), (421, 0.055215858150845544), (1024, 0.055028326852141866), (1727, 0.05490425033615947), (3166, 0.05465859094843111), (1584, 0.05450317344000381), (2552, 0.05420553705740132), (1279, 0.0541889250481771), (1662, 0.05414952158493083), (545, 0.053967200403556626), (803, 0.05392198065686934), (405, 0.053899257433244294), (1083, 0.05384174960098121), (3702, 0.05365350508626247), (2058, 0.053613228516369196), (4045, 0.05335558115634227), (2316, 0.053231555587525896), (1632, 0.053087618692227584), (4529, 0.05298601562037403), (2768, 0.05289078022481135), (102, 0.052872622082634116), (3709, 0.052694967128760775), (2122, 0.05227118536233452), (237, 0.052244463455173355), (2512, 0.05216806083045647), (2086, 0.05213108048765428), (381, 0.052071767191335785), (2061, 0.05202047816247595), (4740, 0.051832140943236196), (491, 0.05179816451013219), (371, 0.05167748203646245), (4255, 0.05140994655844402), (1195, 0.05139906498719525), (469, 0.05137925831070269), (2581, 0.051339026905195206), (255, 0.05133667460744029), (1058, 0.051306025654508335), (3332, 0.05122291602751339), (1955, 0.050946813135749766), (1590, 0.0507928502834567), (2171, 0.05077472801339643), (1141, 0.0507654087493559), (2237, 0.05057379934416849), (3452, 0.050439141865704334), (4682, 0.0503959622435122), (4238, 0.05039413298040983), (4076, 0.050390835229047484), (3744, 0.05037774481558951), (2188, 0.05022943391462759), (3530, 0.04996817689835551), (1572, 0.049777699126936956), (1521, 0.0496956588659797), (977, 0.04966778779963898), (1844, 0.049632623401249513), (3537, 0.049541451384683834), (2322, 0.049529328639895495), (1872, 0.049518682075019395), (482, 0.049509618035947646), (1029, 0.049300872249551146), (2038, 0.04926392619113691), (1743, 0.04917214781205437), (2813, 0.04912305467758592), (2199, 0.04910687485169298), (3678, 0.04904804702483898), (70, 0.04902411914851816), (1641, 0.04896264279426413), (189, 0.04889921733247216), (4181, 0.04877256008244149), (2326, 0.048755726132269736), (2233, 0.048568660436749324), (3001, 0.048483316344069716), (2042, 0.04848150169391488), (4091, 0.04846432155366486), (3134, 0.04828545161271368), (1537, 0.04823121038366149), (1381, 0.04822122334369611), (512, 0.04819338415843111), (4339, 0.04815338475512045), (1301, 0.04810422579240581), (649, 0.04809696020695632), (486, 0.048018779407566936), (3132, 0.04792510029349512), (1091, 0.04779900638949551), (1567, 0.04776310402158181), (502, 0.04776207558272423), (1297, 0.04772128490812701), (591, 0.04771736412984259), (1383, 0.047716160210043504), (3094, 0.047674045581902566), (1046, 0.04753316342672365), (1393, 0.047500327752912484), (553, 0.04748697925095696), (3414, 0.047466447377268024), (1022, 0.04744710586326152), (3532, 0.047406325847873916), (4736, 0.04734752928878728), (1043, 0.0472760360007663), (151, 0.04727541121852024), (883, 0.047224514473866296), (257, 0.047177552229096816), (3888, 0.047168872149195004), (988, 0.04710017041708548), (3022, 0.047091602443126636), (4549, 0.047025775432149086), (3040, 0.04699521276581581), (160, 0.04691758462970626), (3879, 0.04686094898971555), (3174, 0.046856820703611635), (4068, 0.04683268522564845), (2666, 0.04678879068688903), (2067, 0.046739694159069985), (3469, 0.04671020555166666), (4299, 0.04667512215185321), (666, 0.04664798280327211), (2691, 0.04662636380306938), (3949, 0.04658135662255536), (2843, 0.04657228399426305), (3851, 0.0465205453454763), (3790, 0.046459216478887996), (90, 0.046402270796948836), (2299, 0.04638609865391448), (1554, 0.04635182123105681), (1118, 0.04629738580648322), (1108, 0.04605764984492048), (4581, 0.046041808979271785), (1948, 0.04603300805879139), (3889, 0.04602923208036246), (2540, 0.045998464229350666), (2158, 0.0459608818098685), (4307, 0.04594539457596377), (756, 0.04590481769864776), (1904, 0.0458907913350537), (3635, 0.04588400951982628), (6, 0.04588014273201323), (2669, 0.04586185769212865), (3907, 0.04585993068680962), (1634, 0.04582257412604831), (872, 0.04575590754599958), (3284, 0.04571898789538246), (2435, 0.045661320218022994), (3996, 0.04561330675853305), (2415, 0.04561134511566783), (604, 0.04556152973222013), (416, 0.04552830290503397), (4493, 0.04540568570718038), (2733, 0.04538131014360618), (3672, 0.045294403725901315), (1094, 0.04525834975705243), (1467, 0.04524189205581769), (763, 0.045205206948685905), (3463, 0.045168779451026944), (4457, 0.044968611195988384), (1159, 0.04494096096157959), (3336, 0.044917671970395374), (4077, 0.04490702436853487), (59, 0.04486525015272726), (2955, 0.04485748213790342), (3131, 0.04478831776912036), (1095, 0.044760950437692834), (745, 0.04470492490117059), (2490, 0.04470026557295232), (333, 0.04466733119126322), (467, 0.044665671478555456), (1697, 0.04465797853300909), (4041, 0.04451933669645752), (4083, 0.04451669574603562), (2136, 0.044436263230550284), (1705, 0.044402709726492365), (3550, 0.04435006263167187), (3802, 0.04434987918523614), (3559, 0.04432730128934854), (3498, 0.04429170634665902), (891, 0.044238764110261994), (1071, 0.04417621388510947), (1262, 0.04414893438357367), (1925, 0.04389775258458381), (3977, 0.04387584827314343), (2260, 0.04385360160716651), (4737, 0.043708538106077464), (316, 0.04366762809052612), (2277, 0.043606571091863666), (2049, 0.04360078525877039), (2785, 0.04358493399779702), (3690, 0.04349509825809698), (3743, 0.043458611196294294), (1315, 0.04344829954618571), (961, 0.04343892457140023), (2713, 0.043376505672234), (1901, 0.04336639031080691), (3749, 0.04329683533252034), (1982, 0.04328862969004758), (2668, 0.043262698612427715), (1538, 0.04322631613119704), (2230, 0.04322623228138247), (2944, 0.0432032297379151), (1382, 0.0432004804043222), (896, 0.04318313809558827), (1825, 0.04316632586803504), (2021, 0.04315070996906047), (1111, 0.04311472900535255), (3798, 0.04310964710049278), (4070, 0.04308377525337326), (3509, 0.0430696976945031), (2927, 0.04306631319421877), (902, 0.04299850881003307), (2258, 0.04298565770343134), (95, 0.0429818282599766), (950, 0.04292293808429688), (2413, 0.042894132710850644), (15, 0.042884476089669825), (1793, 0.04288146768231697), (1378, 0.04287781021089844), (1240, 0.04285107432298115), (3982, 0.042819561844904305), (1168, 0.042818195331242724), (4468, 0.04280763035036523), (4531, 0.04279928580221441), (1645, 0.042778448561677694), (1280, 0.04270561532806075), (1726, 0.0426600776835358), (912, 0.0426151312884763), (997, 0.04260701512868069), (19, 0.04260382634883794), (264, 0.04256231937581048), (4114, 0.042537601455663106), (3357, 0.04253289018331915), (572, 0.0425250697577041), (2161, 0.042519141303862876), (1377, 0.04249074485123017), (2330, 0.042488927413835885), (2665, 0.04246525665515949), (565, 0.042451058959907285), (1060, 0.042447289859226855), (258, 0.042377967794139076), (567, 0.04223326752096514), (3185, 0.04218432304789642), (4557, 0.04217905732071117), (1190, 0.04212804313862384), (1358, 0.0420995975489567), (4032, 0.042061473098808096), (2527, 0.04203188357771357), (484, 0.042000742086070124), (613, 0.0419671720623366), (4033, 0.041943011245389995), (119, 0.04191074431093948), (3483, 0.04188254839358841), (55, 0.041879203248951856), (3619, 0.04187475845017608), (1354, 0.04184262619825967), (3763, 0.041695159634001853), (2799, 0.041652169981758046), (390, 0.04153954069454125), (3100, 0.04151106017456373), (1151, 0.04148464759056279), (1587, 0.04147012455919389), (2501, 0.04145973727047951), (776, 0.04141015066110408), (3960, 0.04138273988212242), (1791, 0.04135718574696751), (39, 0.04132376276717169), (368, 0.04129728662453686), (3303, 0.04116662916099636), (284, 0.04113924149464256), (3923, 0.041056846808394484), (3063, 0.04104606594129939), (1038, 0.04097090250587858), (191, 0.040896845828204666), (362, 0.040877862674761026), (54, 0.04076199323659956), (4677, 0.040742391719955515), (1466, 0.04067199114300342), (12, 0.04066453959080953), (263, 0.04066203889336367), (2763, 0.04060934838666193), (1592, 0.04057734984986905), (1120, 0.04053806228150025), (1374, 0.040525167884340144), (1245, 0.04050327051229052), (2622, 0.04044627787696234), (3127, 0.040397049229129844), (2016, 0.040378174836737446), (2385, 0.040259205141737496), (508, 0.04021492269538522), (620, 0.040183073658887784), (171, 0.040168298076779574), (2114, 0.040166714055674395), (4535, 0.040150075466796), (2541, 0.0401311474669119), (376, 0.040112214588401605), (1028, 0.04008550116838434), (46, 0.04008140756265699), (128, 0.04003337305796861), (1500, 0.03997960391543076), (686, 0.039948200066552926), (1412, 0.03994754650193158), (1579, 0.0399128825717866), (1728, 0.039846382499024356), (4054, 0.03984440533895175), (1936, 0.0398148263373794), (3869, 0.039775987240500195), (241, 0.03971444763203989), (56, 0.03963042808592858), (93, 0.03962869814580812), (4434, 0.03962346457245689), (468, 0.03959630541629932), (2221, 0.03957119099669536), (938, 0.03956993823243408), (3046, 0.039466032565170485), (2769, 0.03945802274005591), (4494, 0.03934713843067915), (1786, 0.039325485319118905), (2821, 0.03928231727347601), (2857, 0.039164671037350864), (2715, 0.039163574931802184), (94, 0.039128518726165316), (2860, 0.039039818470827124), (3773, 0.03901560770639621), (1212, 0.0389987223941286), (1810, 0.03899077771726989), (1263, 0.03894619999254871), (3360, 0.038933246380115326), (4683, 0.03889921307884018), (3427, 0.038896277913637714), (981, 0.03883314954293056), (1360, 0.038829518983015746), (4174, 0.03868451864595833), (1069, 0.03866990394157387), (1577, 0.03866442037914867), (3705, 0.03864806607441304), (3114, 0.03861202208005393), (4401, 0.03857085511659443), (3594, 0.038564650940468945), (109, 0.038557521273797114), (27, 0.038534779753535836), (1014, 0.03842224922684924), (3834, 0.03838487065246865), (4153, 0.03834790196612596), (4552, 0.03833419649907414), (2804, 0.03833043077707569), (939, 0.03832664889997348), (1307, 0.038176067126196145), (3454, 0.038164152017279546), (1723, 0.038151406360835374), (3783, 0.03814994284809827), (1167, 0.03809449806874751), (731, 0.03808295842813797), (285, 0.0379618840389824), (762, 0.03791658945736421), (2570, 0.03789914403112665), (3156, 0.03786847970797218), (339, 0.037865459155846395), (33, 0.03783482641265297), (3539, 0.03780499054244435), (2794, 0.037765022458612546), (1640, 0.037763117804243025), (2334, 0.03775915753973125), (751, 0.037750340374151106), (793, 0.037660693326306546), (3115, 0.03763727220743891), (3193, 0.0375484552078489), (2465, 0.03751866539979428), (463, 0.03747769772818929), (3191, 0.03746497123068585), (1846, 0.03744810736940533), (1322, 0.0374108920796049), (2141, 0.03740690878090151), (4276, 0.03734601475710406), (314, 0.03733899038031288), (3201, 0.03732378842171464), (2427, 0.03732294946823682), (2770, 0.037303259469948176), (2521, 0.03727039258305947), (1310, 0.037251812708495945), (2125, 0.03724723206446007), (1961, 0.037230126045082315), (4031, 0.03722000176247648), (497, 0.037143742385935576), (2006, 0.03711542168701051), (1974, 0.03706254582777878), (379, 0.037053581555659715), (2150, 0.03702292880010484), (1455, 0.0370143979135887), (2312, 0.03700143840735266), (3231, 0.03698265230708715), (4006, 0.036918783964718475), (1782, 0.03680820050906523), (2720, 0.03680463510463951), (3412, 0.036783960024681206), (2218, 0.03677453214066578), (1636, 0.03676661231536164), (382, 0.03672536549648306), (1651, 0.03671564067689993), (895, 0.03671303341702668), (4404, 0.036683140131310646), (1173, 0.03665550571163395), (4015, 0.036654860859455345), (3856, 0.036596904762461906), (2642, 0.0365917757047668), (850, 0.036581402247444446), (2442, 0.03655848757130902), (2283, 0.03655530256445787), (1468, 0.03655390153135392), (1295, 0.036501793432811874), (4285, 0.03649803616857239), (1174, 0.03638829537733064), (1696, 0.03636955087303194), (1976, 0.03623393119701209), (1852, 0.036163994781863294), (3405, 0.036161974495385246), (3014, 0.0361572415357939), (4576, 0.03615375810996984), (3182, 0.0361478384208878), (1333, 0.03614272971856365), (1830, 0.036118047881279994), (1013, 0.036107344522385496), (2718, 0.03607308021414425), (3045, 0.0360606013340149), (1908, 0.03599970711947283), (4100, 0.035994288250935626), (3822, 0.03599073856290046), (4055, 0.035930503639115256), (4046, 0.035901483682315105), (3693, 0.03589778185646354), (2844, 0.03585910522217886), (2729, 0.035851695187058955), (1741, 0.0358273064531305), (2749, 0.03576163325003289), (236, 0.03575855424832322), (234, 0.035710834769363854), (2118, 0.035709847959278354), (2597, 0.03566125249940938), (849, 0.035639807176757445), (1903, 0.03561866588877465), (1646, 0.03556421390196305), (1911, 0.03545151533964449), (3212, 0.03542943857037371), (220, 0.03538909902277464), (3940, 0.03519523089343649), (1056, 0.035122917924025714), (4466, 0.03511523396097963), (863, 0.03511005201815895), (231, 0.0349865339912957), (913, 0.03497534715882141), (2880, 0.03495064536821307), (3453, 0.034909271491940494), (1230, 0.034895129249944715), (1341, 0.034888963295366573), (1308, 0.03484843735262191), (3160, 0.034772903434107966), (4467, 0.034764451047638215), (656, 0.03472082314081805), (3823, 0.03468127258746305), (4312, 0.034623622953762236), (3720, 0.03462039652454526), (1418, 0.03459805921248033), (1533, 0.03459573832263526), (4588, 0.034594589216088795), (3623, 0.034564806408066744), (2826, 0.034558334892195605), (1772, 0.03453274803150905), (4221, 0.034436367572221974), (1745, 0.03443636719964969), (2806, 0.03437057849128565), (3598, 0.0343494431554698), (1410, 0.03427102993803748), (1664, 0.03426084488673693), (135, 0.03424812595140017), (2337, 0.034221846829582854), (3641, 0.03415568370201763), (2019, 0.03411675410891649), (112, 0.03410028740446126), (440, 0.03406401973002342), (1367, 0.034063333499449136), (2830, 0.0340460142091962), (111, 0.03403669058981674), (2451, 0.03398905835769355), (3735, 0.03396941598923843), (4158, 0.03396081198276707), (3181, 0.03395504121061963), (1031, 0.033921731578249924), (1968, 0.03391926464071603), (2945, 0.0338635834616105), (4194, 0.03382542129151419), (1486, 0.033779524122202295), (181, 0.03372545744096733), (3724, 0.03371970582218903), (2989, 0.033704633107965676), (4269, 0.03369278998270375), (3247, 0.033672609261428205), (3692, 0.03366843359362313), (401, 0.033662805196950994), (1536, 0.033614087004567375), (3514, 0.033587178189350385), (4444, 0.03358698936291484), (3443, 0.033585362603720095), (566, 0.03355709970289693), (1067, 0.033509013999975766), (3122, 0.033501008810248506), (1755, 0.033490295518721874), (45, 0.033433402988619576), (4341, 0.03337449989527172), (1413, 0.03335887301440283), (4007, 0.03335243854329453), (1469, 0.033347666323289615), (3105, 0.03333540717928533), (876, 0.03331725544448411), (687, 0.03325069935479827), (1057, 0.03324980910002476), (619, 0.033220653302606824), (4152, 0.03318693148863938), (4626, 0.03317026273967713), (928, 0.033146054714265155), (1074, 0.03308849688056364), (670, 0.03306186066856376), (4490, 0.03304045753888731), (4725, 0.03302991640079199), (1403, 0.03302075096263092), (1259, 0.03299406082095383), (2444, 0.032974719528737394), (4613, 0.032973080371267026), (1535, 0.032916700752647396), (1164, 0.03288632453005052), (1530, 0.032827607873987114), (975, 0.03275363035776666), (3516, 0.03275302267825547), (517, 0.032721412305290874), (3871, 0.03271322453656169), (1502, 0.03270196108770437), (4088, 0.032628444092081786), (3141, 0.03257381344044416), (1653, 0.032510099454471995), (1302, 0.03245724702150806), (451, 0.032446455092247986), (3225, 0.032402251674038395), (3285, 0.03239506757460686), (2232, 0.03234776264339291), (2055, 0.03234459860183479), (84, 0.0323394577988967), (1371, 0.032299403861128305), (3685, 0.03228611771669798), (2088, 0.03218358170276423), (2450, 0.032166163865134864), (2900, 0.032125886453612126), (3275, 0.0321110319763074), (2962, 0.03204963083277347), (1370, 0.03195865091841184), (4567, 0.03181916182981699), (2755, 0.031809010464174586), (2103, 0.03180717012738619), (2363, 0.03178366122293572), (43, 0.03174642243835661), (2432, 0.03171935118400955), (1129, 0.03168010459840464), (3734, 0.03165986817188629), (3908, 0.031635063930742564), (562, 0.03163284512497963), (2182, 0.031601276276115454), (2217, 0.03159119492826652), (4093, 0.03157279444709317), (4477, 0.03153473199829904), (1847, 0.03148461036188521), (2956, 0.031463154525291255), (4364, 0.03146189750273906), (1799, 0.03145872453891702), (3219, 0.031387933930948436), (252, 0.031387622786281544), (3368, 0.031326237877964375), (543, 0.031313119660188876), (945, 0.03127996833184208), (3252, 0.031273575478284694), (963, 0.03124769255772254), (3492, 0.03116040041855214), (1529, 0.03114172977636377), (2012, 0.031117970694145607), (3585, 0.031044077263719536), (2070, 0.0310371999623037), (4482, 0.0310316663096606), (3528, 0.031024540249514697), (909, 0.03100760452184044), (3955, 0.03097855033472116), (269, 0.03097840534238918), (3718, 0.03096726447487385), (3384, 0.03091200441085264), (219, 0.030905895525189245), (903, 0.03089598935587821), (561, 0.03087770728890448), (684, 0.030867332808923977), (4264, 0.03080160856225326), (4346, 0.030788123766532255), (107, 0.030787970833594122), (3051, 0.03077904806428018), (844, 0.030748687615869272), (516, 0.03069578293956892), (492, 0.030694553937905284), (1511, 0.030693303448946753), (2689, 0.03065707553542641), (3807, 0.03064935328552098), (2361, 0.030630015453832753), (2294, 0.030628676563901332), (554, 0.030557383939399697), (2286, 0.03052121801280628), (2205, 0.03050089107792503), (3080, 0.030404203357041113), (1285, 0.03037284394419063), (1616, 0.0303467192802523), (375, 0.030306084795007494), (1657, 0.030299759981827892), (2276, 0.03028342200605777), (73, 0.03019482400686728), (1175, 0.030154219651505526), (2089, 0.030142271177998912), (4277, 0.030122742199359922), (3998, 0.03011551451120723), (3480, 0.030112071245139718), (2183, 0.03006937778455791), (4142, 0.030068554370986912), (1701, 0.030065650814585034), (364, 0.030061870472296824), (2646, 0.0300155352119486), (974, 0.029990524231017855), (2500, 0.029975128485552983), (842, 0.029940744400509988), (3595, 0.02987703327693851), (3059, 0.02986428975251094), (1281, 0.029853327309125415), (4547, 0.02982531098756712), (3671, 0.029776252948267374), (3380, 0.029683536263077664), (2178, 0.02959651965702542), (2364, 0.029595328634297757), (2573, 0.029589402391272016), (3630, 0.02950962822499866), (3605, 0.02946791827366071), (2711, 0.029466016077835794), (4378, 0.0294227434564117), (343, 0.029258395186668836), (2815, 0.029238004029095502), (1836, 0.02922449529280513), (2942, 0.029222738195773076), (3097, 0.02922171825474272), (3513, 0.02920511396549327), (474, 0.029170497823490175), (1076, 0.029164887685526285), (2899, 0.029139255305452895), (4406, 0.029104484549858714), (2837, 0.02903805412927706), (748, 0.02903225206741476), (1017, 0.02900945817053431), (1985, 0.028936514456628475), (1798, 0.02890937655732182), (796, 0.028879302362719), (884, 0.028841330755891587), (4546, 0.028827035384267632), (3797, 0.028819033869602616), (901, 0.028807605924457306), (1066, 0.02874303451036979), (3204, 0.02866647491750112), (380, 0.02865235061430966), (663, 0.028634975600266975), (2177, 0.028624911954652346), (2921, 0.02859525370848469), (3169, 0.028560328511222477), (3158, 0.02849259194292065), (990, 0.028462522210397957), (1314, 0.02844351249755494), (2680, 0.028283764251553493), (2468, 0.028254314174710075), (2470, 0.028180007454932966), (3991, 0.028170124224661433), (2420, 0.028166012984797262), (880, 0.02812068631123494), (3819, 0.02811664090187581), (1326, 0.02811650363123154), (3313, 0.028099475548824634), (845, 0.028079325137919678), (1140, 0.02805305092161401), (239, 0.028003820782769428), (3566, 0.02791204556424587), (721, 0.027904348655669018), (1266, 0.02788913743322937), (2349, 0.027885271212591777), (4714, 0.027831327405468044), (334, 0.027817279913406844), (1896, 0.027790989891659745), (1638, 0.02778213311863119), (327, 0.027774097848918544), (1924, 0.027772251278235065), (72, 0.02774932727458238), (3305, 0.027747812606075006), (3048, 0.027743187784313332), (2599, 0.02770991360946547), (3358, 0.027670748438117516), (4388, 0.027655030924828388), (785, 0.027648954437608227), (2268, 0.027638533757942334), (1768, 0.02760810873775091), (2073, 0.027581952265737935), (3385, 0.027553152355893423), (3020, 0.027531764002386997), (3316, 0.027501899232910066), (1458, 0.02748109195013962), (106, 0.02746905901801759), (821, 0.027447308992807007), (394, 0.027433060647147685), (530, 0.02742959590997681), (1220, 0.027405465545097228), (747, 0.027397862190525465), (2891, 0.027390719798694802), (3233, 0.027387770009252216), (356, 0.02737891722155209), (413, 0.027358835158553328), (531, 0.027354196129217627), (2090, 0.027351519356477387), (96, 0.027321669610680676), (784, 0.027303423981420077), (864, 0.027294343626401665), (2353, 0.027292667830721967), (1934, 0.0272684905813557), (661, 0.027243361038453366), (1292, 0.027222991914878456), (1716, 0.027216460907434965), (1527, 0.02718742336125707), (430, 0.027170049598716793), (2027, 0.02716473620471102), (496, 0.027147290964640452), (2354, 0.027145728948779795), (1172, 0.02712680253720873), (4302, 0.027086309816353682), (2589, 0.02707135198761318), (1233, 0.027059917945241506), (2253, 0.02704281005061822), (28, 0.02701433217296325), (3873, 0.026966964121859713), (3706, 0.026953400007518565), (3688, 0.026953128525247776), (509, 0.026933118494822158), (1488, 0.026925108200067275), (1234, 0.026923232825853488), (2832, 0.026915244074624346), (1086, 0.02691078323805752), (664, 0.026864724099027435), (429, 0.02686394932103505), (3123, 0.026824685494247096), (22, 0.026756285827036787), (460, 0.026719236924949315), (1003, 0.026697025384089437), (203, 0.026695183119358788), (1205, 0.026690547535219974), (2222, 0.026588063275598216), (4660, 0.026570038810521997), (3714, 0.026568266333119275), (1007, 0.026566403372782668), (2304, 0.026508672316744017), (1361, 0.02644659675469776), (802, 0.026436181830487945), (2017, 0.02642242562162896), (1575, 0.026405559046848832), (436, 0.026388253403253792), (1414, 0.02638491939737519), (739, 0.026369118034092823), (678, 0.026354349640920073), (3540, 0.026319794080653734), (298, 0.026306007486127932), (2278, 0.026287003591036924), (2790, 0.026286193290430932), (1682, 0.02624005858377121), (4690, 0.026233613828018122), (3089, 0.02620921827219152), (3695, 0.026209067064656685), (4601, 0.026201642933214718), (1472, 0.026200010381817043), (1131, 0.026199548365603214), (2798, 0.026197517125545494), (4489, 0.026182011515744192), (4207, 0.026172494075348413), (1808, 0.026172265907574023), (2612, 0.0261684460238445), (4102, 0.026161074810157076), (2140, 0.026151733976822734), (1496, 0.02612720378042954), (1966, 0.026101228727587453), (3684, 0.026093258845115836), (3542, 0.026068708546717025), (3616, 0.02605988899870817), (1546, 0.02604811983132468), (3919, 0.026047210867641973), (2756, 0.026037949488603787), (2708, 0.026034387699036154), (1473, 0.026003288942199047), (137, 0.025960974735054026), (4383, 0.02595019821624294), (879, 0.02592911885827377), (1693, 0.025915065163175485), (3966, 0.02591121049957945), (4240, 0.025904048317378393), (378, 0.025882888622297574), (3502, 0.025879927887215617), (1933, 0.02587035420337282), (2982, 0.025816944622664276), (3098, 0.025807175215557063), (1296, 0.02579858035880897), (3581, 0.025788220340005774), (2614, 0.02577501416729085), (389, 0.025772336827084817), (4389, 0.025728081870280552), (3523, 0.025704775223384345), (355, 0.0256650436142592), (1101, 0.02565376710636034), (439, 0.02563487763902166), (1188, 0.025634708538725154), (4730, 0.025631897523810204), (1025, 0.02562612644918326), (3381, 0.02561496595458837), (669, 0.025579639346073293), (4087, 0.025577259033558605), (1462, 0.025502282654834438), (1146, 0.02549909234453018), (1320, 0.02548592107497873), (2487, 0.025397231058441085), (1843, 0.02539355708848807), (87, 0.025383474284138296), (110, 0.02537812252874816), (1930, 0.025317257520482903), (74, 0.02531183952618192), (2961, 0.02529717659571904), (2537, 0.025261988266321804), (4506, 0.0252349377457043), (606, 0.025208814337704194), (104, 0.02520603352511304), (3145, 0.025190909789221387), (3337, 0.025188577693131504), (1869, 0.025184611142771464), (2439, 0.025125924004438444), (1737, 0.02511721669882498), (2269, 0.025093555940110215), (282, 0.025074374332623498), (916, 0.025059622382172315), (2828, 0.025030829782551084), (750, 0.0250174005413834), (1311, 0.025011364409170886), (2251, 0.025000231275152333), (130, 0.024993147214521453), (1250, 0.024988472174741826), (3961, 0.024988120379127947), (2725, 0.02496979355200655), (3074, 0.02495550098206429), (4391, 0.024952415357198738), (769, 0.024931261994959392), (347, 0.02492985744796422), (1631, 0.024905242878330968), (3994, 0.02489507217906089), (3576, 0.024886435904773394), (418, 0.024879087268270726), (4334, 0.0248633026991591), (3223, 0.024801055621360195), (2496, 0.024771873300437907), (4166, 0.024770612015627812), (798, 0.02476973569683657), (3215, 0.02475422260839595), (1477, 0.024739369105620232), (3005, 0.024720071040758965), (1433, 0.02469676793000121), (3900, 0.02461685048595377), (2105, 0.02460841559195485), (2952, 0.024573866027182763), (4165, 0.02454597321826), (3665, 0.02454278111085747), (2380, 0.024517043614316218), (3375, 0.02448071524141177), (1366, 0.024463151754398785), (892, 0.024460496143237493), (1505, 0.024458277424252866), (2954, 0.024421456774120536), (3583, 0.024419027088733652), (4344, 0.02440755666253206), (3083, 0.024403846934347016), (1097, 0.024400052920462566), (812, 0.024372093062872368), (2695, 0.02436261067213739), (4266, 0.02429428215945227), (4154, 0.02426373486820485), (3374, 0.024247424362830887), (1991, 0.024232320260040713), (3079, 0.024196461706351056), (85, 0.024196099736244238), (2123, 0.024169049157120245), (4606, 0.024168148466588997), (357, 0.024163740214487528), (2026, 0.024148652903715883), (4139, 0.024089222362713443), (4622, 0.024075983691014154), (573, 0.024070807831731007), (4647, 0.02406743104643834), (4710, 0.02406411377150835), (2495, 0.02405739904976893), (952, 0.024048937774424572), (1864, 0.024012740886265954), (3931, 0.02399868359353186), (478, 0.02393556952490282), (2824, 0.023931845675455136), (427, 0.02390880097164106), (1055, 0.02389051146522813), (1750, 0.023866962691641836), (4672, 0.023857042357468584), (1937, 0.023845794089266008), (2728, 0.023818431894611646), (2143, 0.023809383720494993), (1613, 0.023799961487349516), (1969, 0.023782305595286705), (2578, 0.02376910094015787), (4275, 0.023755205402598213), (2280, 0.02375397565246451), (3477, 0.023742279480014925), (718, 0.023725276544115496), (2995, 0.023701743930994834), (622, 0.02370032805552248), (2498, 0.02369997636718313), (2492, 0.02366223640074169), (3121, 0.023653368022288557), (307, 0.023649511715930813), (4472, 0.02363021132514668), (1756, 0.023621607935355313), (3321, 0.023609289624344738), (2357, 0.023606444121170543), (1637, 0.023601525182825413), (2078, 0.02356859191670213), (4063, 0.02356403500343538), (4624, 0.023560545875928807), (2462, 0.023554742015007506), (2461, 0.02354505552853636), (2072, 0.02352777657605964), (2549, 0.02351143537467293), (345, 0.023493919375756588), (1890, 0.023488210105209108), (2571, 0.02344977886552713), (1323, 0.023414483621118146), (847, 0.0234121963887965), (1112, 0.023403561633182336), (2057, 0.023394928523492852), (2970, 0.02337324568731667), (3319, 0.023368577323538847), (1647, 0.023361904926912383), (143, 0.023361592907551864), (702, 0.02333783967743048), (1910, 0.023282253409712735), (2416, 0.023273848872703323), (2856, 0.023271155079087655), (4605, 0.02325288855553839), (4373, 0.023250418272241544), (1555, 0.023239693248649915), (1345, 0.02323849051117799), (283, 0.023207678097020568), (1783, 0.023195213471446083), (4122, 0.02319109043204129), (1243, 0.02317616452748233), (367, 0.02317510174641793), (4670, 0.02314854721210438), (1256, 0.023142027516988472), (2644, 0.023136885780115066), (4261, 0.02312834799448351), (3382, 0.023124852833271342), (2582, 0.023108327901291612), (3359, 0.023108311000655718), (2448, 0.02309940921931885), (2248, 0.023055605911738514), (2636, 0.023054248081083372), (2782, 0.02303884188054866), (4350, 0.023022622576808337), (2197, 0.022997154018332903), (1940, 0.022973012332813913), (794, 0.02297065356335182), (3886, 0.022910941211934002), (1829, 0.022895832660922703), (1114, 0.022895105786872972), (3150, 0.022878321792996103), (813, 0.022866400338146717), (3648, 0.022854802501903936), (2288, 0.02285286915438798), (2849, 0.022839837718816022), (97, 0.02281906965645563), (511, 0.022805597071108855), (3021, 0.022800105390814167), (3087, 0.02277893694552807), (3634, 0.02275941551234892), (4405, 0.022688157904215384), (3423, 0.022685522466627365), (3149, 0.022675047896008025), (146, 0.022652952182038655), (2387, 0.02264728923825914), (1788, 0.02263219157322423), (4250, 0.02258030795153318), (1599, 0.022576732227862363), (3484, 0.022537497305881952), (4365, 0.022521077079737585), (2466, 0.022467459005802992), (3363, 0.022405231661633256), (781, 0.02238514205576715), (3104, 0.02233152100607152), (3662, 0.022290820931248404), (1534, 0.022271237641322692), (4292, 0.022268615147945668), (1249, 0.022205986142473894), (2637, 0.022196054426907134), (117, 0.022192519826042298), (2250, 0.022175029125121516), (3353, 0.022158728640749196), (1072, 0.022101931868794267), (1171, 0.022099206063320873), (4241, 0.0220559547260059), (1498, 0.022024420226040148), (1596, 0.021979373337353718), (3728, 0.021941395845929038), (1608, 0.021937084545801743), (174, 0.02193058788162543), (3419, 0.021914328400828534), (4014, 0.021876504831144738), (4648, 0.021871175696960652), (2827, 0.02186210849422705), (3047, 0.02185191274700138), (3517, 0.021831213605313766), (2008, 0.02182215545368566), (4720, 0.021819808418511995), (936, 0.02177351301408943), (3732, 0.021747301212803022), (187, 0.021728961487841494), (3276, 0.02172480537171078), (2724, 0.02171137665177658), (1984, 0.021698425720788492), (1419, 0.021693909065518963), (3769, 0.021677469530612548), (494, 0.021676511867922684), (3742, 0.021671590504903783), (1445, 0.021667427598103153), (1276, 0.021660843177492246), (4674, 0.02165950170283001), (4410, 0.02163868415117806), (2998, 0.021573627622409962), (450, 0.02157131813359412), (4747, 0.021541505229288438), (3389, 0.021507737000422078), (4074, 0.02150382546723561), (4305, 0.02149297894596738), (2043, 0.021492522170430243), (4263, 0.021479455387593174), (2418, 0.021474932557894736), (3068, 0.02145784788334125), (200, 0.021372610997221615), (4545, 0.021371921140509408), (625, 0.021361762368970263), (2135, 0.02135392808232201), (3504, 0.02134690931728147), (733, 0.021337041037132083), (3890, 0.021336592360908704), (3510, 0.021322389772704172), (2391, 0.02128498915564606), (2681, 0.02127511013856255), (1876, 0.021262836553964166), (218, 0.02121200583650556), (2937, 0.02118105680584331), (2075, 0.02113593805277903), (2265, 0.021135671275777805), (3852, 0.021126910566182797), (3951, 0.02112220599718963), (126, 0.021110709687649273), (3625, 0.021093016669869145), (3294, 0.021091313768039653), (4638, 0.021080662011118717), (932, 0.021021137208255103), (2107, 0.020978348361317553), (1253, 0.020966087529872435), (1524, 0.02096129019262426), (0, 0.02078194865215112), (1317, 0.0207705642118601), (2859, 0.020763007358004865), (2133, 0.020728430607369733), (438, 0.020719780748695116), (1166, 0.020713135341635137), (1717, 0.020710595753433526), (3957, 0.020707714488010724), (2618, 0.02063627964093187), (64, 0.020635198826749253), (3782, 0.020614166832887217), (1503, 0.020613845313374558), (3973, 0.02060652082489778), (2736, 0.02059612040393182), (2816, 0.020583403671243203), (2018, 0.020557587292451204), (2491, 0.020548233926913725), (695, 0.020510302196988277), (820, 0.02050034672123149), (1270, 0.020472322109758974), (2399, 0.020450238734356876), (5, 0.020442629663982314), (3778, 0.02043620088270127), (2220, 0.020418418968074125), (1677, 0.02040533798622956), (662, 0.02039892615408559), (4338, 0.020379747260489047), (643, 0.020354422457680942), (1943, 0.0203441871405071), (3295, 0.020338971116812914), (1542, 0.020313463994799462), (2888, 0.02031321322883787), (122, 0.02028219901962153), (3578, 0.020280166879755344), (4743, 0.02026814789403171), (1981, 0.02026384992720846), (2761, 0.020254367812758786), (1600, 0.020221423715148325), (3371, 0.020218473624761594), (2593, 0.02021596697119101), (2890, 0.020215282431479215), (41, 0.020211228783899193), (2895, 0.02007974223725121), (2456, 0.02003565729135696), (1569, 0.020020212319162206), (877, 0.019991784249704922), (358, 0.019989198003245726), (4395, 0.019981971089416992), (3794, 0.019959681205026683), (3034, 0.019945633675303203), (98, 0.019919512288284934), (2382, 0.019899241957124263), (2866, 0.019875595579860475), (4697, 0.01985527702171733), (477, 0.019851343048925482), (88, 0.01984337782286365), (2836, 0.019787659095016934), (2587, 0.019783753022545068), (2876, 0.019781903213497078), (2511, 0.0197275327163958), (1543, 0.019678295448781833), (3311, 0.019673570582357688), (1160, 0.0196625223420512), (1185, 0.019630281471404776), (924, 0.019625691021248438), (1547, 0.019611035697781224), (3238, 0.01957888039523544), (2164, 0.019572929927837657), (432, 0.019570960801376866), (2095, 0.019546962364070476), (4325, 0.019527060463981553), (3067, 0.019526241861668157), (4534, 0.019522314033350377), (3331, 0.019518225376989162), (2422, 0.019510847672309376), (2789, 0.019469662598940715), (1626, 0.019458152080337594), (3459, 0.019440702223210253), (2935, 0.019413698764162497), (4130, 0.019389472889212646), (3979, 0.01937355580682082), (714, 0.019349113546446813), (4059, 0.019294687523884455), (2402, 0.019238153897454993), (2559, 0.019224394929402283), (3560, 0.019219162660056247), (105, 0.0191997145113072), (659, 0.019189379945628283), (2555, 0.019181136999810375), (2530, 0.019149858132427887), (1408, 0.019144912646776972), (1894, 0.019118912187540294), (2833, 0.019111975510801852), (417, 0.0190933678611319), (804, 0.019092520012406758), (532, 0.018994599991691466), (2544, 0.01899283900890346), (2066, 0.01894521443774646), (1465, 0.018871453650171996), (3786, 0.018851604053778205), (615, 0.018835223658477084), (108, 0.018813563329470394), (4196, 0.018808244813502236), (3163, 0.01878598668694582), (2740, 0.018780114058402367), (425, 0.0187781124879386), (383, 0.018752077903338906), (3091, 0.018743594583900236), (1492, 0.018712814789995712), (1321, 0.018676227159853898), (1713, 0.01862902170649345), (232, 0.018583558516587644), (3628, 0.018583293641904475), (2750, 0.018580071554857306), (1258, 0.018574589136014383), (2502, 0.018568488354314374), (583, 0.01856760922400956), (786, 0.018564712823774494), (17, 0.018551822411150033), (2015, 0.01854817690117099), (2093, 0.01854727253767265), (424, 0.018534809262455862), (1346, 0.018534673757684687), (3520, 0.01848929874758516), (3697, 0.018458355122897428), (1324, 0.01845460049002102), (2356, 0.018451697149382752), (1841, 0.01844985572905278), (2522, 0.01842426869074795), (434, 0.018414264711986983), (1206, 0.01840387078781602), (1603, 0.018394031117581994), (247, 0.01838556657414154), (1570, 0.018360301360723433), (225, 0.01833588814651131), (3421, 0.018315092583811938), (3586, 0.01830747179026946), (77, 0.018293059821352695), (1244, 0.018268872604247262), (528, 0.018249172051184696), (1470, 0.018235698770886086), (1460, 0.01818296037264129), (1225, 0.01817897538081089), (668, 0.018135350273993), (1099, 0.018084719017566978), (1895, 0.018081863330357283), (707, 0.018043650462554378), (715, 0.018043169359342925), (1236, 0.01803882853529893), (1436, 0.01802646840272261), (453, 0.018018067318830683), (4294, 0.018012801415191723), (635, 0.01798961610633804), (4703, 0.017952038490778914), (4456, 0.017937378595491563), (1945, 0.017913768933256823), (3637, 0.017913476585900055), (201, 0.01790125675788319), (369, 0.017898904557015996), (3448, 0.01788400767851202), (3538, 0.017881390770692254), (1398, 0.01786401128904484), (3870, 0.01783839808350715), (966, 0.017825004968885522), (2641, 0.0178225262200176), (539, 0.017810941149909023), (1624, 0.017809176746083212), (2045, 0.017791606509419206), (2616, 0.017771746990808895), (826, 0.017744791093457973), (1045, 0.017744401470368185), (4609, 0.017735372368560424), (448, 0.017729216191825214), (1293, 0.01772416305713824), (4550, 0.017664077739236086), (320, 0.017662196605287433), (2389, 0.017647415818250776), (1380, 0.01762198244903789), (4607, 0.01761849955597017), (3486, 0.01760250170456669), (631, 0.01755580295934083), (4289, 0.01755315350120612), (592, 0.01755310201689934), (3846, 0.01751048249053955), (2153, 0.017503919143526094), (1273, 0.017487379719958424), (4199, 0.017455764686783178), (3206, 0.017449205137065403), (1328, 0.017445132587097328), (3135, 0.01743759442114966), (1700, 0.017433421779852833), (3356, 0.01740212070236315), (2647, 0.017379700726055346), (3172, 0.01734393893978264), (1611, 0.017338312978381728), (2940, 0.01733413780979283), (4451, 0.017284340946740008), (2751, 0.017280337958312516), (1368, 0.01723309002526642), (1369, 0.01722930313198205), (3124, 0.017207170859335277), (3202, 0.01720166370333288), (716, 0.01720084016094611), (1552, 0.01715095318460291), (2672, 0.017131596617103225), (775, 0.017129450173165355), (1931, 0.017098463799044297), (4188, 0.017089800529974792), (1440, 0.01708750596684845), (2198, 0.017080036191542042), (1179, 0.017070401459862508), (2227, 0.01706605429023799), (2381, 0.01705621724727874), (4491, 0.017048876919652033), (3700, 0.01704465850557001), (965, 0.017031535760013188), (919, 0.017015033736779935), (3891, 0.016986021267551853), (1385, 0.016983607558832253), (3582, 0.01697091230635343), (1522, 0.016962937947169247), (7, 0.016918736368286072), (4742, 0.016871172195408773), (1135, 0.016847839048126183), (4210, 0.016827845172923402), (1812, 0.01682158333686779), (2603, 0.016821372455328276), (2707, 0.0167956737952167), (2298, 0.016795348950806328), (3597, 0.016795185573930085), (2124, 0.016792116849032444), (2960, 0.01678901356986584), (4117, 0.016781673384821585), (141, 0.016775696989496335), (3980, 0.016764725378808222), (118, 0.01674972351539829), (4564, 0.01674221497490395), (2847, 0.016726607411041573), (292, 0.016713127391060997), (4589, 0.016701146020201594), (610, 0.016690153399350528), (1386, 0.016665042115062683), (2710, 0.016640832095975538), (305, 0.016640260293419678), (9, 0.016602891404490186), (2287, 0.016601370317122895), (2428, 0.016546572195375708), (1650, 0.016537826163335535), (4056, 0.016511159976757856), (2868, 0.016506089451816218), (3302, 0.01648482193584948), (322, 0.016483055145984856), (4224, 0.01646640074940728), (4509, 0.016457625969849007), (1001, 0.016448487832140292), (4112, 0.01644455715516029), (2208, 0.016423716252873043), (315, 0.016422768672158965), (271, 0.01642255741784221), (2014, 0.016419588179782965), (3404, 0.016397114651435427), (1012, 0.016393755299046627), (1063, 0.016380083284188482), (4200, 0.01637324065317737), (4439, 0.016371622741810917), (1350, 0.016364521106757568), (1580, 0.016340880316025524), (321, 0.01630620801421124), (1797, 0.01629400303195872), (3668, 0.01627737076828296), (4283, 0.016265796378558475), (1437, 0.01626061093340556), (3568, 0.01625680649179783), (875, 0.016226109351383824), (1507, 0.016201005084359083), (3099, 0.016191139797747993), (1254, 0.016184770489236642), (792, 0.01618394921936462), (1207, 0.016183918452741208), (4236, 0.016162490987698383), (954, 0.016123581791829163), (717, 0.016018885330230416), (2584, 0.016012957714721825), (2139, 0.01600812603672928), (3659, 0.01597368096907018), (4211, 0.015880395073854216), (2554, 0.015854127584347833), (2908, 0.015818215134503866), (3320, 0.01580832431828738), (3062, 0.01580565583224121), (2730, 0.01578121992039893), (1604, 0.01577866425512206), (366, 0.01576619762400717), (2809, 0.015764484336241974), (3555, 0.0157610181324598), (4419, 0.015748555276097375), (3917, 0.015744741809073308), (2117, 0.015726495827748273), (4242, 0.015698655895527512), (2517, 0.01568975611393287), (1283, 0.015665083503389347), (323, 0.0156543992390615), (2104, 0.015635225658962082), (178, 0.015628708865582572), (2443, 0.015606981964565489), (1679, 0.015584575685150032), (568, 0.015568771636460062), (4272, 0.015559688383121238), (3365, 0.015484647846284876), (2065, 0.015482881365830953), (310, 0.015482609091379886), (266, 0.015466503610221885), (3574, 0.015456797620498305), (2127, 0.015450774040856433), (1155, 0.01544703155774935), (2640, 0.015441757942869387), (342, 0.01540950599162425), (4270, 0.015403482018259224), (2000, 0.015403186521867299), (2996, 0.015386956933511912), (1459, 0.015376117548330657), (627, 0.01536478224504046), (4650, 0.01530657076407208), (3924, 0.015297512153618197), (1886, 0.015283473607326029), (2430, 0.015281414675290105), (1561, 0.015249410936666688), (931, 0.01520919490687833), (1718, 0.015195309061995578), (1804, 0.01518475048985952), (3136, 0.015182718683182689), (2852, 0.015166575010662865), (1777, 0.015154270194825514), (3607, 0.015128168081956423), (639, 0.015119594648358735), (856, 0.015118373920469622), (4193, 0.015102698707921563), (2174, 0.015101469898072995), (2803, 0.01506730909722228), (2037, 0.015062785311876385), (1859, 0.015047237253888917), (4754, 0.015035200260133566), (1809, 0.015027479278615731), (911, 0.01501912075800073), (426, 0.01489653828478405), (4551, 0.014888297518932008), (1789, 0.014872931317957182), (306, 0.01486786527267776), (337, 0.014863816072885656), (3963, 0.014863716557795097), (3195, 0.014858177293726502), (3117, 0.014841309010532124), (3529, 0.01483837436871309), (790, 0.014821488795802303), (2686, 0.014763365526470111), (2912, 0.014756059349746692), (2347, 0.014753989171968792), (2774, 0.014732491149702041), (540, 0.014694233804356017), (172, 0.014691625600663831), (548, 0.01467621776857454), (2327, 0.014654162775981578), (2525, 0.014644459561599118), (4268, 0.01464120121841918), (839, 0.014619809171557963), (3746, 0.01461644437510197), (2506, 0.01460226975292082), (2234, 0.014602088882255901), (519, 0.014587627612471872), (4688, 0.014568263296514346), (3000, 0.014551745835782772), (3256, 0.014498786202275196), (4094, 0.014494379041237104), (2053, 0.014493975260789486), (1431, 0.014458213281622452), (2368, 0.01445469369813019), (1898, 0.0144511736273207), (1967, 0.01444304723561315), (725, 0.014440931130306513), (3894, 0.014418033646964633), (3651, 0.014411349787144671), (167, 0.01438990595978978), (2822, 0.014380367319551755), (3657, 0.014365284845679675), (3754, 0.01435967790201802), (1026, 0.014327562019115548), (289, 0.014323906516703344), (4623, 0.014312421268273555), (3232, 0.014307383958704942), (2817, 0.014289626608067398), (1352, 0.014287693422002128), (2036, 0.014281884211146387), (2010, 0.01426924619935565), (501, 0.014254191197703046), (2201, 0.014232472724352992), (1387, 0.01422582542854927), (1757, 0.014218237189439004), (705, 0.014213279726841001), (542, 0.014179101412383342), (569, 0.01416976064675141), (1494, 0.014164876581551078), (4380, 0.01416267106247194), (373, 0.014124661723222482), (2560, 0.014112791005891181), (1920, 0.014112681244617575), (1978, 0.014112311493937425), (3162, 0.014090346692314267), (1133, 0.014079875347137328), (1987, 0.014053543235158252), (32, 0.01404361460841953), (698, 0.014033961071558862), (311, 0.014019217178742847), (165, 0.01401186047123263), (3447, 0.013988793675887295), (1675, 0.013987179655463089), (3183, 0.013974476009477998), (2698, 0.013964895103269445), (465, 0.013952115823207293), (3129, 0.013947544468338114), (692, 0.013939693197322614), (2632, 0.013818213897385707), (2013, 0.013785958614421293), (3065, 0.013755766547142563), (338, 0.01374378481547494), (1559, 0.013723320801053153), (524, 0.013701175216081598), (1248, 0.0136825368977322), (3205, 0.013650702842333917), (549, 0.013634159944373713), (1996, 0.013625354954642734), (4658, 0.013592642934631145), (2, 0.013561949875207516), (3487, 0.013555285543152818), (2409, 0.013537848298318316), (962, 0.01353280715395128), (1764, 0.013532771943515428), (1392, 0.01349271476927954), (1291, 0.013490867482992254), (3503, 0.013488611912849214), (240, 0.013487701650643972), (2687, 0.013469349224406206), (640, 0.01346633438261597), (1404, 0.013441160606899654), (2263, 0.013424482607715586), (4169, 0.013415444492995504), (324, 0.013410953733341757), (1379, 0.01338257617808044), (2185, 0.013364670950541283), (2204, 0.013363085228682231), (1216, 0.013355676351309315), (4374, 0.01335369940570762), (1008, 0.01333152776930004), (2601, 0.013309280157073614), (3829, 0.013286411764931194), (132, 0.013285970309764833), (3370, 0.013273183597142524), (2712, 0.013267945657976706), (330, 0.013213674660715685), (4587, 0.013211092854859038), (3120, 0.01320153819146976), (396, 0.01320094004973308), (2007, 0.013191754710755723), (3589, 0.013185163487963265), (212, 0.013177680649332188), (1778, 0.013169830767618901), (2663, 0.013157860194469887), (2426, 0.013152092323194187), (3244, 0.013147379747011653), (3600, 0.013140434580385493), (3399, 0.013099522086624545), (3558, 0.013073519318570048), (3970, 0.013054647040777656), (1709, 0.013042250499586903), (4756, 0.013030268902110896), (288, 0.013001400172871217), (290, 0.012998154258250367), (2034, 0.01298894555216775), (1805, 0.012982181444822811), (1267, 0.01295856153243517), (1539, 0.012957982829998098), (3175, 0.012952461370163626), (2262, 0.012947737626979518), (1816, 0.012942126376974613), (1762, 0.012928565601554344), (1115, 0.012916873574779133), (538, 0.012903401741399001), (3010, 0.012856394749425534), (2829, 0.012850626848299615), (3393, 0.012848160917344259), (2235, 0.012840972477210827), (2296, 0.012834296724339923), (3329, 0.012828318159101718), (403, 0.01278493961404992), (1213, 0.012752760285433764), (732, 0.012719661882513122), (672, 0.012710807899927314), (3279, 0.012680634898856824), (121, 0.012669399377421658), (63, 0.012597576175279634), (352, 0.012593573427826429), (3400, 0.012509303368181204), (2433, 0.012499715938584486), (452, 0.012456425727688816), (3111, 0.012439593296855893), (1763, 0.012433707855337662), (4109, 0.012410286376657673), (2365, 0.012395589446891585), (629, 0.01237890042736024), (957, 0.012375784652604088), (294, 0.012356867471589393), (2111, 0.012355801087039686), (2311, 0.012344712215989295), (2807, 0.012320872615048882), (1865, 0.012316964032679614), (461, 0.012314821929801954), (605, 0.012309409676617696), (2759, 0.01230845761507432), (4739, 0.012303518467119547), (2035, 0.012302736536265808), (4343, 0.012241024484216816), (2845, 0.012198524418529715), (4548, 0.012185873503805332), (113, 0.012182399586550057), (2580, 0.0121188823766843), (1051, 0.011961985165791143), (1365, 0.011923124482734901), (2074, 0.011912001854701298), (86, 0.0119004167228481), (2317, 0.011739819771175447), (691, 0.011728104704099592), (1277, 0.011661531794478033), (914, 0.011622025633725159), (2520, 0.011532630200567585), (156, 0.01147119490056488), (4418, 0.011461688710652541), (2191, 0.011453569681696356), (3344, 0.01138669543802256), (677, 0.011371023186527664), (168, 0.011364128164931481), (3420, 0.01123768113752403), (4516, 0.011223355535558824), (1210, 0.011175710677321166), (3752, 0.011167049709567901), (1474, 0.01116628050607377), (1999, 0.011141812746638656), (1725, 0.011139585856032258), (2575, 0.011114459655516232), (3731, 0.011114279049424773), (309, 0.011102782895917266), (1344, 0.011055763531066753), (1495, 0.011052686989106686), (2766, 0.01099451329425352), (609, 0.010935060957267234), (363, 0.010919487130758656), (1586, 0.01091112400984856), (1731, 0.010867155320906628), (297, 0.010824839686765427), (1615, 0.010813061575733477), (2534, 0.010806578724898814), (2609, 0.010785478688822387), (2329, 0.010775495675846566), (3587, 0.010772962652276051), (3983, 0.01075779152765897), (4300, 0.010747713093251827), (1389, 0.010715075213753129), (3579, 0.01064010606893536), (3058, 0.01063986278968723), (340, 0.010610505082236169), (1932, 0.010594774545986643), (2453, 0.01058633420166464), (586, 0.010570899538988031), (2324, 0.010539001287681322), (4478, 0.010489629812174422), (351, 0.010474158861455536), (881, 0.01046248557774178), (3903, 0.010460160117032564), (1165, 0.01045183573990362), (3444, 0.010445881518195288), (3461, 0.010432308240168959), (301, 0.010392346219994204), (155, 0.010392161310325604), (4351, 0.010378154699796725), (3877, 0.010339891830690793), (228, 0.01031997644726588), (3439, 0.01031649263486193), (2551, 0.010300903871928767), (4454, 0.010281031259581807), (1278, 0.010268371539273607), (4428, 0.010264559633495917), (3287, 0.010198170309017204), (4018, 0.010190994318706539), (3629, 0.010172772491585113), (361, 0.010159374276196578), (1085, 0.010154417895123663), (871, 0.010133824821141226), (4526, 0.010120609270379551), (3387, 0.010117102231579043), (182, 0.01008870742759902), (3567, 0.010078768247508859), (365, 0.010077488754941093), (1475, 0.010076236803946549), (1087, 0.010058062297673333), (3328, 0.010024683374700503), (824, 0.010007246791796187), (1351, 0.01000246475778581), (4323, 0.009999346694660268), (3638, 0.009995508357196873), (1607, 0.009965313537943114), (4533, 0.009937374179094457), (852, 0.009929911229441311), (4160, 0.009920774331722336), (2645, 0.00991664145737433), (700, 0.009902803382612757), (2048, 0.009872070681302471), (2249, 0.00986763575094916), (4218, 0.009861568188605386), (4086, 0.009855610050872467), (4034, 0.009851401907219415), (1228, 0.009845483492025025), (3346, 0.009826217945459547), (4195, 0.009825831376217049), (1388, 0.009812528960932827), (4570, 0.009762030866568908), (4099, 0.009757691660850266), (1926, 0.009749616271238024), (3482, 0.009742354106913655), (2887, 0.00973323554092455), (1965, 0.009708240385479946), (2671, 0.009701790851550818), (1706, 0.00969272543962711), (2259, 0.009689418750342417), (1272, 0.009678345849089182), (1758, 0.009669708714423682), (4705, 0.00965048940249695), (724, 0.00964305712861318), (3208, 0.009615090553015614), (1194, 0.009611126615719391), (299, 0.009604526683619385), (1738, 0.009589451019061987), (3397, 0.009588819505778102), (4347, 0.009586977899243409), (1889, 0.00958684939845522), (2547, 0.00958517386473877), (300, 0.009577649765640855), (3377, 0.009570074638992504), (1912, 0.009568472909447578), (4663, 0.009567113789972855), (1514, 0.009557665418082366), (1079, 0.009542605804434393), (40, 0.009506406201670268), (920, 0.009501274732622822), (2532, 0.00949225661260448), (1198, 0.009440263924747354), (2050, 0.009420552897714754), (4492, 0.009407694589210232), (1126, 0.009399098519421431), (2414, 0.00939539618196128), (4036, 0.009391079444119701), (2130, 0.009386977131564273), (1598, 0.009386165322758306), (1238, 0.009369275928591438), (409, 0.009365643631083734), (1686, 0.009342829854779867), (2285, 0.009329326163660724), (594, 0.009296761509672305), (4118, 0.009294899054843314), (3286, 0.009284381996207633), (3703, 0.009263346260479248), (935, 0.009262678229374988), (720, 0.009236687142455983), (2659, 0.009231327868598196), (1833, 0.009163837754597174), (2100, 0.009154456307409242), (1941, 0.009119156547380344), (1287, 0.009109272336510078), (3805, 0.009079471998854258), (185, 0.009076357987452372), (713, 0.0090489735839609), (4303, 0.009047104561830615), (2473, 0.009045630000971402), (3450, 0.009035873205974218), (179, 0.009024388959374099), (4501, 0.008994053520539376), (595, 0.008987450474957043), (2332, 0.008985618934674368), (53, 0.008970822131186272), (1708, 0.008946027072172293), (1490, 0.008929300575220536), (202, 0.00889041509475412), (4569, 0.008888694854883692), (2576, 0.008869197544174612), (699, 0.008863157011429436), (2660, 0.008858238418668684), (2590, 0.008853600291988213), (3441, 0.008849315379227922), (726, 0.008841982138361933), (947, 0.008831763661708915), (3865, 0.0088176034551534), (3554, 0.008806633863302897), (996, 0.008761583980642624), (3593, 0.008706885831386228), (3826, 0.00870607665992094), (4288, 0.00870298674254145), (1855, 0.008699396625250239), (2811, 0.00869385182434743), (4523, 0.008675495017751281), (4202, 0.008675343398509998), (921, 0.008671223013268448), (650, 0.008651617463905727), (1601, 0.008649342084334639), (3785, 0.008648507212114525), (3440, 0.008646702884943012), (1327, 0.008643957543162549), (3327, 0.008634869483272082), (1050, 0.008619734013843056), (608, 0.008613756207090715), (1231, 0.008604514691156494), (4745, 0.008599049225145676), (2990, 0.008565585687275709), (533, 0.00856438024208429), (1853, 0.00856305275081373), (1591, 0.008534810765271142), (3272, 0.008531625295310761), (428, 0.008519442023796205), (3342, 0.00851694315822014), (3426, 0.00851488873541038), (1288, 0.00850543509128433), (139, 0.008483115379131292), (4597, 0.008471014657776726), (2667, 0.008458890339094258), (4709, 0.008430355930520411), (4653, 0.008426683492620268), (4016, 0.008424129214668393), (3602, 0.008417990688840329), (3451, 0.008411202119241065), (4430, 0.008407618943073139), (4666, 0.008405901232193301), (2275, 0.008405245811663508), (2504, 0.008403301604586313), (3416, 0.008401300922588333), (4121, 0.008399938210390865), (4643, 0.00839745837276875), (1732, 0.008386236725405992), (3373, 0.008383799261619989), (2378, 0.008378082858799065), (3726, 0.008376414443350801), (2172, 0.008373508750364522), (4185, 0.008372892139658692), (2626, 0.008369735390862481), (123, 0.008366010667491694), (125, 0.008352805511187713), (38, 0.00834131388799922), (1016, 0.008339612334449235), (4009, 0.00833241511294731), (1659, 0.008330675857529805), (2920, 0.00832134997866779), (2077, 0.008317244929282796), (4244, 0.008280863063065712), (3395, 0.008280225480916673), (1822, 0.008266129336271726), (683, 0.008259023411172725), (948, 0.008247781445755763), (951, 0.008246710050662815), (2181, 0.008238366568245966), (688, 0.008235863796552981), (350, 0.008230111867802573), (386, 0.008227393815610447), (457, 0.008217443849320662), (2352, 0.00821731732085401), (180, 0.008212846792348674), (1397, 0.008202710940314604), (1513, 0.008185787169798028), (753, 0.008184886665507823), (2714, 0.0081751083202245), (4462, 0.008165198436422407), (2688, 0.008156719246503899), (1850, 0.00814659907371646), (3310, 0.008143702899663067), (1815, 0.008131995458594023), (68, 0.008128339149220487), (2795, 0.008124874497263668), (3803, 0.008114828856938539), (1540, 0.008100242763632201), (3263, 0.00809760894038322), (1516, 0.008070730617803109), (286, 0.008067288368950801), (1687, 0.008055359252086508), (10, 0.00805284789938582), (4376, 0.00805226421101536), (1090, 0.008043977473262952), (3710, 0.008026898471824086), (244, 0.008026369885854808), (2569, 0.008022327277463407), (48, 0.008014780500284651), (3715, 0.008011702198236619), (2881, 0.008003890215576544), (882, 0.008001093382549564), (1162, 0.00800083779626945), (3546, 0.007998207990579221), (2864, 0.007989929102229211), (809, 0.007980423795203988), (1973, 0.007979205229687304), (729, 0.007974510945713964), (2600, 0.007971894505797628), (3064, 0.007953001561042627), (242, 0.0079521573511303), (455, 0.00794328073108851), (2741, 0.007941040319025289), (1219, 0.00792298973922839), (4440, 0.00790417326348655), (1989, 0.007901889471728655), (1332, 0.007875600070120302), (2676, 0.007852855331747835), (4005, 0.007843640188987267), (1226, 0.007842651947964), (1454, 0.007825502925273313), (1734, 0.007824206918266269), (4716, 0.0078221474810564), (4646, 0.007815136123202995), (4392, 0.007808208719104983), (4249, 0.007796980479372305), (3472, 0.00777582608435565), (3642, 0.007775281025758664), (2082, 0.007760388536548641), (1432, 0.007756425730855887), (2040, 0.007751180347138375), (3680, 0.007736203143543913), (3112, 0.007735722301373136), (3464, 0.007734388095482137), (2979, 0.007724792583590887), (2243, 0.007720128223557233), (4723, 0.007719832612011158), (3741, 0.007712810072806015), (162, 0.007711174494305832), (4642, 0.0077024235294569764), (2499, 0.007702078274667898), (3591, 0.007694357292571675), (277, 0.007688578275326544), (3507, 0.007679484850166384), (514, 0.007676909249780102), (1770, 0.0076671871995234574), (4038, 0.007665979101734631), (2459, 0.00766578044990959), (2184, 0.007662314463387112), (2493, 0.007657168866637595), (353, 0.0076445071247425046), (4630, 0.007619878097214983), (3771, 0.007619421858453433), (904, 0.007612052860958578), (728, 0.007609158141990562), (1678, 0.0076075802659503755), (3192, 0.007604519829335555), (2085, 0.007588781465857121), (2903, 0.007588614155235744), (1560, 0.0075855241472898025), (1044, 0.007579393889645903), (210, 0.007575178322228625), (673, 0.007570975536217667), (4586, 0.007565924651523933), (1015, 0.0075649583237942155), (2028, 0.007562531316179231), (4727, 0.007559951126380273), (3947, 0.007558575866547065), (4384, 0.00755600586347626), (3604, 0.0075496153259242416), (994, 0.007544593188001835), (4233, 0.007540239286121418), (328, 0.007536477637619776), (4631, 0.007535623292658758), (1681, 0.00752955699650504), (3522, 0.007527576215654055), (3588, 0.007520389760734707), (1122, 0.007515491156526482), (2780, 0.007506804688734162), (2778, 0.007505593937111136), (3259, 0.007504032685111782), (4698, 0.0074910803752272544), (4119, 0.007483068935807134), (1796, 0.00747735453123175), (2963, 0.007476410187646855), (1221, 0.007474363745774975), (4443, 0.007471388650223764), (1484, 0.007471202819774885), (1736, 0.0074648092482014145), (2819, 0.00745519303722708), (513, 0.007453986697777326), (4486, 0.0074517096201274745), (1512, 0.007450953233039964), (58, 0.007444539044958767), (470, 0.007441765145151554), (3445, 0.007438531910092317), (4345, 0.007431361944764233), (3432, 0.00742376655142621), (4390, 0.007423750464405161), (4116, 0.00741380130484126), (1751, 0.0074081995763354384), (4741, 0.007402279820706309), (4608, 0.007394791314271225), (848, 0.007373646423811514), (2625, 0.007372353800525506), (3953, 0.007371446059360687), (57, 0.007370652605886273), (1406, 0.007366351476917723), (3465, 0.007363483981136772), (2315, 0.007361874353795654), (795, 0.007344062845483108), (4037, 0.007340879016669552), (4435, 0.007334450784790535), (2081, 0.007333675926932855), (749, 0.007326104450735174), (1252, 0.007326067820553997), (2959, 0.007314095190180684), (4726, 0.007307041479325731), (1545, 0.007301572248026778), (3044, 0.0072922925294602), (3603, 0.007288533500508029), (223, 0.007288265135569395), (905, 0.00728695824989632), (1740, 0.007283388423767985), (3002, 0.007265849213813724), (682, 0.0072595097320650465), (534, 0.007255219110105274), (2754, 0.0072459152723102225), (854, 0.0072444384075505), (2772, 0.007236170316214446), (2943, 0.007233579153145098), (3997, 0.007228716942505415), (1229, 0.007226093059711907), (4310, 0.007218500019705009), (3312, 0.007209781377065936), (458, 0.007208799709893355), (1337, 0.007205517351141362), (3738, 0.007185003526663935), (4379, 0.00718361180058438), (4186, 0.007153831160236918), (3210, 0.007153379889471667), (908, 0.007152382350672737), (1949, 0.007152056315946977), (1102, 0.00714169640658413), (1000, 0.007140874759754503), (4684, 0.0071363370032716976), (3531, 0.007132561408964374), (3165, 0.0071295059856117966), (2910, 0.00712165359176831), (3708, 0.007116199168382533), (3660, 0.007113573161154581), (1338, 0.007110895009751941), (4248, 0.0071075200355751695), (3707, 0.007085716949772616), (4098, 0.0070806454831349565), (3221, 0.007080121856081775), (1735, 0.00707862614489934), (560, 0.007071579530933625), (3723, 0.0070707370030790185), (2788, 0.00705972581271597), (4436, 0.007057275415967423), (1023, 0.00705191254651127), (2476, 0.007048453652963088), (4328, 0.007041712360495124), (1665, 0.0070407256447012415), (2867, 0.007038698264354061), (1692, 0.007029200979038356), (2842, 0.007028480100892708), (230, 0.007027448525701837), (3168, 0.007024795924740583), (3438, 0.0070152819208802765), (3525, 0.0070119568938408015), (4591, 0.007010134538214748), (3152, 0.007008651939109396), (4393, 0.007004271740505985), (515, 0.0069997475949349925), (2825, 0.006998784352092749), (727, 0.0069978752866055455), (1581, 0.006969643137468242), (926, 0.006959431186629545), (1510, 0.006952427616760061), (4144, 0.00694233056566184), (2024, 0.00693759416493279), (3862, 0.0069373981007010916), (4519, 0.006934934963271225), (1035, 0.00692947409510867), (4629, 0.006928558155296603), (1483, 0.006920310295068332), (2840, 0.0069162819367575455), (2210, 0.006915723081422451), (2239, 0.0069128779853631), (868, 0.006902780884111142), (4708, 0.006901962019872405), (1274, 0.0069005669058686825), (144, 0.0068959605817421185), (3297, 0.006883780942917296), (1127, 0.006876934863566415), (4673, 0.006876809941345896), (1335, 0.0068739699160646475), (3253, 0.006870593089046541), (3383, 0.006869069163414341), (2052, 0.006865382978990551), (4503, 0.006864890949039527), (3424, 0.006864671219010823), (651, 0.006856908881229528), (2212, 0.0068511458557266505), (1721, 0.006848258305706744), (3085, 0.006848215469442787), (4020, 0.006835248601693979), (4001, 0.006833859874072775), (1781, 0.006831943467390077), (869, 0.00682882859394929), (1138, 0.006827209622270911), (4293, 0.006826285590352445), (4568, 0.006818464198493697), (2206, 0.006815840260234717), (3161, 0.006815431357984331), (3340, 0.006813509744285947), (4619, 0.006805234587689394), (1504, 0.006797667325863322), (2383, 0.006787152571642921), (3698, 0.006783157754806092), (170, 0.006780179557664018), (3609, 0.006771667237566679), (3343, 0.006764919436247331), (3126, 0.006759159331883733), (827, 0.00675514946535585), (411, 0.0067457950840005085), (217, 0.006743236945579867), (1096, 0.006738637404157915), (2787, 0.006737143657635278), (4447, 0.00673636825448471), (233, 0.006724452961209385), (2862, 0.006719305092073403), (4148, 0.006715431876756039), (1544, 0.00671241022089261), (4661, 0.006709447586479867), (3993, 0.006697312970944821), (866, 0.006694912739574333), (1823, 0.006680054756722352), (4543, 0.006672884846761073), (4039, 0.006670227445892032), (986, 0.0066585182997767785), (4656, 0.006647903204895453), (4600, 0.006647884872160019), (4131, 0.006644568439536328), (2742, 0.006641019787495695), (4481, 0.006638056774852695), (2820, 0.006632002709488347), (2670, 0.006629298629719594), (1627, 0.006626607378780441), (2958, 0.006620109609834771), (2791, 0.006614696183826313), (4659, 0.006607656925700921), (4450, 0.0066063186035674685), (641, 0.006606304621454948), (1054, 0.006601421169536494), (1442, 0.006590636441964919), (1680, 0.006584963968487766), (2918, 0.006584212321466999), (4095, 0.00657204326422929), (1818, 0.006564889377521101), (3814, 0.006563277600896306), (3241, 0.006560727792959871), (2166, 0.006560029875938759), (1749, 0.006554961834413576), (3776, 0.006547133038670606), (825, 0.006544842674340792), (4429, 0.0065429917295683065), (2224, 0.006536561635760974), (878, 0.0065355484512256345), (2562, 0.006531103102389603), (1714, 0.0065286974199050465), (2429, 0.006526241337170572), (632, 0.006521316424974855), (4044, 0.006518957914560217), (1010, 0.006514690164539061), (2274, 0.0064918841706618265), (3978, 0.006491747538959781), (2777, 0.006489461345076905), (2033, 0.006485030975317577), (4649, 0.006482172532429631), (851, 0.006476740683153903), (3860, 0.006474481758532937), (1183, 0.006473617085008571), (500, 0.006470196963019498), (336, 0.006464456165768794), (2992, 0.006457840450212691), (1065, 0.006447472591823979), (2241, 0.006444926977563141), (2238, 0.00643029317308489), (1348, 0.006409727919723881), (800, 0.006404114080760333), (4353, 0.00639971101847068), (644, 0.006380368417898478), (4012, 0.006334271109821814), (4553, 0.00632279349952398), (4590, 0.006319919326458901), (653, 0.006313434287947401), (3130, 0.006303612755076327), (1977, 0.0062990914842365195), (3676, 0.0062717493473422765), (2634, 0.006271102364712368), (2885, 0.0062554297378380795), (3143, 0.006246085759733578), (1290, 0.006235073332608531), (2020, 0.006225539478786287), (4432, 0.006213364936553812), (3658, 0.0062044066011361166), (2947, 0.0061975944299255525), (3227, 0.006196625480171107), (2706, 0.006189258483333155), (148, 0.006185759711909458), (3070, 0.006173578201366103), (1870, 0.006172374282544586), (3306, 0.006160270636457679), (2767, 0.00615033412469975), (2094, 0.006127887357857172), (2424, 0.006118505195745966), (1241, 0.0061022861471496615), (723, 0.00610124015343862), (442, 0.006099664458661775), (4573, 0.006090991213580349), (92, 0.006089325257216593), (3958, 0.006080213132828948), (1357, 0.006069403643069514), (1384, 0.006069144148342913), (2674, 0.005993002306726453), (1214, 0.005976346875811353), (2971, 0.005972590555840709), (690, 0.005956432549383029), (2697, 0.005949143028474846), (1092, 0.005927315947188027), (495, 0.0059135645797747), (2025, 0.005898382882069522), (3556, 0.00587657066249248), (1828, 0.0058748868392307085), (1971, 0.005830423500939961), (2513, 0.005827739873183328), (2412, 0.00580169028917718), (44, 0.00570543069824994), (1005, 0.005690899758136283), (779, 0.005689821121837204), (3024, 0.005683895479160693), (435, 0.00566747208284802), (3267, 0.005639120657807034), (3213, 0.005628279543690038), (4733, 0.005619660238827412), (2913, 0.005589302802108133), (621, 0.005574781161372213), (1576, 0.005569977870052463), (3339, 0.00553649932086662), (3946, 0.005529752943682755), (738, 0.005416740950128797), (2969, 0.005409126458909514), (4752, 0.00540198252124886), (3645, 0.005332867443366648), (159, 0.0052688620153375195), (1417, 0.005235968478199131), (2113, 0.005203820667680388), (1471, 0.0051842214037529704), (719, 0.005176313690542293), (296, 0.005167653858007334), (332, 0.005013884452545819), (1153, 0.004902744848978253), (929, 0.004895891179908248), (3429, 0.004537094445759473), (3, 0.0), (4, 0.0), (8, 0.0), (13, 0.0), (14, 0.0), (16, 0.0), (18, 0.0), (20, 0.0), (21, 0.0), (23, 0.0), (24, 0.0), (25, 0.0), (26, 0.0), (29, 0.0), (34, 0.0), (42, 0.0), (47, 0.0), (49, 0.0), (50, 0.0), (51, 0.0), (52, 0.0), (60, 0.0), (62, 0.0), (66, 0.0), (71, 0.0), (81, 0.0), (82, 0.0), (83, 0.0), (89, 0.0), (99, 0.0), (100, 0.0), (103, 0.0), (114, 0.0), (116, 0.0), (120, 0.0), (124, 0.0), (127, 0.0), (129, 0.0), (131, 0.0), (133, 0.0), (134, 0.0), (136, 0.0), (138, 0.0), (140, 0.0), (142, 0.0), (145, 0.0), (147, 0.0), (149, 0.0), (154, 0.0), (157, 0.0), (158, 0.0), (161, 0.0), (163, 0.0), (164, 0.0), (166, 0.0), (169, 0.0), (173, 0.0), (175, 0.0), (176, 0.0), (177, 0.0), (183, 0.0), (184, 0.0), (186, 0.0), (188, 0.0), (190, 0.0), (192, 0.0), (193, 0.0), (194, 0.0), (195, 0.0), (196, 0.0), (197, 0.0), (198, 0.0), (199, 0.0), (204, 0.0), (205, 0.0), (206, 0.0), (207, 0.0), (209, 0.0), (211, 0.0), (213, 0.0), (214, 0.0), (215, 0.0), (216, 0.0), (221, 0.0), (222, 0.0), (224, 0.0), (226, 0.0), (227, 0.0), (229, 0.0), (235, 0.0), (238, 0.0), (243, 0.0), (245, 0.0), (246, 0.0), (248, 0.0), (250, 0.0), (253, 0.0), (254, 0.0), (256, 0.0), (262, 0.0), (265, 0.0), (267, 0.0), (268, 0.0), (270, 0.0), (272, 0.0), (273, 0.0), (274, 0.0), (275, 0.0), (276, 0.0), (278, 0.0), (280, 0.0), (281, 0.0), (287, 0.0), (291, 0.0), (293, 0.0), (302, 0.0), (304, 0.0), (308, 0.0), (312, 0.0), (313, 0.0), (317, 0.0), (318, 0.0), (325, 0.0), (326, 0.0), (329, 0.0), (331, 0.0), (335, 0.0), (341, 0.0), (344, 0.0), (346, 0.0), (348, 0.0), (349, 0.0), (354, 0.0), (359, 0.0), (360, 0.0), (370, 0.0), (372, 0.0), (384, 0.0), (385, 0.0), (387, 0.0), (388, 0.0), (391, 0.0), (392, 0.0), (393, 0.0), (395, 0.0), (398, 0.0), (399, 0.0), (400, 0.0), (402, 0.0), (404, 0.0), (406, 0.0), (408, 0.0), (410, 0.0), (412, 0.0), (414, 0.0), (415, 0.0), (420, 0.0), (422, 0.0), (423, 0.0), (431, 0.0), (433, 0.0), (437, 0.0), (441, 0.0), (443, 0.0), (444, 0.0), (445, 0.0), (446, 0.0), (449, 0.0), (454, 0.0), (456, 0.0), (459, 0.0), (462, 0.0), (464, 0.0), (466, 0.0), (471, 0.0), (473, 0.0), (475, 0.0), (476, 0.0), (479, 0.0), (480, 0.0), (483, 0.0), (485, 0.0), (487, 0.0), (488, 0.0), (489, 0.0), (490, 0.0), (493, 0.0), (499, 0.0), (503, 0.0), (504, 0.0), (505, 0.0), (506, 0.0), (507, 0.0), (510, 0.0), (518, 0.0), (520, 0.0), (521, 0.0), (522, 0.0), (523, 0.0), (525, 0.0), (526, 0.0), (527, 0.0), (529, 0.0), (535, 0.0), (536, 0.0), (541, 0.0), (544, 0.0), (547, 0.0), (551, 0.0), (552, 0.0), (556, 0.0), (557, 0.0), (558, 0.0), (559, 0.0), (563, 0.0), (564, 0.0), (571, 0.0), (574, 0.0), (576, 0.0), (577, 0.0), (578, 0.0), (579, 0.0), (580, 0.0), (581, 0.0), (582, 0.0), (584, 0.0), (585, 0.0), (587, 0.0), (588, 0.0), (589, 0.0), (590, 0.0), (593, 0.0), (596, 0.0), (597, 0.0), (598, 0.0), (607, 0.0), (611, 0.0), (612, 0.0), (616, 0.0), (617, 0.0), (618, 0.0), (623, 0.0), (624, 0.0), (626, 0.0), (628, 0.0), (630, 0.0), (633, 0.0), (634, 0.0), (636, 0.0), (637, 0.0), (638, 0.0), (642, 0.0), (645, 0.0), (646, 0.0), (647, 0.0), (648, 0.0), (652, 0.0), (655, 0.0), (657, 0.0), (658, 0.0), (660, 0.0), (665, 0.0), (667, 0.0), (671, 0.0), (675, 0.0), (676, 0.0), (679, 0.0), (685, 0.0), (689, 0.0), (693, 0.0), (696, 0.0), (697, 0.0), (701, 0.0), (703, 0.0), (704, 0.0), (706, 0.0), (708, 0.0), (709, 0.0), (710, 0.0), (711, 0.0), (712, 0.0), (722, 0.0), (730, 0.0), (734, 0.0), (735, 0.0), (736, 0.0), (737, 0.0), (740, 0.0), (741, 0.0), (742, 0.0), (743, 0.0), (746, 0.0), (752, 0.0), (754, 0.0), (755, 0.0), (757, 0.0), (758, 0.0), (759, 0.0), (760, 0.0), (761, 0.0), (764, 0.0), (765, 0.0), (766, 0.0), (767, 0.0), (768, 0.0), (770, 0.0), (771, 0.0), (772, 0.0), (773, 0.0), (774, 0.0), (777, 0.0), (780, 0.0), (782, 0.0), (783, 0.0), (787, 0.0), (788, 0.0), (789, 0.0), (791, 0.0), (797, 0.0), (799, 0.0), (801, 0.0), (805, 0.0), (806, 0.0), (807, 0.0), (808, 0.0), (810, 0.0), (811, 0.0), (814, 0.0), (815, 0.0), (816, 0.0), (817, 0.0), (818, 0.0), (819, 0.0), (823, 0.0), (828, 0.0), (829, 0.0), (830, 0.0), (831, 0.0), (832, 0.0), (836, 0.0), (837, 0.0), (838, 0.0), (840, 0.0), (841, 0.0), (843, 0.0), (846, 0.0), (857, 0.0), (858, 0.0), (859, 0.0), (860, 0.0), (861, 0.0), (862, 0.0), (865, 0.0), (867, 0.0), (870, 0.0), (873, 0.0), (874, 0.0), (885, 0.0), (886, 0.0), (888, 0.0), (889, 0.0), (890, 0.0), (893, 0.0), (894, 0.0), (897, 0.0), (898, 0.0), (899, 0.0), (900, 0.0), (907, 0.0), (910, 0.0), (917, 0.0), (922, 0.0), (923, 0.0), (925, 0.0), (927, 0.0), (930, 0.0), (933, 0.0), (934, 0.0), (937, 0.0), (940, 0.0), (941, 0.0), (942, 0.0), (943, 0.0), (944, 0.0), (949, 0.0), (953, 0.0), (955, 0.0), (958, 0.0), (959, 0.0), (960, 0.0), (964, 0.0), (967, 0.0), (968, 0.0), (969, 0.0), (970, 0.0), (971, 0.0), (972, 0.0), (973, 0.0), (976, 0.0), (978, 0.0), (979, 0.0), (980, 0.0), (982, 0.0), (983, 0.0), (984, 0.0), (985, 0.0), (987, 0.0), (989, 0.0), (991, 0.0), (993, 0.0), (995, 0.0), (998, 0.0), (999, 0.0), (1002, 0.0), (1004, 0.0), (1006, 0.0), (1009, 0.0), (1018, 0.0), (1019, 0.0), (1020, 0.0), (1021, 0.0), (1027, 0.0), (1030, 0.0), (1032, 0.0), (1033, 0.0), (1034, 0.0), (1036, 0.0), (1037, 0.0), (1039, 0.0), (1040, 0.0), (1041, 0.0), (1042, 0.0), (1047, 0.0), (1048, 0.0), (1049, 0.0), (1052, 0.0), (1053, 0.0), (1059, 0.0), (1061, 0.0), (1062, 0.0), (1064, 0.0), (1068, 0.0), (1070, 0.0), (1073, 0.0), (1075, 0.0), (1077, 0.0), (1078, 0.0), (1080, 0.0), (1081, 0.0), (1084, 0.0), (1088, 0.0), (1089, 0.0), (1093, 0.0), (1098, 0.0), (1100, 0.0), (1103, 0.0), (1104, 0.0), (1105, 0.0), (1106, 0.0), (1107, 0.0), (1109, 0.0), (1110, 0.0), (1116, 0.0), (1117, 0.0), (1119, 0.0), (1121, 0.0), (1124, 0.0), (1125, 0.0), (1128, 0.0), (1130, 0.0), (1132, 0.0), (1136, 0.0), (1139, 0.0), (1142, 0.0), (1143, 0.0), (1144, 0.0), (1145, 0.0), (1147, 0.0), (1148, 0.0), (1149, 0.0), (1152, 0.0), (1156, 0.0), (1157, 0.0), (1158, 0.0), (1161, 0.0), (1163, 0.0), (1169, 0.0), (1170, 0.0), (1176, 0.0), (1177, 0.0), (1180, 0.0), (1181, 0.0), (1182, 0.0), (1184, 0.0), (1186, 0.0), (1187, 0.0), (1189, 0.0), (1191, 0.0), (1192, 0.0), (1193, 0.0), (1196, 0.0), (1197, 0.0), (1199, 0.0), (1200, 0.0), (1201, 0.0), (1202, 0.0), (1203, 0.0), (1204, 0.0), (1208, 0.0), (1209, 0.0), (1211, 0.0), (1215, 0.0), (1217, 0.0), (1218, 0.0), (1222, 0.0), (1223, 0.0), (1224, 0.0), (1227, 0.0), (1232, 0.0), (1235, 0.0), (1239, 0.0), (1246, 0.0), (1247, 0.0), (1251, 0.0), (1260, 0.0), (1261, 0.0), (1264, 0.0), (1268, 0.0), (1271, 0.0), (1275, 0.0), (1282, 0.0), (1284, 0.0), (1286, 0.0), (1289, 0.0), (1294, 0.0), (1298, 0.0), (1299, 0.0), (1300, 0.0), (1303, 0.0), (1304, 0.0), (1305, 0.0), (1306, 0.0), (1312, 0.0), (1313, 0.0), (1316, 0.0), (1318, 0.0), (1319, 0.0), (1325, 0.0), (1329, 0.0), (1330, 0.0), (1331, 0.0), (1336, 0.0), (1339, 0.0), (1340, 0.0), (1342, 0.0), (1343, 0.0), (1347, 0.0), (1349, 0.0), (1353, 0.0), (1355, 0.0), (1356, 0.0), (1359, 0.0), (1362, 0.0), (1363, 0.0), (1364, 0.0), (1372, 0.0), (1375, 0.0), (1376, 0.0), (1390, 0.0), (1391, 0.0), (1394, 0.0), (1395, 0.0), (1399, 0.0), (1400, 0.0), (1402, 0.0), (1405, 0.0), (1407, 0.0), (1409, 0.0), (1415, 0.0), (1416, 0.0), (1420, 0.0), (1421, 0.0), (1422, 0.0), (1423, 0.0), (1424, 0.0), (1425, 0.0), (1426, 0.0), (1427, 0.0), (1428, 0.0), (1429, 0.0), (1430, 0.0), (1434, 0.0), (1438, 0.0), (1439, 0.0), (1441, 0.0), (1444, 0.0), (1446, 0.0), (1447, 0.0), (1448, 0.0), (1449, 0.0), (1450, 0.0), (1451, 0.0), (1452, 0.0), (1453, 0.0), (1456, 0.0), (1457, 0.0), (1461, 0.0), (1463, 0.0), (1464, 0.0), (1476, 0.0), (1479, 0.0), (1480, 0.0), (1481, 0.0), (1482, 0.0), (1485, 0.0), (1487, 0.0), (1489, 0.0), (1491, 0.0), (1493, 0.0), (1497, 0.0), (1499, 0.0), (1501, 0.0), (1506, 0.0), (1508, 0.0), (1509, 0.0), (1517, 0.0), (1518, 0.0), (1520, 0.0), (1523, 0.0), (1525, 0.0), (1526, 0.0), (1528, 0.0), (1531, 0.0), (1532, 0.0), (1541, 0.0), (1549, 0.0), (1550, 0.0), (1551, 0.0), (1553, 0.0), (1556, 0.0), (1557, 0.0), (1558, 0.0), (1562, 0.0), (1563, 0.0), (1565, 0.0), (1568, 0.0), (1571, 0.0), (1573, 0.0), (1578, 0.0), (1582, 0.0), (1583, 0.0), (1585, 0.0), (1588, 0.0), (1593, 0.0), (1594, 0.0), (1595, 0.0), (1597, 0.0), (1602, 0.0), (1605, 0.0), (1606, 0.0), (1609, 0.0), (1610, 0.0), (1612, 0.0), (1614, 0.0), (1617, 0.0), (1618, 0.0), (1619, 0.0), (1620, 0.0), (1621, 0.0), (1622, 0.0), (1623, 0.0), (1625, 0.0), (1628, 0.0), (1629, 0.0), (1630, 0.0), (1633, 0.0), (1635, 0.0), (1639, 0.0), (1642, 0.0), (1643, 0.0), (1644, 0.0), (1648, 0.0), (1652, 0.0), (1654, 0.0), (1655, 0.0), (1656, 0.0), (1658, 0.0), (1660, 0.0), (1661, 0.0), (1663, 0.0), (1666, 0.0), (1667, 0.0), (1668, 0.0), (1669, 0.0), (1670, 0.0), (1671, 0.0), (1672, 0.0), (1673, 0.0), (1674, 0.0), (1676, 0.0), (1683, 0.0), (1684, 0.0), (1685, 0.0), (1688, 0.0), (1689, 0.0), (1690, 0.0), (1691, 0.0), (1694, 0.0), (1695, 0.0), (1698, 0.0), (1699, 0.0), (1702, 0.0), (1703, 0.0), (1704, 0.0), (1707, 0.0), (1710, 0.0), (1711, 0.0), (1712, 0.0), (1715, 0.0), (1719, 0.0), (1720, 0.0), (1722, 0.0), (1724, 0.0), (1729, 0.0), (1730, 0.0), (1733, 0.0), (1739, 0.0), (1742, 0.0), (1744, 0.0), (1746, 0.0), (1747, 0.0), (1748, 0.0), (1752, 0.0), (1753, 0.0), (1754, 0.0), (1759, 0.0), (1760, 0.0), (1761, 0.0), (1765, 0.0), (1766, 0.0), (1767, 0.0), (1769, 0.0), (1771, 0.0), (1773, 0.0), (1774, 0.0), (1775, 0.0), (1776, 0.0), (1779, 0.0), (1780, 0.0), (1784, 0.0), (1785, 0.0), (1787, 0.0), (1790, 0.0), (1792, 0.0), (1794, 0.0), (1795, 0.0), (1800, 0.0), (1801, 0.0), (1803, 0.0), (1806, 0.0), (1807, 0.0), (1811, 0.0), (1813, 0.0), (1814, 0.0), (1817, 0.0), (1819, 0.0), (1820, 0.0), (1821, 0.0), (1824, 0.0), (1826, 0.0), (1827, 0.0), (1831, 0.0), (1832, 0.0), (1834, 0.0), (1837, 0.0), (1838, 0.0), (1839, 0.0), (1840, 0.0), (1842, 0.0), (1845, 0.0), (1848, 0.0), (1849, 0.0), (1851, 0.0), (1854, 0.0), (1856, 0.0), (1857, 0.0), (1858, 0.0), (1860, 0.0), (1861, 0.0), (1862, 0.0), (1863, 0.0), (1866, 0.0), (1867, 0.0), (1868, 0.0), (1871, 0.0), (1873, 0.0), (1874, 0.0), (1877, 0.0), (1878, 0.0), (1879, 0.0), (1880, 0.0), (1882, 0.0), (1884, 0.0), (1885, 0.0), (1887, 0.0), (1888, 0.0), (1891, 0.0), (1892, 0.0), (1893, 0.0), (1897, 0.0), (1899, 0.0), (1900, 0.0), (1902, 0.0), (1905, 0.0), (1907, 0.0), (1909, 0.0), (1913, 0.0), (1914, 0.0), (1915, 0.0), (1916, 0.0), (1917, 0.0), (1918, 0.0), (1919, 0.0), (1921, 0.0), (1922, 0.0), (1923, 0.0), (1927, 0.0), (1928, 0.0), (1929, 0.0), (1935, 0.0), (1938, 0.0), (1942, 0.0), (1944, 0.0), (1946, 0.0), (1947, 0.0), (1950, 0.0), (1951, 0.0), (1952, 0.0), (1953, 0.0), (1954, 0.0), (1956, 0.0), (1957, 0.0), (1958, 0.0), (1959, 0.0), (1960, 0.0), (1962, 0.0), (1963, 0.0), (1964, 0.0), (1970, 0.0), (1972, 0.0), (1975, 0.0), (1980, 0.0), (1983, 0.0), (1988, 0.0), (1990, 0.0), (1992, 0.0), (1993, 0.0), (1994, 0.0), (1995, 0.0), (1997, 0.0), (1998, 0.0), (2001, 0.0), (2002, 0.0), (2003, 0.0), (2004, 0.0), (2005, 0.0), (2009, 0.0), (2011, 0.0), (2023, 0.0), (2029, 0.0), (2030, 0.0), (2031, 0.0), (2032, 0.0), (2039, 0.0), (2041, 0.0), (2046, 0.0), (2047, 0.0), (2051, 0.0), (2054, 0.0), (2056, 0.0), (2059, 0.0), (2060, 0.0), (2063, 0.0), (2064, 0.0), (2068, 0.0), (2069, 0.0), (2071, 0.0), (2076, 0.0), (2079, 0.0), (2080, 0.0), (2084, 0.0), (2087, 0.0), (2092, 0.0), (2096, 0.0), (2097, 0.0), (2098, 0.0), (2099, 0.0), (2101, 0.0), (2102, 0.0), (2106, 0.0), (2108, 0.0), (2109, 0.0), (2110, 0.0), (2112, 0.0), (2115, 0.0), (2116, 0.0), (2119, 0.0), (2120, 0.0), (2121, 0.0), (2126, 0.0), (2128, 0.0), (2129, 0.0), (2131, 0.0), (2132, 0.0), (2134, 0.0), (2137, 0.0), (2138, 0.0), (2142, 0.0), (2144, 0.0), (2145, 0.0), (2146, 0.0), (2147, 0.0), (2148, 0.0), (2149, 0.0), (2151, 0.0), (2152, 0.0), (2154, 0.0), (2156, 0.0), (2157, 0.0), (2159, 0.0), (2160, 0.0), (2162, 0.0), (2163, 0.0), (2165, 0.0), (2167, 0.0), (2168, 0.0), (2169, 0.0), (2170, 0.0), (2173, 0.0), (2175, 0.0), (2176, 0.0), (2179, 0.0), (2186, 0.0), (2187, 0.0), (2189, 0.0), (2190, 0.0), (2192, 0.0), (2193, 0.0), (2194, 0.0), (2195, 0.0), (2196, 0.0), (2200, 0.0), (2202, 0.0), (2203, 0.0), (2207, 0.0), (2209, 0.0), (2211, 0.0), (2213, 0.0), (2214, 0.0), (2215, 0.0), (2216, 0.0), (2219, 0.0), (2223, 0.0), (2225, 0.0), (2226, 0.0), (2228, 0.0), (2229, 0.0), (2231, 0.0), (2236, 0.0), (2242, 0.0), (2244, 0.0), (2245, 0.0), (2246, 0.0), (2247, 0.0), (2252, 0.0), (2254, 0.0), (2255, 0.0), (2256, 0.0), (2257, 0.0), (2261, 0.0), (2264, 0.0), (2266, 0.0), (2267, 0.0), (2270, 0.0), (2271, 0.0), (2272, 0.0), (2273, 0.0), (2279, 0.0), (2281, 0.0), (2282, 0.0), (2284, 0.0), (2289, 0.0), (2290, 0.0), (2292, 0.0), (2293, 0.0), (2295, 0.0), (2297, 0.0), (2300, 0.0), (2301, 0.0), (2302, 0.0), (2303, 0.0), (2305, 0.0), (2306, 0.0), (2307, 0.0), (2308, 0.0), (2309, 0.0), (2310, 0.0), (2313, 0.0), (2314, 0.0), (2318, 0.0), (2319, 0.0), (2320, 0.0), (2321, 0.0), (2323, 0.0), (2325, 0.0), (2328, 0.0), (2331, 0.0), (2333, 0.0), (2335, 0.0), (2336, 0.0), (2338, 0.0), (2339, 0.0), (2340, 0.0), (2341, 0.0), (2342, 0.0), (2343, 0.0), (2344, 0.0), (2345, 0.0), (2346, 0.0), (2348, 0.0), (2350, 0.0), (2351, 0.0), (2358, 0.0), (2359, 0.0), (2360, 0.0), (2362, 0.0), (2366, 0.0), (2367, 0.0), (2369, 0.0), (2370, 0.0), (2371, 0.0), (2372, 0.0), (2373, 0.0), (2374, 0.0), (2375, 0.0), (2376, 0.0), (2377, 0.0), (2379, 0.0), (2384, 0.0), (2386, 0.0), (2388, 0.0), (2390, 0.0), (2392, 0.0), (2393, 0.0), (2394, 0.0), (2395, 0.0), (2396, 0.0), (2397, 0.0), (2398, 0.0), (2400, 0.0), (2401, 0.0), (2403, 0.0), (2404, 0.0), (2405, 0.0), (2406, 0.0), (2407, 0.0), (2408, 0.0), (2410, 0.0), (2411, 0.0), (2417, 0.0), (2419, 0.0), (2423, 0.0), (2425, 0.0), (2431, 0.0), (2434, 0.0), (2436, 0.0), (2437, 0.0), (2438, 0.0), (2440, 0.0), (2441, 0.0), (2445, 0.0), (2446, 0.0), (2447, 0.0), (2449, 0.0), (2452, 0.0), (2454, 0.0), (2455, 0.0), (2457, 0.0), (2458, 0.0), (2460, 0.0), (2463, 0.0), (2464, 0.0), (2467, 0.0), (2469, 0.0), (2471, 0.0), (2475, 0.0), (2477, 0.0), (2478, 0.0), (2480, 0.0), (2481, 0.0), (2482, 0.0), (2483, 0.0), (2485, 0.0), (2486, 0.0), (2488, 0.0), (2489, 0.0), (2494, 0.0), (2503, 0.0), (2505, 0.0), (2507, 0.0), (2508, 0.0), (2509, 0.0), (2510, 0.0), (2514, 0.0), (2515, 0.0), (2516, 0.0), (2518, 0.0), (2519, 0.0), (2523, 0.0), (2524, 0.0), (2526, 0.0), (2528, 0.0), (2529, 0.0), (2531, 0.0), (2533, 0.0), (2535, 0.0), (2536, 0.0), (2538, 0.0), (2542, 0.0), (2543, 0.0), (2545, 0.0), (2546, 0.0), (2548, 0.0), (2550, 0.0), (2553, 0.0), (2556, 0.0), (2557, 0.0), (2558, 0.0), (2561, 0.0), (2564, 0.0), (2565, 0.0), (2566, 0.0), (2568, 0.0), (2572, 0.0), (2577, 0.0), (2579, 0.0), (2583, 0.0), (2585, 0.0), (2586, 0.0), (2588, 0.0), (2591, 0.0), (2592, 0.0), (2595, 0.0), (2596, 0.0), (2598, 0.0), (2602, 0.0), (2604, 0.0), (2606, 0.0), (2607, 0.0), (2608, 0.0), (2610, 0.0), (2611, 0.0), (2613, 0.0), (2619, 0.0), (2620, 0.0), (2621, 0.0), (2623, 0.0), (2624, 0.0), (2627, 0.0), (2628, 0.0), (2629, 0.0), (2630, 0.0), (2631, 0.0), (2633, 0.0), (2635, 0.0), (2638, 0.0), (2639, 0.0), (2643, 0.0), (2648, 0.0), (2649, 0.0), (2650, 0.0), (2651, 0.0), (2652, 0.0), (2653, 0.0), (2654, 0.0), (2655, 0.0), (2656, 0.0), (2658, 0.0), (2661, 0.0), (2662, 0.0), (2664, 0.0), (2673, 0.0), (2675, 0.0), (2677, 0.0), (2678, 0.0), (2679, 0.0), (2683, 0.0), (2684, 0.0), (2685, 0.0), (2690, 0.0), (2692, 0.0), (2693, 0.0), (2694, 0.0), (2696, 0.0), (2699, 0.0), (2700, 0.0), (2701, 0.0), (2702, 0.0), (2703, 0.0), (2704, 0.0), (2705, 0.0), (2709, 0.0), (2716, 0.0), (2717, 0.0), (2719, 0.0), (2721, 0.0), (2722, 0.0), (2723, 0.0), (2726, 0.0), (2727, 0.0), (2731, 0.0), (2732, 0.0), (2734, 0.0), (2735, 0.0), (2737, 0.0), (2738, 0.0), (2739, 0.0), (2743, 0.0), (2744, 0.0), (2745, 0.0), (2746, 0.0), (2747, 0.0), (2748, 0.0), (2752, 0.0), (2753, 0.0), (2757, 0.0), (2758, 0.0), (2760, 0.0), (2762, 0.0), (2764, 0.0), (2765, 0.0), (2771, 0.0), (2773, 0.0), (2775, 0.0), (2776, 0.0), (2779, 0.0), (2781, 0.0), (2783, 0.0), (2784, 0.0), (2786, 0.0), (2792, 0.0), (2793, 0.0), (2796, 0.0), (2797, 0.0), (2800, 0.0), (2801, 0.0), (2802, 0.0), (2805, 0.0), (2808, 0.0), (2812, 0.0), (2814, 0.0), (2818, 0.0), (2823, 0.0), (2831, 0.0), (2834, 0.0), (2835, 0.0), (2838, 0.0), (2839, 0.0), (2841, 0.0), (2846, 0.0), (2848, 0.0), (2851, 0.0), (2853, 0.0), (2855, 0.0), (2858, 0.0), (2861, 0.0), (2863, 0.0), (2865, 0.0), (2869, 0.0), (2870, 0.0), (2871, 0.0), (2872, 0.0), (2873, 0.0), (2874, 0.0), (2875, 0.0), (2877, 0.0), (2878, 0.0), (2879, 0.0), (2882, 0.0), (2883, 0.0), (2884, 0.0), (2886, 0.0), (2889, 0.0), (2892, 0.0), (2893, 0.0), (2894, 0.0), (2896, 0.0), (2897, 0.0), (2901, 0.0), (2902, 0.0), (2904, 0.0), (2905, 0.0), (2906, 0.0), (2907, 0.0), (2909, 0.0), (2911, 0.0), (2914, 0.0), (2915, 0.0), (2916, 0.0), (2917, 0.0), (2919, 0.0), (2923, 0.0), (2924, 0.0), (2925, 0.0), (2926, 0.0), (2928, 0.0), (2929, 0.0), (2930, 0.0), (2931, 0.0), (2932, 0.0), (2933, 0.0), (2934, 0.0), (2936, 0.0), (2938, 0.0), (2939, 0.0), (2941, 0.0), (2946, 0.0), (2948, 0.0), (2949, 0.0), (2951, 0.0), (2953, 0.0), (2964, 0.0), (2965, 0.0), (2966, 0.0), (2967, 0.0), (2968, 0.0), (2972, 0.0), (2973, 0.0), (2974, 0.0), (2975, 0.0), (2976, 0.0), (2977, 0.0), (2978, 0.0), (2980, 0.0), (2983, 0.0), (2984, 0.0), (2985, 0.0), (2986, 0.0), (2987, 0.0), (2988, 0.0), (2991, 0.0), (2993, 0.0), (2994, 0.0), (2997, 0.0), (2999, 0.0), (3004, 0.0), (3006, 0.0), (3007, 0.0), (3008, 0.0), (3009, 0.0), (3012, 0.0), (3013, 0.0), (3015, 0.0), (3016, 0.0), (3017, 0.0), (3018, 0.0), (3019, 0.0), (3023, 0.0), (3025, 0.0), (3026, 0.0), (3027, 0.0), (3028, 0.0), (3029, 0.0), (3030, 0.0), (3031, 0.0), (3032, 0.0), (3033, 0.0), (3035, 0.0), (3036, 0.0), (3037, 0.0), (3038, 0.0), (3039, 0.0), (3041, 0.0), (3042, 0.0), (3043, 0.0), (3049, 0.0), (3050, 0.0), (3052, 0.0), (3053, 0.0), (3054, 0.0), (3055, 0.0), (3056, 0.0), (3057, 0.0), (3060, 0.0), (3061, 0.0), (3066, 0.0), (3069, 0.0), (3071, 0.0), (3072, 0.0), (3075, 0.0), (3076, 0.0), (3077, 0.0), (3078, 0.0), (3081, 0.0), (3082, 0.0), (3084, 0.0), (3086, 0.0), (3088, 0.0), (3090, 0.0), (3092, 0.0), (3093, 0.0), (3095, 0.0), (3101, 0.0), (3102, 0.0), (3103, 0.0), (3106, 0.0), (3107, 0.0), (3108, 0.0), (3109, 0.0), (3110, 0.0), (3113, 0.0), (3116, 0.0), (3118, 0.0), (3119, 0.0), (3125, 0.0), (3128, 0.0), (3137, 0.0), (3138, 0.0), (3139, 0.0), (3140, 0.0), (3142, 0.0), (3144, 0.0), (3146, 0.0), (3147, 0.0), (3148, 0.0), (3151, 0.0), (3153, 0.0), (3154, 0.0), (3155, 0.0), (3157, 0.0), (3159, 0.0), (3164, 0.0), (3167, 0.0), (3170, 0.0), (3171, 0.0), (3173, 0.0), (3176, 0.0), (3177, 0.0), (3178, 0.0), (3179, 0.0), (3184, 0.0), (3186, 0.0), (3187, 0.0), (3188, 0.0), (3189, 0.0), (3190, 0.0), (3196, 0.0), (3197, 0.0), (3198, 0.0), (3199, 0.0), (3200, 0.0), (3203, 0.0), (3207, 0.0), (3209, 0.0), (3211, 0.0), (3214, 0.0), (3216, 0.0), (3217, 0.0), (3218, 0.0), (3220, 0.0), (3222, 0.0), (3224, 0.0), (3226, 0.0), (3228, 0.0), (3229, 0.0), (3230, 0.0), (3234, 0.0), (3235, 0.0), (3236, 0.0), (3237, 0.0), (3239, 0.0), (3240, 0.0), (3242, 0.0), (3243, 0.0), (3245, 0.0), (3246, 0.0), (3248, 0.0), (3249, 0.0), (3250, 0.0), (3251, 0.0), (3254, 0.0), (3255, 0.0), (3257, 0.0), (3258, 0.0), (3260, 0.0), (3261, 0.0), (3262, 0.0), (3264, 0.0), (3265, 0.0), (3266, 0.0), (3268, 0.0), (3269, 0.0), (3271, 0.0), (3273, 0.0), (3274, 0.0), (3277, 0.0), (3278, 0.0), (3280, 0.0), (3281, 0.0), (3282, 0.0), (3283, 0.0), (3288, 0.0), (3289, 0.0), (3290, 0.0), (3291, 0.0), (3292, 0.0), (3293, 0.0), (3296, 0.0), (3299, 0.0), (3300, 0.0), (3301, 0.0), (3304, 0.0), (3307, 0.0), (3308, 0.0), (3309, 0.0), (3314, 0.0), (3315, 0.0), (3317, 0.0), (3318, 0.0), (3322, 0.0), (3324, 0.0), (3325, 0.0), (3326, 0.0), (3330, 0.0), (3333, 0.0), (3334, 0.0), (3335, 0.0), (3338, 0.0), (3341, 0.0), (3345, 0.0), (3347, 0.0), (3348, 0.0), (3349, 0.0), (3350, 0.0), (3351, 0.0), (3352, 0.0), (3354, 0.0), (3355, 0.0), (3362, 0.0), (3364, 0.0), (3369, 0.0), (3372, 0.0), (3376, 0.0), (3378, 0.0), (3379, 0.0), (3386, 0.0), (3388, 0.0), (3390, 0.0), (3391, 0.0), (3392, 0.0), (3394, 0.0), (3396, 0.0), (3398, 0.0), (3401, 0.0), (3402, 0.0), (3403, 0.0), (3406, 0.0), (3407, 0.0), (3409, 0.0), (3410, 0.0), (3411, 0.0), (3413, 0.0), (3415, 0.0), (3417, 0.0), (3418, 0.0), (3422, 0.0), (3425, 0.0), (3430, 0.0), (3431, 0.0), (3433, 0.0), (3434, 0.0), (3435, 0.0), (3436, 0.0), (3437, 0.0), (3442, 0.0), (3446, 0.0), (3449, 0.0), (3455, 0.0), (3457, 0.0), (3458, 0.0), (3460, 0.0), (3462, 0.0), (3470, 0.0), (3471, 0.0), (3473, 0.0), (3474, 0.0), (3475, 0.0), (3476, 0.0), (3478, 0.0), (3479, 0.0), (3481, 0.0), (3485, 0.0), (3488, 0.0), (3489, 0.0), (3490, 0.0), (3491, 0.0), (3493, 0.0), (3494, 0.0), (3495, 0.0), (3496, 0.0), (3497, 0.0), (3499, 0.0), (3500, 0.0), (3501, 0.0), (3505, 0.0), (3506, 0.0), (3508, 0.0), (3511, 0.0), (3512, 0.0), (3518, 0.0), (3519, 0.0), (3521, 0.0), (3524, 0.0), (3526, 0.0), (3527, 0.0), (3533, 0.0), (3534, 0.0), (3535, 0.0), (3536, 0.0), (3541, 0.0), (3543, 0.0), (3544, 0.0), (3545, 0.0), (3547, 0.0), (3548, 0.0), (3549, 0.0), (3551, 0.0), (3552, 0.0), (3553, 0.0), (3557, 0.0), (3561, 0.0), (3562, 0.0), (3563, 0.0), (3564, 0.0), (3565, 0.0), (3569, 0.0), (3570, 0.0), (3571, 0.0), (3572, 0.0), (3573, 0.0), (3575, 0.0), (3577, 0.0), (3580, 0.0), (3584, 0.0), (3590, 0.0), (3592, 0.0), (3596, 0.0), (3599, 0.0), (3601, 0.0), (3606, 0.0), (3608, 0.0), (3610, 0.0), (3611, 0.0), (3612, 0.0), (3613, 0.0), (3614, 0.0), (3615, 0.0), (3617, 0.0), (3618, 0.0), (3620, 0.0), (3621, 0.0), (3622, 0.0), (3624, 0.0), (3626, 0.0), (3627, 0.0), (3631, 0.0), (3632, 0.0), (3633, 0.0), (3636, 0.0), (3639, 0.0), (3640, 0.0), (3643, 0.0), (3644, 0.0), (3646, 0.0), (3647, 0.0), (3649, 0.0), (3650, 0.0), (3652, 0.0), (3653, 0.0), (3654, 0.0), (3655, 0.0), (3656, 0.0), (3661, 0.0), (3663, 0.0), (3664, 0.0), (3666, 0.0), (3667, 0.0), (3669, 0.0), (3670, 0.0), (3674, 0.0), (3675, 0.0), (3677, 0.0), (3679, 0.0), (3681, 0.0), (3682, 0.0), (3683, 0.0), (3686, 0.0), (3687, 0.0), (3689, 0.0), (3691, 0.0), (3694, 0.0), (3696, 0.0), (3699, 0.0), (3701, 0.0), (3704, 0.0), (3711, 0.0), (3712, 0.0), (3713, 0.0), (3716, 0.0), (3717, 0.0), (3719, 0.0), (3721, 0.0), (3722, 0.0), (3725, 0.0), (3727, 0.0), (3729, 0.0), (3730, 0.0), (3733, 0.0), (3736, 0.0), (3737, 0.0), (3739, 0.0), (3740, 0.0), (3745, 0.0), (3748, 0.0), (3750, 0.0), (3751, 0.0), (3753, 0.0), (3755, 0.0), (3756, 0.0), (3757, 0.0), (3758, 0.0), (3759, 0.0), (3760, 0.0), (3761, 0.0), (3762, 0.0), (3764, 0.0), (3765, 0.0), (3766, 0.0), (3767, 0.0), (3768, 0.0), (3770, 0.0), (3772, 0.0), (3774, 0.0), (3777, 0.0), (3779, 0.0), (3780, 0.0), (3781, 0.0), (3784, 0.0), (3788, 0.0), (3789, 0.0), (3791, 0.0), (3792, 0.0), (3793, 0.0), (3796, 0.0), (3799, 0.0), (3800, 0.0), (3801, 0.0), (3804, 0.0), (3806, 0.0), (3808, 0.0), (3809, 0.0), (3810, 0.0), (3811, 0.0), (3812, 0.0), (3813, 0.0), (3815, 0.0), (3816, 0.0), (3818, 0.0), (3820, 0.0), (3821, 0.0), (3824, 0.0), (3825, 0.0), (3827, 0.0), (3828, 0.0), (3830, 0.0), (3831, 0.0), (3832, 0.0), (3833, 0.0), (3835, 0.0), (3836, 0.0), (3837, 0.0), (3838, 0.0), (3839, 0.0), (3841, 0.0), (3842, 0.0), (3844, 0.0), (3848, 0.0), (3853, 0.0), (3854, 0.0), (3855, 0.0), (3857, 0.0), (3858, 0.0), (3859, 0.0), (3861, 0.0), (3863, 0.0), (3864, 0.0), (3866, 0.0), (3867, 0.0), (3868, 0.0), (3872, 0.0), (3874, 0.0), (3875, 0.0), (3876, 0.0), (3878, 0.0), (3880, 0.0), (3881, 0.0), (3882, 0.0), (3883, 0.0), (3884, 0.0), (3887, 0.0), (3892, 0.0), (3893, 0.0), (3895, 0.0), (3896, 0.0), (3898, 0.0), (3899, 0.0), (3901, 0.0), (3902, 0.0), (3904, 0.0), (3905, 0.0), (3906, 0.0), (3909, 0.0), (3910, 0.0), (3911, 0.0), (3912, 0.0), (3913, 0.0), (3914, 0.0), (3915, 0.0), (3916, 0.0), (3918, 0.0), (3920, 0.0), (3921, 0.0), (3922, 0.0), (3925, 0.0), (3926, 0.0), (3927, 0.0), (3928, 0.0), (3929, 0.0), (3930, 0.0), (3932, 0.0), (3933, 0.0), (3934, 0.0), (3935, 0.0), (3936, 0.0), (3938, 0.0), (3939, 0.0), (3941, 0.0), (3942, 0.0), (3943, 0.0), (3944, 0.0), (3945, 0.0), (3948, 0.0), (3950, 0.0), (3952, 0.0), (3954, 0.0), (3956, 0.0), (3959, 0.0), (3962, 0.0), (3964, 0.0), (3967, 0.0), (3969, 0.0), (3971, 0.0), (3974, 0.0), (3975, 0.0), (3976, 0.0), (3981, 0.0), (3984, 0.0), (3985, 0.0), (3986, 0.0), (3987, 0.0), (3988, 0.0), (3989, 0.0), (3990, 0.0), (3992, 0.0), (3995, 0.0), (3999, 0.0), (4000, 0.0), (4002, 0.0), (4003, 0.0), (4004, 0.0), (4008, 0.0), (4010, 0.0), (4011, 0.0), (4013, 0.0), (4017, 0.0), (4019, 0.0), (4021, 0.0), (4022, 0.0), (4023, 0.0), (4024, 0.0), (4025, 0.0), (4026, 0.0), (4027, 0.0), (4028, 0.0), (4029, 0.0), (4030, 0.0), (4035, 0.0), (4040, 0.0), (4042, 0.0), (4043, 0.0), (4047, 0.0), (4048, 0.0), (4049, 0.0), (4050, 0.0), (4051, 0.0), (4052, 0.0), (4053, 0.0), (4057, 0.0), (4058, 0.0), (4060, 0.0), (4061, 0.0), (4062, 0.0), (4064, 0.0), (4065, 0.0), (4066, 0.0), (4067, 0.0), (4069, 0.0), (4071, 0.0), (4072, 0.0), (4073, 0.0), (4075, 0.0), (4078, 0.0), (4079, 0.0), (4080, 0.0), (4081, 0.0), (4082, 0.0), (4084, 0.0), (4085, 0.0), (4090, 0.0), (4092, 0.0), (4096, 0.0), (4097, 0.0), (4101, 0.0), (4104, 0.0), (4105, 0.0), (4106, 0.0), (4107, 0.0), (4108, 0.0), (4110, 0.0), (4111, 0.0), (4113, 0.0), (4115, 0.0), (4120, 0.0), (4123, 0.0), (4124, 0.0), (4125, 0.0), (4126, 0.0), (4127, 0.0), (4129, 0.0), (4132, 0.0), (4133, 0.0), (4134, 0.0), (4135, 0.0), (4136, 0.0), (4137, 0.0), (4138, 0.0), (4140, 0.0), (4141, 0.0), (4145, 0.0), (4146, 0.0), (4147, 0.0), (4149, 0.0), (4150, 0.0), (4151, 0.0), (4155, 0.0), (4156, 0.0), (4157, 0.0), (4159, 0.0), (4161, 0.0), (4162, 0.0), (4163, 0.0), (4164, 0.0), (4167, 0.0), (4170, 0.0), (4172, 0.0), (4173, 0.0), (4175, 0.0), (4176, 0.0), (4177, 0.0), (4178, 0.0), (4179, 0.0), (4180, 0.0), (4182, 0.0), (4183, 0.0), (4184, 0.0), (4187, 0.0), (4189, 0.0), (4190, 0.0), (4191, 0.0), (4192, 0.0), (4197, 0.0), (4198, 0.0), (4201, 0.0), (4203, 0.0), (4204, 0.0), (4205, 0.0), (4206, 0.0), (4208, 0.0), (4209, 0.0), (4212, 0.0), (4213, 0.0), (4214, 0.0), (4215, 0.0), (4216, 0.0), (4217, 0.0), (4219, 0.0), (4220, 0.0), (4222, 0.0), (4223, 0.0), (4225, 0.0), (4226, 0.0), (4227, 0.0), (4228, 0.0), (4229, 0.0), (4230, 0.0), (4231, 0.0), (4232, 0.0), (4234, 0.0), (4235, 0.0), (4237, 0.0), (4239, 0.0), (4243, 0.0), (4245, 0.0), (4246, 0.0), (4247, 0.0), (4251, 0.0), (4252, 0.0), (4253, 0.0), (4254, 0.0), (4256, 0.0), (4257, 0.0), (4258, 0.0), (4259, 0.0), (4260, 0.0), (4262, 0.0), (4265, 0.0), (4267, 0.0), (4271, 0.0), (4273, 0.0), (4278, 0.0), (4279, 0.0), (4280, 0.0), (4281, 0.0), (4282, 0.0), (4284, 0.0), (4286, 0.0), (4287, 0.0), (4290, 0.0), (4291, 0.0), (4295, 0.0), (4296, 0.0), (4297, 0.0), (4298, 0.0), (4301, 0.0), (4304, 0.0), (4306, 0.0), (4308, 0.0), (4309, 0.0), (4311, 0.0), (4313, 0.0), (4314, 0.0), (4315, 0.0), (4316, 0.0), (4317, 0.0), (4318, 0.0), (4319, 0.0), (4320, 0.0), (4321, 0.0), (4322, 0.0), (4324, 0.0), (4326, 0.0), (4327, 0.0), (4329, 0.0), (4330, 0.0), (4331, 0.0), (4332, 0.0), (4333, 0.0), (4335, 0.0), (4336, 0.0), (4337, 0.0), (4340, 0.0), (4342, 0.0), (4348, 0.0), (4349, 0.0), (4352, 0.0), (4354, 0.0), (4355, 0.0), (4356, 0.0), (4357, 0.0), (4358, 0.0), (4359, 0.0), (4360, 0.0), (4361, 0.0), (4362, 0.0), (4363, 0.0), (4366, 0.0), (4367, 0.0), (4368, 0.0), (4369, 0.0), (4370, 0.0), (4371, 0.0), (4372, 0.0), (4375, 0.0), (4377, 0.0), (4381, 0.0), (4382, 0.0), (4385, 0.0), (4386, 0.0), (4387, 0.0), (4394, 0.0), (4396, 0.0), (4397, 0.0), (4398, 0.0), (4399, 0.0), (4400, 0.0), (4402, 0.0), (4403, 0.0), (4407, 0.0), (4408, 0.0), (4409, 0.0), (4411, 0.0), (4412, 0.0), (4413, 0.0), (4414, 0.0), (4415, 0.0), (4416, 0.0), (4417, 0.0), (4420, 0.0), (4421, 0.0), (4422, 0.0), (4423, 0.0), (4424, 0.0), (4425, 0.0), (4426, 0.0), (4427, 0.0), (4431, 0.0), (4433, 0.0), (4437, 0.0), (4438, 0.0), (4441, 0.0), (4442, 0.0), (4445, 0.0), (4446, 0.0), (4448, 0.0), (4449, 0.0), (4452, 0.0), (4458, 0.0), (4459, 0.0), (4460, 0.0), (4461, 0.0), (4463, 0.0), (4464, 0.0), (4465, 0.0), (4469, 0.0), (4470, 0.0), (4471, 0.0), (4473, 0.0), (4474, 0.0), (4475, 0.0), (4476, 0.0), (4479, 0.0), (4480, 0.0), (4483, 0.0), (4484, 0.0), (4485, 0.0), (4488, 0.0), (4495, 0.0), (4496, 0.0), (4497, 0.0), (4498, 0.0), (4499, 0.0), (4500, 0.0), (4502, 0.0), (4504, 0.0), (4505, 0.0), (4507, 0.0), (4508, 0.0), (4510, 0.0), (4511, 0.0), (4512, 0.0), (4513, 0.0), (4514, 0.0), (4517, 0.0), (4518, 0.0), (4520, 0.0), (4521, 0.0), (4522, 0.0), (4524, 0.0), (4525, 0.0), (4527, 0.0), (4528, 0.0), (4530, 0.0), (4532, 0.0), (4536, 0.0), (4537, 0.0), (4538, 0.0), (4539, 0.0), (4540, 0.0), (4541, 0.0), (4542, 0.0), (4544, 0.0), (4554, 0.0), (4555, 0.0), (4556, 0.0), (4558, 0.0), (4559, 0.0), (4560, 0.0), (4561, 0.0), (4562, 0.0), (4563, 0.0), (4565, 0.0), (4571, 0.0), (4572, 0.0), (4574, 0.0), (4575, 0.0), (4577, 0.0), (4578, 0.0), (4579, 0.0), (4580, 0.0), (4582, 0.0), (4583, 0.0), (4584, 0.0), (4585, 0.0), (4592, 0.0), (4593, 0.0), (4594, 0.0), (4595, 0.0), (4596, 0.0), (4598, 0.0), (4599, 0.0), (4602, 0.0), (4603, 0.0), (4604, 0.0), (4610, 0.0), (4611, 0.0), (4612, 0.0), (4615, 0.0), (4616, 0.0), (4617, 0.0), (4618, 0.0), (4620, 0.0), (4621, 0.0), (4625, 0.0), (4627, 0.0), (4628, 0.0), (4632, 0.0), (4633, 0.0), (4634, 0.0), (4635, 0.0), (4636, 0.0), (4637, 0.0), (4639, 0.0), (4640, 0.0), (4644, 0.0), (4645, 0.0), (4651, 0.0), (4652, 0.0), (4654, 0.0), (4655, 0.0), (4657, 0.0), (4662, 0.0), (4664, 0.0), (4665, 0.0), (4668, 0.0), (4669, 0.0), (4671, 0.0), (4675, 0.0), (4678, 0.0), (4679, 0.0), (4680, 0.0), (4681, 0.0), (4685, 0.0), (4686, 0.0), (4687, 0.0), (4689, 0.0), (4691, 0.0), (4692, 0.0), (4693, 0.0), (4694, 0.0), (4695, 0.0), (4696, 0.0), (4699, 0.0), (4700, 0.0), (4701, 0.0), (4702, 0.0), (4704, 0.0), (4706, 0.0), (4707, 0.0), (4711, 0.0), (4712, 0.0), (4713, 0.0), (4715, 0.0), (4717, 0.0), (4718, 0.0), (4719, 0.0), (4721, 0.0), (4722, 0.0), (4724, 0.0), (4728, 0.0), (4729, 0.0), (4731, 0.0), (4732, 0.0), (4734, 0.0), (4735, 0.0), (4738, 0.0), (4744, 0.0), (4746, 0.0), (4748, 0.0), (4749, 0.0), (4750, 0.0), (4751, 0.0), (4753, 0.0), (4755, 0.0), (4757, 0.0), (4758, 0.0), (4759, 0.0)]\n"
          ]
        }
      ],
      "source": [
        "#sorting the movies based on their similarity score\n",
        "Sorted_Similar_Movies = sorted(Recommendation_Score, key =lambda x:x[1], reverse =True)\n",
        "print(Sorted_Similar_Movies)"
      ]
    },
    {
      "cell_type": "code",
      "execution_count": 72,
      "metadata": {
        "colab": {
          "base_uri": "https://localhost:8080/"
        },
        "id": "dT3yQtWA93aB",
        "outputId": "3cf1d508-3886-4687-f599-ce9ed504f64f"
      },
      "outputs": [
        {
          "output_type": "stream",
          "name": "stdout",
          "text": [
            "Top 30 movies: \n",
            "\n",
            "1 . Star Wars\n",
            "2 . The Empire Strikes Back\n",
            "3 . Return of the Jedi\n",
            "4 . On Her Majesty's Secret Service\n",
            "5 . Lawrence of Arabia\n",
            "6 . The Helix... Loaded\n",
            "7 . Back to the Future Part III\n",
            "8 . When Harry Met Sally...\n",
            "9 . Ender's Game\n",
            "10 . Rise of the Guardians\n",
            "11 . An Inconvenient Truth\n",
            "12 . Indiana Jones and the Kingdom of the Crystal Skull\n",
            "13 . Ultramarines: A Warhammer 40,000 Movie\n",
            "14 . Hollywood Homicide\n",
            "15 . Star Wars: Episode III - Revenge of the Sith\n",
            "16 . Force 10 from Navarone\n",
            "17 . Fetching Cody\n",
            "18 . The Departed\n",
            "19 . Timecop\n",
            "20 . The Adventures of Tintin\n",
            "21 . The Shadow\n",
            "22 . Indiana Jones and the Last Crusade\n",
            "23 . The Conversation\n",
            "24 . Raise the Titanic\n",
            "25 . The Time Machine\n",
            "26 . The Bridge on the River Kwai\n",
            "27 . Along Came a Spider\n",
            "28 . Green Lantern\n",
            "29 . The Man Who Shot Liberty Valance\n",
            "30 . K-19: The Widowmaker\n"
          ]
        }
      ],
      "source": [
        "print('Top 30 movies: \\n')\n",
        "\n",
        "i = 1\n",
        "\n",
        "for movie in Sorted_Similar_Movies:\n",
        "  index = movie[0]\n",
        "  title_from_index = df[df.index==index]['Movie_Title'].values[0]\n",
        "  if (i<31):\n",
        "    print(i, '.', title_from_index)\n",
        "    i+=1"
      ]
    },
    {
      "cell_type": "markdown",
      "source": [
        "**Top 10 Movie Recommendations**"
      ],
      "metadata": {
        "id": "cyQJ_GEL7Ia7"
      }
    },
    {
      "cell_type": "code",
      "source": [],
      "metadata": {
        "id": "D-H8KLYD-fDm"
      },
      "execution_count": 72,
      "outputs": []
    },
    {
      "cell_type": "code",
      "execution_count": 74,
      "metadata": {
        "id": "cgylm5Oi-cW1",
        "colab": {
          "base_uri": "https://localhost:8080/"
        },
        "outputId": "b615ce28-c58a-4245-9881-45d9db6712ef"
      },
      "outputs": [
        {
          "output_type": "stream",
          "name": "stdout",
          "text": [
            " Enter your favourite movie name : Four Rooms\n",
            "Top 10 Movies suggested for you : \n",
            "\n",
            "1 . ['Four Rooms']\n",
            "2 . ['Marie Antoinette']\n",
            "3 . ['The Empire Strikes Back']\n",
            "4 . ['You Only Live Twice']\n",
            "5 . ['Lethal Weapon 4']\n",
            "6 . ['She Done Him Wrong']\n",
            "7 . ['Star Trek: Generations']\n",
            "8 . [\"Bridget Jones's Diary\"]\n",
            "9 . ['The Watch']\n",
            "10 . ['Some Guy Who Kills People']\n"
          ]
        }
      ],
      "source": [
        "Movie_Name = input(' Enter your favourite movie name : ')\n",
        "list_of_all_titles = df['Movie_Title'].tolist()\n",
        "Find_Close_Match = difflib.get_close_matches(Movie_Name, list_of_all_titles)\n",
        "Close_Match = Find_Close_Match[0]\n",
        "Index_of_Movie = df[df.Movie_Title == Close_Match]['Movie_ID'].values[0]\n",
        "Recommendation_Score = list(enumerate(Similarity_Score[Index_of_Movie]))\n",
        "Sorted_similar_Movies = sorted(Recommendation_Score, key = lambda x:x[1], reverse = True)\n",
        "print('Top 10 Movies suggested for you : \\n' )\n",
        "i=1\n",
        "\n",
        "for movie in Sorted_similar_Movies:\n",
        "  index = movie[0]\n",
        "  title_from_index = df[df.Movie_ID==index]['Movie_Title'].values\n",
        "  if (i<11):\n",
        "    print(i, '.',title_from_index)\n",
        "    i+=1"
      ]
    }
  ],
  "metadata": {
    "colab": {
      "provenance": [],
      "include_colab_link": true
    },
    "kernelspec": {
      "display_name": "Python 3",
      "name": "python3"
    },
    "language_info": {
      "codemirror_mode": {
        "name": "ipython",
        "version": 3
      },
      "file_extension": ".py",
      "mimetype": "text/x-python",
      "name": "python",
      "nbconvert_exporter": "python",
      "pygments_lexer": "ipython3",
      "version": "3.11.5"
    }
  },
  "nbformat": 4,
  "nbformat_minor": 0
}